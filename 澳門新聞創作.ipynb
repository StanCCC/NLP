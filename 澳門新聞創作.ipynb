{
  "cells": [
    {
      "cell_type": "code",
      "execution_count": 4,
      "metadata": {
        "id": "zPHJe4k-NJHD"
      },
      "outputs": [],
      "source": [
        "import requests\n",
        "from bs4 import BeautifulSoup\n",
        "import datetime\n",
        "from lxml import etree\n",
        "import pandas as pd \n",
        "from IPython.core.interactiveshell import InteractiveShell\n",
        "InteractiveShell.ast_node_interactivity = \"all\" "
      ]
    },
    {
      "cell_type": "code",
      "execution_count": 5,
      "metadata": {
        "id": "KJqxHEGPEvg4"
      },
      "outputs": [],
      "source": [
        "# 一年中所有的日期\n",
        "def get_date_list(start,end):\n",
        "    start_year, start_month, start_day=start.split(\"/\")\n",
        "    end_year, end_month, end_day= end.split(\"/\")\n",
        "    begin = datetime.date(int(start_year), int(start_month), int(start_day))\n",
        "    end = datetime.date(int(end_year), int(end_month), int(end_day))\n",
        "    delta = datetime.timedelta(days=1)\n",
        "    days = []\n",
        "    while begin <= end:\n",
        "        days.append(begin.strftime(\"%Y-%m-%d\"))\n",
        "        begin += delta\n",
        "    date_list=list(map(lambda x: x.replace(\"-\",\"/\" ).replace(\"/\",\"-\",1), days))\n",
        "    return date_list\n",
        "\n",
        "\n"
      ]
    },
    {
      "cell_type": "code",
      "execution_count": 6,
      "metadata": {
        "id": "eXeSyiidExy5"
      },
      "outputs": [],
      "source": [
        "def get_content(date,node_name,title,link):\n",
        "    headers = {\n",
        "        'User-Agent': 'Mozilla/5.0 (Windows NT 10.0; Win64; x64) AppleWebKit/537.36 (KHTML, like Gecko) Chrome/112.0.0.0 Safari/537.36'}\n",
        "    resp = requests.get(url=link, headers=headers)\n",
        "    resp.encoding = 'utf-8'\n",
        "    html = etree.HTML(resp.text)\n",
        "    try:\n",
        "        content='\\n'.join(html.xpath('//div[@id=\"ozoom\"]//p//text()'))\n",
        "    except AttributeError:\n",
        "        content=''       \n",
        "    return [date,node_name,title,link,content]\n",
        "\n",
        "\n",
        "\n",
        "def news(start, end):\n",
        "    date_list=get_date_list(start, end)\n",
        "    #print(date_list[0:5])\n",
        "    result=[]\n",
        "    for date in date_list:\n",
        "        url=f'http://www.macaodaily.com/html/{date}/node_1.htm'\n",
        "        headers={'User-Agent': 'Mozilla/5.0 (Windows NT 10.0; Win64; x64) AppleWebKit/537.36 (KHTML, like Gecko) Chrome/112.0.0.0 Safari/537.36'}\n",
        "        resp=requests.get(url=url,headers=headers)\n",
        "        resp.encoding='utf-8'\n",
        "        html=etree.HTML(resp.text)\n",
        "        #每个版块\n",
        "        h_list=html.xpath('//div[@class=\"list\"]/div/h4')\n",
        "        d_list=html.xpath('//div[@class=\"list\"]/div/div')\n",
        "        for h ,d in zip(h_list,d_list):\n",
        "            node_name=''.join(h.xpath('.//a/text()'))\n",
        "            #print(node_name)\n",
        "            li_list=d.xpath('./ul/li')\n",
        "            for li in li_list:\n",
        "                title=''.join(li.xpath('.//a/text()'))\n",
        "                link=f'http://www.macaodaily.com/html/{date}/'+''.join(li.xpath('.//a/@href'))\n",
        "                print(date,node_name,title,link)\n",
        "                r=get_content(date, node_name, title, link)\n",
        "                result.append(r)\n",
        "    news_df=pd.DataFrame(result)\n",
        "    news_df.columns=['date', 'node_name', 'title', 'link','content']\n",
        "    print(news_df)\n",
        "    return news_df\n"
      ]
    },
    {
      "cell_type": "code",
      "execution_count": 7,
      "metadata": {
        "colab": {
          "base_uri": "https://localhost:8080/"
        },
        "id": "N43HLssJk5ok",
        "outputId": "83c0c5f7-3b16-4118-871c-8d6f11b03e42"
      },
      "outputs": [
        {
          "name": "stdout",
          "output_type": "stream",
          "text": [
            "2020-10/01 A09：要聞 李：堅定信心直面挑戰 http://www.macaodaily.com/html/2020-10/01/content_1465113.htm\n",
            "2020-10/01 A09：要聞 向人民英雄敬獻花籃儀式京舉行 http://www.macaodaily.com/html/2020-10/01/content_1465114.htm\n",
            "2020-10/01 A09：要聞 （社論）復興之路　　 無人能阻 http://www.macaodaily.com/html/2020-10/01/content_1465115.htm\n",
            "2020-10/01 A10：經濟 餐飲推優惠  冀黃金周扳回八成生意 http://www.macaodaily.com/html/2020-10/01/content_1465116.htm\n",
            "2020-10/01 A10：經濟 八月進口貨值升16% http://www.macaodaily.com/html/2020-10/01/content_1465117.htm\n",
            "2020-10/01 A10：經濟 香港華人3.2億售澳門華人20%股權 http://www.macaodaily.com/html/2020-10/01/content_1465118.htm\n",
            "2020-10/01 A10：經濟 內地長假航空需求料增一成 http://www.macaodaily.com/html/2020-10/01/content_1465119.htm\n",
            "2020-10/01 A10：經濟 餐飲行業協會推動智慧轉型 http://www.macaodaily.com/html/2020-10/01/content_1465120.htm\n",
            "2020-10/01 A10：經濟 八月新車登記少4.6% http://www.macaodaily.com/html/2020-10/01/content_1465121.htm\n",
            "2020-10/01 A10：經濟 百五企參與新濠中小企學院培訓 http://www.macaodaily.com/html/2020-10/01/content_1465122.htm\n",
            "2020-10/01 A10：經濟 （一家之言）培育技能 助行業結構轉型 http://www.macaodaily.com/html/2020-10/01/content_1465123.htm\n",
            "2020-10/01 A11：經濟 新策助煞車  房價漲幅料降至4.8% http://www.macaodaily.com/html/2020-10/01/content_1465124.htm\n",
            "2020-10/01 A11：經濟 拿地審慎 加速推盤房價承壓 http://www.macaodaily.com/html/2020-10/01/content_1465125.htm\n",
            "2020-10/01 A11：經濟 穗第三季賣地攬金600億增七成 http://www.macaodaily.com/html/2020-10/01/content_1465126.htm\n",
            "2020-10/01 A11：經濟 內地產業鏈綜合優勢無可取代 http://www.macaodaily.com/html/2020-10/01/content_1465127.htm\n",
            "2020-10/01 A11：經濟 阿里雲明年扭虧為盈 http://www.macaodaily.com/html/2020-10/01/content_1465128.htm\n",
            "2020-10/01 A11：經濟 九月內地製造業PMI景氣改善 http://www.macaodaily.com/html/2020-10/01/content_1465129.htm\n",
            "2020-10/01 A11：經濟 疫情捲土重來 歐元再度受壓 http://www.macaodaily.com/html/2020-10/01/content_1465130.htm\n",
            "2020-10/01 A11：經濟 疫情再度來襲 澳元上行乏力 http://www.macaodaily.com/html/2020-10/01/content_1465131.htm\n",
            "2020-10/01 A15：澳聞 交局：巴士財援須符指標 http://www.macaodaily.com/html/2020-10/01/content_1465142.htm\n",
            "2020-10/01 A15：澳聞 兩巴：陸續更換環保車 http://www.macaodaily.com/html/2020-10/01/content_1465143.htm\n",
            "2020-10/01 A15：澳聞 交局：已訂系列措施迎客 http://www.macaodaily.com/html/2020-10/01/content_1465144.htm\n",
            "2020-10/01 A15：澳聞 當局促加強巴士保養 http://www.macaodaily.com/html/2020-10/01/content_1465145.htm\n",
            "2020-10/01 A15：澳聞 大排車龍 http://www.macaodaily.com/html/2020-10/01/content_1465146.htm\n",
            "2020-10/01 A15：澳聞 衛局回收一消化藥物 http://www.macaodaily.com/html/2020-10/01/content_1465147.htm\n",
            "2020-10/01 A15：澳聞 梁孫旭籲免費停泊延年底 http://www.macaodaily.com/html/2020-10/01/content_1465148.htm\n",
            "2020-10/01 A15：澳聞 李振宇促做好可行性研究 http://www.macaodaily.com/html/2020-10/01/content_1465149.htm\n",
            "2020-10/01 A15：澳聞 衛局國慶中秋假期就診安排 http://www.macaodaily.com/html/2020-10/01/content_1465150.htm\n",
            "2020-10/01 A16：要聞 美大選首辯特朗普慘敗 http://www.macaodaily.com/html/2020-10/01/content_1465132.htm\n",
            "2020-10/01 A16：要聞 美網民：像幼園小童打架 http://www.macaodaily.com/html/2020-10/01/content_1465133.htm\n",
            "2020-10/01 A16：要聞 特拜辯論展示美政壇低俗化 http://www.macaodaily.com/html/2020-10/01/content_1465134.htm\n",
            "2020-10/01 B01：澳聞 國慶逢中秋天涯共此時 http://www.macaodaily.com/html/2020-10/01/content_1465151.htm\n",
            "2020-10/01 B01：澳聞 珠免費穿梭巴分流旅客 http://www.macaodaily.com/html/2020-10/01/content_1465152.htm\n",
            "2020-10/01 B01：澳聞 歐陽瑜指示教局加強監管 http://www.macaodaily.com/html/2020-10/01/content_1465153.htm\n",
            "2020-10/01 B01：澳聞 黃司：加派人手保通關順暢 http://www.macaodaily.com/html/2020-10/01/content_1465154.htm\n",
            "2020-10/01 B02：澳聞 工展會今起漁人碼頭舉行 http://www.macaodaily.com/html/2020-10/01/content_1465102.htm\n",
            "2020-10/01 B02：澳聞 直播室助推商家產品 http://www.macaodaily.com/html/2020-10/01/content_1465103.htm\n",
            "2020-10/01 B02：澳聞 體驗比賽鼓勵中小學生參與 http://www.macaodaily.com/html/2020-10/01/content_1465104.htm\n",
            "2020-10/01 B02：澳聞 國際女藝術家雙年展開幕 http://www.macaodaily.com/html/2020-10/01/content_1465105.htm\n",
            "2020-10/01 B02：澳聞 澳門記憶線上展國慶牌樓 http://www.macaodaily.com/html/2020-10/01/content_1465106.htm\n",
            "2020-10/01 B02：澳聞 婆仔屋中秋晩會熱鬧 http://www.macaodaily.com/html/2020-10/01/content_1465107.htm\n",
            "2020-10/01 B06：澳聞 黑沙歷奇營短期開展規劃 http://www.macaodaily.com/html/2020-10/01/content_1465163.htm\n",
            "2020-10/01 B06：澳聞 市諮委關注市政綠化海濱建設 http://www.macaodaily.com/html/2020-10/01/content_1465164.htm\n",
            "2020-10/01 B06：澳聞 林宇滔促落實TNR減流浪動物 http://www.macaodaily.com/html/2020-10/01/content_1465165.htm\n",
            "2020-10/01 B06：澳聞 市諮委冀加強管理閒置地 http://www.macaodaily.com/html/2020-10/01/content_1465166.htm\n",
            "2020-10/01 B06：澳聞 市諮委倡保留歷史設考古點 http://www.macaodaily.com/html/2020-10/01/content_1465168.htm\n",
            "2020-10/01 B06：澳聞 SY部落籲節日玩樂拒絕毒品 http://www.macaodaily.com/html/2020-10/01/content_1465169.htm\n",
            "2020-10/01 B06：澳聞 王健任警察總局長助理 http://www.macaodaily.com/html/2020-10/01/content_1465171.htm\n",
            "2020-10/01 B06：澳聞 林智龍曾冠雄任中葡平台發委會成員 http://www.macaodaily.com/html/2020-10/01/content_1465172.htm\n",
            "2020-10/01 B07：澳聞 海關再搗水客店檢逾百萬貨 http://www.macaodaily.com/html/2020-10/01/content_1465167.htm\n",
            "2020-10/01 B07：澳聞 蓮花杯微型小說賽果揭曉 http://www.macaodaily.com/html/2020-10/01/content_1465170.htm\n",
            "2020-10/01 B07：澳聞 今多雲雷雨 http://www.macaodaily.com/html/2020-10/01/content_1465173.htm\n",
            "2020-10/01 B07：澳聞 （新聞小語）克盡己責 善用公帑 http://www.macaodaily.com/html/2020-10/01/content_1465174.htm\n",
            "2020-10/01 B08：澳聞 節慶燈飾光影迎客來 http://www.macaodaily.com/html/2020-10/01/content_1465175.htm\n",
            "2020-10/01 B08：澳聞 內地高校澳生原創歌曲賀國慶 http://www.macaodaily.com/html/2020-10/01/content_1465176.htm\n",
            "2020-10/01 B09：要聞 神州喜慶迎雙節 http://www.macaodaily.com/html/2020-10/01/content_1465108.htm\n",
            "2020-10/01 B09：要聞 習：共建萬物和諧美麗家園 http://www.macaodaily.com/html/2020-10/01/content_1465109.htm\n",
            "2020-10/01 B09：要聞 國慶長假南方雨水多 http://www.macaodaily.com/html/2020-10/01/content_1465110.htm\n",
            "2020-10/01 B09：要聞 南京大屠殺倖存者秋上牛首山 http://www.macaodaily.com/html/2020-10/01/content_1465111.htm\n",
            "2020-10/01 B09：要聞 三亞十萬一晚房間被搶空 http://www.macaodaily.com/html/2020-10/01/content_1465112.htm\n",
            "2020-10/01 B12：要聞 美F-35B撞加油機墜毀 http://www.macaodaily.com/html/2020-10/01/content_1465135.htm\n",
            "2020-10/01 B12：要聞 巴黎巨響係戰機突破音障 http://www.macaodaily.com/html/2020-10/01/content_1465136.htm\n",
            "2020-10/01 B12：要聞 美俄州挾持人質三死 http://www.macaodaily.com/html/2020-10/01/content_1465137.htm\n",
            "2020-10/01 B12：要聞 食腦蟲再現美消毒供水系統 http://www.macaodaily.com/html/2020-10/01/content_1465138.htm\n",
            "2020-10/01 B12：要聞 停止餵哺 http://www.macaodaily.com/html/2020-10/01/content_1465139.htm\n",
            "2020-10/01 B12：要聞 兩嫌犯擬燒法《查理周刊》總部 http://www.macaodaily.com/html/2020-10/01/content_1465140.htm\n",
            "2020-10/01 B12：要聞 澳華簡訊 http://www.macaodaily.com/html/2020-10/01/content_1465141.htm\n",
            "2020-10/01 C01：體育 利物浦再秤“仙” http://www.macaodaily.com/html/2020-10/01/content_1465046.htm\n",
            "2020-10/01 C01：體育 熱刺聯賽盃點殺車仔 http://www.macaodaily.com/html/2020-10/01/content_1465047.htm\n",
            "2020-10/01 C01：體育 阿仙奴三鬥利物浦 http://www.macaodaily.com/html/2020-10/01/content_1465048.htm\n",
            "2020-10/01 C01：體育 熱刺乘勝追擊海法 http://www.macaodaily.com/html/2020-10/01/content_1465049.htm\n",
            "2020-10/01 C01：體育 R戴亞斯過檔曼城 http://www.macaodaily.com/html/2020-10/01/content_1465050.htm\n",
            "2020-10/01 C02：體育 初團乒紅藍A奪冠 http://www.macaodaily.com/html/2020-10/01/content_1465051.htm\n",
            "2020-10/01 C02：體育 學界成本地籃壇少林寺 http://www.macaodaily.com/html/2020-10/01/content_1465052.htm\n",
            "2020-10/01 C02：體育 巴塞強攻切爾達 http://www.macaodaily.com/html/2020-10/01/content_1465053.htm\n",
            "2020-10/01 C02：體育 法網次圈細威傷退 http://www.macaodaily.com/html/2020-10/01/content_1465054.htm\n",
            "2020-10/01 C02：體育 快艇李華士分手 http://www.macaodaily.com/html/2020-10/01/content_1465055.htm\n",
            "2020-10/01 C02：體育 曼聯提價購辛祖再被拒 http://www.macaodaily.com/html/2020-10/01/content_1465056.htm\n",
            "2020-10/01 C03：澳聞 中總籲認識雙循環發展融灣區 http://www.macaodaily.com/html/2020-10/01/content_1465057.htm\n",
            "2020-10/01 C03：澳聞 羅司：新設交通燈需時調整 http://www.macaodaily.com/html/2020-10/01/content_1465058.htm\n",
            "2020-10/01 C03：澳聞 社保供款可電子支付 http://www.macaodaily.com/html/2020-10/01/content_1465059.htm\n",
            "2020-10/01 C03：澳聞 青年高峰論壇探討疫後轉變 http://www.macaodaily.com/html/2020-10/01/content_1465060.htm\n",
            "2020-10/01 C03：澳聞 連鎖商會穗交流收穫豐 http://www.macaodaily.com/html/2020-10/01/content_1465061.htm\n",
            "2020-10/01 C04：澳聞 澳常委出席粵政協會議聽報吿 http://www.macaodaily.com/html/2020-10/01/content_1465062.htm\n",
            "2020-10/01 C04：澳聞 學者倡續降建築規劃限高 http://www.macaodaily.com/html/2020-10/01/content_1465063.htm\n",
            "2020-10/01 C04：澳聞 偷拍轉發社交平台有法律責任 http://www.macaodaily.com/html/2020-10/01/content_1465064.htm\n",
            "2020-10/01 C05：澳聞 澳珠海社團總會捐珠十六萬 http://www.macaodaily.com/html/2020-10/01/content_1465065.htm\n",
            "2020-10/01 C05：澳聞 中聯辦肯定公總工作 http://www.macaodaily.com/html/2020-10/01/content_1465066.htm\n",
            "2020-10/01 C05：澳聞 禪政協澳委員迎國慶賀中秋座談 http://www.macaodaily.com/html/2020-10/01/content_1465067.htm\n",
            "2020-10/01 C05：澳聞 設身處地妥處的士裝機 http://www.macaodaily.com/html/2020-10/01/content_1465068.htm\n",
            "2020-10/01 C05：澳聞 陝西團體向多社團派香米 http://www.macaodaily.com/html/2020-10/01/content_1465069.htm\n",
            "2020-10/01 C05：澳聞 全城慈善歌舞演唱會籌款 http://www.macaodaily.com/html/2020-10/01/content_1465070.htm\n",
            "2020-10/01 C05：澳聞 公務退協訪瑞金僑聯交流 http://www.macaodaily.com/html/2020-10/01/content_1465071.htm\n",
            "2020-10/01 C05：澳聞 公民教育親子營效果佳 http://www.macaodaily.com/html/2020-10/01/content_1465073.htm\n",
            "2020-10/01 C05：澳聞 工聯粵曲折子戲敬老 http://www.macaodaily.com/html/2020-10/01/content_1465074.htm\n",
            "2020-10/01 C05：澳聞 澳醫學美容協出席中整協分會 http://www.macaodaily.com/html/2020-10/01/content_1465076.htm\n",
            "2020-10/01 C05：澳聞 扶康會Tag動全城一起Run報名 http://www.macaodaily.com/html/2020-10/01/content_1465079.htm\n",
            "2020-10/01 C06：澳聞 澳大頒獎學金表揚優秀畢業生 http://www.macaodaily.com/html/2020-10/01/content_1465075.htm\n",
            "2020-10/01 C06：澳聞 黑沙環青年中心興趣班報名 http://www.macaodaily.com/html/2020-10/01/content_1465077.htm\n",
            "2020-10/01 C06：澳聞 大專生見習及實習計劃報名 http://www.macaodaily.com/html/2020-10/01/content_1465078.htm\n",
            "2020-10/01 C06：澳聞 Hide One's Light Under a Bushel——深藏不露 http://www.macaodaily.com/html/2020-10/01/content_1465080.htm\n",
            "2020-10/01 C07：要聞 海峽論壇簽八十項目逾卅億 http://www.macaodaily.com/html/2020-10/01/content_1465081.htm\n",
            "2020-10/01 C07：要聞 陸：“修憲謀獨”必自焚 http://www.macaodaily.com/html/2020-10/01/content_1465082.htm\n",
            "2020-10/01 C07：要聞 台男赴廈確診新冠 http://www.macaodaily.com/html/2020-10/01/content_1465083.htm\n",
            "2020-10/01 C07：要聞 台胞赴釣島維權受阻 http://www.macaodaily.com/html/2020-10/01/content_1465084.htm\n",
            "2020-10/01 C07：要聞 陸：“九二共識”無人能翻 http://www.macaodaily.com/html/2020-10/01/content_1465085.htm\n",
            "2020-10/01 C08：要聞 阿亞持續交火近百人亡 http://www.macaodaily.com/html/2020-10/01/content_1465086.htm\n",
            "2020-10/01 C08：要聞 科威特元首薩巴赫逝世 http://www.macaodaily.com/html/2020-10/01/content_1465087.htm\n",
            "2020-10/01 C08：要聞 戈爾巴喬夫：蘇聯還在世界更安全 http://www.macaodaily.com/html/2020-10/01/content_1465088.htm\n",
            "2020-10/01 C08：要聞 美數民主黨人拒見巴雷特 http://www.macaodaily.com/html/2020-10/01/content_1465089.htm\n",
            "2020-10/01 C09：要聞 今年“首虎”張志南雙開 http://www.macaodaily.com/html/2020-10/01/content_1465090.htm\n",
            "2020-10/01 C09：要聞 中方駁國產新冠疫苗貴過歐美 http://www.macaodaily.com/html/2020-10/01/content_1465091.htm\n",
            "2020-10/01 C09：要聞 運砂船陽江翻扣十人失聯 http://www.macaodaily.com/html/2020-10/01/content_1465092.htm\n",
            "2020-10/01 C11：澳聞 工聯倡海灣街建行人道拓寬馬路 http://www.macaodaily.com/html/2020-10/01/content_1465093.htm\n",
            "2020-10/01 C11：澳聞 三宗交通意外四傷 http://www.macaodaily.com/html/2020-10/01/content_1465094.htm\n",
            "2020-10/01 C11：澳聞 新聞特搜 http://www.macaodaily.com/html/2020-10/01/content_1465095.htm\n",
            "2020-10/01 C11：澳聞 康公廟現管理糾紛各執一詞 http://www.macaodaily.com/html/2020-10/01/content_1465096.htm\n",
            "2020-10/01 C11：澳聞 男子疑濫用半掛車牌押後判 http://www.macaodaily.com/html/2020-10/01/content_1465097.htm\n",
            "2020-10/01 C11：澳聞 內地女疑墮求助詐騙失七千 http://www.macaodaily.com/html/2020-10/01/content_1465098.htm\n",
            "2020-10/01 C11：澳聞 女莊荷涉用逝者醫券待判 http://www.macaodaily.com/html/2020-10/01/content_1465099.htm\n",
            "2020-10/01 C11：澳聞 珠海警破六千萬走私香煙案 http://www.macaodaily.com/html/2020-10/01/content_1465100.htm\n",
            "2020-10/01 C11：澳聞 讀者捐款 http://www.macaodaily.com/html/2020-10/01/content_1465101.htm\n",
            "2020-10/01 C12：要聞 美病例升至近七百四十萬 http://www.macaodaily.com/html/2020-10/01/content_1465042.htm\n",
            "2020-10/01 C12：要聞 中國永不缺席！ http://www.macaodaily.com/html/2020-10/01/content_1465043.htm\n",
            "2020-10/01 C12：要聞 美迪士尼炒兩萬八人 http://www.macaodaily.com/html/2020-10/01/content_1465044.htm\n",
            "2020-10/01 C12：要聞 印度副總統確診 http://www.macaodaily.com/html/2020-10/01/content_1465045.htm\n",
            "2020-10/01 D01：藝海 施匡翹未留陰影 http://www.macaodaily.com/html/2020-10/01/content_1464963.htm\n",
            "2020-10/01 D01：藝海 朱智賢謝東閔情不變 http://www.macaodaily.com/html/2020-10/01/content_1464967.htm\n",
            "2020-10/01 D01：藝海 樂基兒心廣體胖唔戒口 http://www.macaodaily.com/html/2020-10/01/content_1464971.htm\n",
            "2020-10/01 D01：藝海 黃婉佩宣佈懷第二胎 http://www.macaodaily.com/html/2020-10/01/content_1464976.htm\n",
            "2020-10/01 D01：藝海 準亞姐燒烤慶中秋 http://www.macaodaily.com/html/2020-10/01/content_1464982.htm\n",
            "2020-10/01 D01：藝海 霍汶希賀祖兒出道廿一周年 http://www.macaodaily.com/html/2020-10/01/content_1464984.htm\n",
            "2020-10/01 D02：藝海 朱主愛為瘦忍口 http://www.macaodaily.com/html/2020-10/01/content_1464964.htm\n",
            "2020-10/01 D02：藝海 范逸臣疑與田中千繪同居 http://www.macaodaily.com/html/2020-10/01/content_1464966.htm\n",
            "2020-10/01 D02：藝海 徐若瑄新片入圍東京影展 http://www.macaodaily.com/html/2020-10/01/content_1464969.htm\n",
            "2020-10/01 D02：藝海 孟耿如鼓勵年輕人逐夢 http://www.macaodaily.com/html/2020-10/01/content_1464972.htm\n",
            "2020-10/01 D02：藝海 盧廣仲自揭厚劉海之謎 http://www.macaodaily.com/html/2020-10/01/content_1464974.htm\n",
            "2020-10/01 D02：藝海 小哈利曝光紗裙照 http://www.macaodaily.com/html/2020-10/01/content_1464977.htm\n",
            "2020-10/01 D02：藝海 林峰王浩信爭視帝 http://www.macaodaily.com/html/2020-10/01/content_1464979.htm\n",
            "2020-10/01 D02：藝海 素顏加眞情演出的《在一起》 http://www.macaodaily.com/html/2020-10/01/content_1464981.htm\n",
            "2020-10/01 D03：藝海 思男冀多方面發展 http://www.macaodaily.com/html/2020-10/01/content_1465036.htm\n",
            "2020-10/01 D03：藝海 《勝疫後相逢》登陸TDM綜藝頻道 http://www.macaodaily.com/html/2020-10/01/content_1465037.htm\n",
            "2020-10/01 D03：藝海 Lighter為光影節街頭演出 http://www.macaodaily.com/html/2020-10/01/content_1465038.htm\n",
            "2020-10/01 D03：藝海 《風火台》講“心出發 · 遊澳門” http://www.macaodaily.com/html/2020-10/01/content_1465039.htm\n",
            "2020-10/01 D03：藝海 《澳門人·澳門事》介紹鐘錶博物館 http://www.macaodaily.com/html/2020-10/01/content_1465040.htm\n",
            "2020-10/01 D03：藝海 澳廣視直播豐富國慶活動 http://www.macaodaily.com/html/2020-10/01/content_1465041.htm\n",
            "2020-10/01 D04：藝海 瑪麗亞嘉兒談與籮霸結怨 http://www.macaodaily.com/html/2020-10/01/content_1464968.htm\n",
            "2020-10/01 D04：藝海 莉莉詹姆絲自嘲男仔頭欠溫柔 http://www.macaodaily.com/html/2020-10/01/content_1464973.htm\n",
            "2020-10/01 D04：藝海 格雷諾頓轟同志跳貼身舞嘔心 http://www.macaodaily.com/html/2020-10/01/content_1464975.htm\n",
            "2020-10/01 D04：藝海 竹內結子猝逝打擊太大 http://www.macaodaily.com/html/2020-10/01/content_1464978.htm\n",
            "2020-10/01 D04：藝海 山口達也累隊友重組無望 http://www.macaodaily.com/html/2020-10/01/content_1464983.htm\n",
            "2020-10/01 D04：藝海 《獅子王》拍續集換導演 http://www.macaodaily.com/html/2020-10/01/content_1464985.htm\n",
            "2020-10/01 D04：藝海 視事關心 http://www.macaodaily.com/html/2020-10/01/content_1464988.htm\n",
            "2020-10/01 D04：藝海 澳門電視節目表 http://www.macaodaily.com/html/2020-10/01/content_1464990.htm\n",
            "2020-10/01 E01：醒目家 用家參與設計的家具 http://www.macaodaily.com/html/2020-10/01/content_1465032.htm\n",
            "2020-10/01 E01：醒目家 為主子DIY復古貓窩 http://www.macaodaily.com/html/2020-10/01/content_1465033.htm\n",
            "2020-10/01 E01：醒目家 自家種植有機菜可以這樣玩 http://www.macaodaily.com/html/2020-10/01/content_1465034.htm\n",
            "2020-10/01 E01：醒目家 人月兩團圓 http://www.macaodaily.com/html/2020-10/01/content_1465035.htm\n",
            "2020-10/01 E04：演藝 剛柔《殺四門》派場戲 http://www.macaodaily.com/html/2020-10/01/content_1464995.htm\n",
            "2020-10/01 E04：演藝 早餐中的滿漢全席 http://www.macaodaily.com/html/2020-10/01/content_1464996.htm\n",
            "2020-10/01 E04：演藝 不朽的雨中漫舞 http://www.macaodaily.com/html/2020-10/01/content_1464997.htm\n",
            "2020-10/01 E04：演藝 《屍殺半島》遠遜前作 http://www.macaodaily.com/html/2020-10/01/content_1464998.htm\n",
            "2020-10/01 E04：演藝 不一樣的讀劇 http://www.macaodaily.com/html/2020-10/01/content_1464999.htm\n",
            "2020-10/01 E04：演藝 別出心裁的刑事日劇 http://www.macaodaily.com/html/2020-10/01/content_1465000.htm\n",
            "2020-10/01 E04：演藝 一步一腳印  不斷氣 http://www.macaodaily.com/html/2020-10/01/content_1465001.htm\n",
            "2020-10/01 E05：港聞 林鄭：國安法助港重回正軌 http://www.macaodaily.com/html/2020-10/01/content_1465002.htm\n",
            "2020-10/01 E05：港聞 駱惠寧：與國同興建好香港 http://www.macaodaily.com/html/2020-10/01/content_1465003.htm\n",
            "2020-10/01 E05：港聞 安老院再爆疫全院檢疫 http://www.macaodaily.com/html/2020-10/01/content_1465004.htm\n",
            "2020-10/01 E05：港聞 販毒猛於新冠 http://www.macaodaily.com/html/2020-10/01/content_1465005.htm\n",
            "2020-10/01 E08：馬經 喜晉配強值得吼緊 http://www.macaodaily.com/html/2020-10/01/content_1465006.htm\n",
            "2020-10/01 E08：馬經 健而快周末開勝門 http://www.macaodaily.com/html/2020-10/01/content_1465007.htm\n",
            "2020-10/01 E08：馬經 樹大招峰有意搏殺 http://www.macaodaily.com/html/2020-10/01/content_1465008.htm\n",
            "2020-10/01 E08：馬經 又見冬祝看高一線 http://www.macaodaily.com/html/2020-10/01/content_1465009.htm\n",
            "2020-10/01 E08：馬經 一切順利有權即食 http://www.macaodaily.com/html/2020-10/01/content_1465010.htm\n",
            "2020-10/01 E08：馬經 志在四方可見真章 http://www.macaodaily.com/html/2020-10/01/content_1465011.htm\n",
            "2020-10/01 E09：新園地 （隨筆）我們的“江湖” http://www.macaodaily.com/html/2020-10/01/content_1465012.htm\n",
            "2020-10/01 E09：新園地 （西窗小語）泰王生於美國長於瑞士 http://www.macaodaily.com/html/2020-10/01/content_1465013.htm\n",
            "2020-10/01 E09：新園地 （聲色點擊）向一根柱致敬 http://www.macaodaily.com/html/2020-10/01/content_1465014.htm\n",
            "2020-10/01 E09：新園地 （斷章寫義）鐵面無私的公正？ http://www.macaodaily.com/html/2020-10/01/content_1465015.htm\n",
            "2020-10/01 E09：新園地 （句句是甘）什麽叫萬死不辭？ http://www.macaodaily.com/html/2020-10/01/content_1465016.htm\n",
            "2020-10/01 E09：新園地 （榕樹頭）社會大學 http://www.macaodaily.com/html/2020-10/01/content_1465017.htm\n",
            "2020-10/01 E09：新園地 （亂世備忘）忐忑的黃金周 http://www.macaodaily.com/html/2020-10/01/content_1465018.htm\n",
            "2020-10/01 E09：新園地 （筆雯集）褻瀆了西施 http://www.macaodaily.com/html/2020-10/01/content_1465019.htm\n",
            "2020-10/01 E09：新園地 （夢裡聽風）木筏燈塔沙灘和熱烈地活着 http://www.macaodaily.com/html/2020-10/01/content_1465020.htm\n",
            "2020-10/01 E10：要聞 華春瑩批美不民主 http://www.macaodaily.com/html/2020-10/01/content_1465021.htm\n",
            "2020-10/01 E10：要聞 環時：極其囂張的挑釁 http://www.macaodaily.com/html/2020-10/01/content_1465022.htm\n",
            "2020-10/01 E10：要聞 華批美副卿言論“愚蠢” http://www.macaodaily.com/html/2020-10/01/content_1465023.htm\n",
            "2020-10/01 E10：要聞 莫信偏方 http://www.macaodaily.com/html/2020-10/01/content_1465024.htm\n",
            "2020-10/01 E12：樂與聲 Chord Huei微處理控制小唱放 http://www.macaodaily.com/html/2020-10/01/content_1465025.htm\n",
            "2020-10/01 E12：樂與聲 學生與老師的暗殺約定 http://www.macaodaily.com/html/2020-10/01/content_1465026.htm\n",
            "2020-10/01 E12：樂與聲 鉅片缺席的疫下黃金周 http://www.macaodaily.com/html/2020-10/01/content_1465027.htm\n",
            "2020-10/01 E12：樂與聲 拉赫曼尼諾夫作品特集 http://www.macaodaily.com/html/2020-10/01/content_1465028.htm\n",
            "2020-10/01 E12：樂與聲 喜見舞台音樂會重現 http://www.macaodaily.com/html/2020-10/01/content_1465029.htm\n",
            "2020-10/01 E12：樂與聲 樂壇滾熱辣 http://www.macaodaily.com/html/2020-10/01/content_1465030.htm\n",
            "2020-10/01 E12：樂與聲 猛料ＤＶＤ http://www.macaodaily.com/html/2020-10/01/content_1465031.htm\n",
            "2020-10/02 A01：澳聞 政府擬增二百億過年關 http://www.macaodaily.com/html/2020-10/02/content_1465337.htm\n",
            "2020-10/02 A01：澳聞 賀：發揮雙循環平台作用 http://www.macaodaily.com/html/2020-10/02/content_1465338.htm\n",
            "2020-10/02 A01：澳聞 賀稱正商延核檢有效期 http://www.macaodaily.com/html/2020-10/02/content_1465339.htm\n",
            "2020-10/02 A02：澳聞 特區國慶升旗禮簡約莊嚴 http://www.macaodaily.com/html/2020-10/02/content_1465346.htm\n",
            "2020-10/02 A02：澳聞 雙慶首日各口岸順暢 http://www.macaodaily.com/html/2020-10/02/content_1465347.htm\n",
            "2020-10/02 A02：澳聞 國慶中秋喜相逢 http://www.macaodaily.com/html/2020-10/02/content_1465348.htm\n",
            "2020-10/02 A02：澳聞 長假首日未見內地客湧澳 http://www.macaodaily.com/html/2020-10/02/content_1465349.htm\n",
            "2020-10/02 A03：澳聞 小城慶雙節歡聲處處聞 http://www.macaodaily.com/html/2020-10/02/content_1465259.htm\n",
            "2020-10/02 A03：澳聞 齊慶雙節 http://www.macaodaily.com/html/2020-10/02/content_1465260.htm\n",
            "2020-10/02 A03：澳聞 國慶牌樓展示國家建設成就 http://www.macaodaily.com/html/2020-10/02/content_1465261.htm\n",
            "2020-10/02 A04：要聞 五星紅旗閃耀太空 http://www.macaodaily.com/html/2020-10/02/content_1465262.htm\n",
            "2020-10/02 A04：要聞 習促助婦女擺脫疫情影響 http://www.macaodaily.com/html/2020-10/02/content_1465263.htm\n",
            "2020-10/02 A04：要聞 九萬民眾天安門觀升旗 http://www.macaodaily.com/html/2020-10/02/content_1465264.htm\n",
            "2020-10/02 A04：要聞 我雙航母“合體”獻祝福 http://www.macaodaily.com/html/2020-10/02/content_1465265.htm\n",
            "2020-10/02 A04：要聞 天問一號如何太空自拍？ http://www.macaodaily.com/html/2020-10/02/content_1465266.htm\n",
            "2020-10/02 A04：要聞 玉兔二號發來中秋祝福 http://www.macaodaily.com/html/2020-10/02/content_1465267.htm\n",
            "2020-10/02 A05：要聞 多地大塞車竟釣魚解悶 http://www.macaodaily.com/html/2020-10/02/content_1465356.htm\n",
            "2020-10/02 A05：要聞 長假首日全國接待近億遊客 http://www.macaodaily.com/html/2020-10/02/content_1465357.htm\n",
            "2020-10/02 A05：要聞 有人開車一夜未離穗 http://www.macaodaily.com/html/2020-10/02/content_1465358.htm\n",
            "2020-10/02 A05：要聞 藏網紅苦撐十六天離世 http://www.macaodaily.com/html/2020-10/02/content_1465359.htm\n",
            "2020-10/02 A06：澳聞 張榮順三建議勉匯智社 http://www.macaodaily.com/html/2020-10/02/content_1465325.htm\n",
            "2020-10/02 A06：澳聞 歐陽瑜勉文創業界走出去 http://www.macaodaily.com/html/2020-10/02/content_1465326.htm\n",
            "2020-10/02 A06：澳聞 福總之秋系列活動頒獎 http://www.macaodaily.com/html/2020-10/02/content_1465327.htm\n",
            "2020-10/02 A06：澳聞 塔石行車隧道亟需維修 http://www.macaodaily.com/html/2020-10/02/content_1465328.htm\n",
            "2020-10/02 A06：澳聞 泌尿外科學會舉行學術年會 http://www.macaodaily.com/html/2020-10/02/content_1465329.htm\n",
            "2020-10/02 A06：澳聞 澳晉青珠考察收穫豐 http://www.macaodaily.com/html/2020-10/02/content_1465330.htm\n",
            "2020-10/02 A06：澳聞 團體中秋敬老 http://www.macaodaily.com/html/2020-10/02/content_1465331.htm\n",
            "2020-10/02 A06：澳聞 隆都同鄉會探訪創會理監事 http://www.macaodaily.com/html/2020-10/02/content_1465333.htm\n",
            "2020-10/02 A07：澳聞 非凡航空貸款難追回 http://www.macaodaily.com/html/2020-10/02/content_1465332.htm\n",
            "2020-10/02 A07：澳聞 工會法待社協討論後諮詢 http://www.macaodaily.com/html/2020-10/02/content_1465334.htm\n",
            "2020-10/02 A07：澳聞 廉署調查拆六國飯店有否違規 http://www.macaodaily.com/html/2020-10/02/content_1465335.htm\n",
            "2020-10/02 A07：澳聞 疫下慳啲使  官方酒會移主場 http://www.macaodaily.com/html/2020-10/02/content_1465336.htm\n",
            "2020-10/02 A08：要聞 教皇拒見蓬佩奧 http://www.macaodaily.com/html/2020-10/02/content_1465268.htm\n",
            "2020-10/02 A08：要聞 特朗普自誇辯論表現 http://www.macaodaily.com/html/2020-10/02/content_1465269.htm\n",
            "2020-10/02 A08：要聞 民主黨擬全力攻擊特逃稅 http://www.macaodaily.com/html/2020-10/02/content_1465270.htm\n",
            "2020-10/02 A08：要聞 美總統辯論委員會將改規則 http://www.macaodaily.com/html/2020-10/02/content_1465271.htm\n",
            "2020-10/02 A09：要聞 美次季GDP創歷來最大跌幅 http://www.macaodaily.com/html/2020-10/02/content_1465350.htm\n",
            "2020-10/02 A09：要聞 印度疫情惡化仍加大解封 http://www.macaodaily.com/html/2020-10/02/content_1465351.htm\n",
            "2020-10/02 A09：要聞 英防疫期捕近三百國際逃犯 http://www.macaodaily.com/html/2020-10/02/content_1465352.htm\n",
            "2020-10/02 A09：要聞 巴黎疫情持續惡化 http://www.macaodaily.com/html/2020-10/02/content_1465353.htm\n",
            "2020-10/02 A09：要聞 大馬慶中秋 http://www.macaodaily.com/html/2020-10/02/content_1465354.htm\n",
            "2020-10/02 A09：要聞 （社論）美大選辯論成全球笑柄 http://www.macaodaily.com/html/2020-10/02/content_1465355.htm\n",
            "2020-10/02 A10：經濟 李：短期賭收波動 中長期穩中向好 http://www.macaodaily.com/html/2020-10/02/content_1465272.htm\n",
            "2020-10/02 A10：經濟 經濟波動 失業率短期承壓 http://www.macaodaily.com/html/2020-10/02/content_1465273.htm\n",
            "2020-10/02 A10：經濟 採購法博彩法修訂明年交立法會 http://www.macaodaily.com/html/2020-10/02/content_1465274.htm\n",
            "2020-10/02 A10：經濟 完善工商發展基金監管審批 http://www.macaodaily.com/html/2020-10/02/content_1465275.htm\n",
            "2020-10/02 A10：經濟 絕味疫市民生區開兩店 http://www.macaodaily.com/html/2020-10/02/content_1465276.htm\n",
            "2020-10/02 A10：經濟 食在廣州打榜 三千餐飲比拼 http://www.macaodaily.com/html/2020-10/02/content_1465277.htm\n",
            "2020-10/02 A10：經濟 黃金周人流稍增  商戶不抱期望 http://www.macaodaily.com/html/2020-10/02/content_1465278.htm\n",
            "2020-10/02 A10：經濟 （一家之言）疫下更須做好修法諮詢 http://www.macaodaily.com/html/2020-10/02/content_1465279.htm\n",
            "2020-10/02 A11：經濟 工展會開鑼  料引數萬觀眾入場 http://www.macaodaily.com/html/2020-10/02/content_1465280.htm\n",
            "2020-10/02 A11：經濟 參展積極 撐澳門製造覓商機 http://www.macaodaily.com/html/2020-10/02/content_1465281.htm\n",
            "2020-10/02 A11：經濟 《澳門現代工業》新書首發 http://www.macaodaily.com/html/2020-10/02/content_1465282.htm\n",
            "2020-10/02 A11：經濟 食品工業製藥業抗逆力強 http://www.macaodaily.com/html/2020-10/02/content_1465283.htm\n",
            "2020-10/02 A11：經濟 廠商會：集中設置工業區有困難 http://www.macaodaily.com/html/2020-10/02/content_1465284.htm\n",
            "2020-10/02 A11：經濟 新股淺析──農夫山泉 http://www.macaodaily.com/html/2020-10/02/content_1465285.htm\n",
            "2020-10/02 A11：經濟 外資加快流入中國債市 http://www.macaodaily.com/html/2020-10/02/content_1465286.htm\n",
            "2020-10/02 A12：要聞 美葬禮遇襲七人中槍 http://www.macaodaily.com/html/2020-10/02/content_1465287.htm\n",
            "2020-10/02 A12：要聞 外媒：華擬對谷歌反壟斷調查 http://www.macaodaily.com/html/2020-10/02/content_1465288.htm\n",
            "2020-10/02 A12：要聞 美加州山火蔓延卅人亡 http://www.macaodaily.com/html/2020-10/02/content_1465289.htm\n",
            "2020-10/02 A12：要聞 孟晚舟引渡案本輪聽證結束 http://www.macaodaily.com/html/2020-10/02/content_1465290.htm\n",
            "2020-10/02 A12：要聞 東京證交所故障暫停交易 http://www.macaodaily.com/html/2020-10/02/content_1465291.htm\n",
            "2020-10/02 B01：澳聞 國際花燈節揭幕寓明天更好 http://www.macaodaily.com/html/2020-10/02/content_1465360.htm\n",
            "2020-10/02 B01：澳聞 民族舞劇《醒·獅》獻演祝國慶 http://www.macaodaily.com/html/2020-10/02/content_1465361.htm\n",
            "2020-10/02 B01：澳聞 戰勝疫情海報展敬抗疫人員 http://www.macaodaily.com/html/2020-10/02/content_1465362.htm\n",
            "2020-10/02 B01：澳聞 中華一家親中秋線上會今首播 http://www.macaodaily.com/html/2020-10/02/content_1465363.htm\n",
            "2020-10/02 B01：澳聞 張司促市政署改善工程驗收 http://www.macaodaily.com/html/2020-10/02/content_1465364.htm\n",
            "2020-10/02 B01：澳聞 氹仔徵地賠償案政府上訴終院 http://www.macaodaily.com/html/2020-10/02/content_1465365.htm\n",
            "2020-10/02 B01：澳聞 公僕調薪研究報告待分析 http://www.macaodaily.com/html/2020-10/02/content_1465366.htm\n",
            "2020-10/02 B01：澳聞 張司：基金改善審批建議年內交 http://www.macaodaily.com/html/2020-10/02/content_1465367.htm\n",
            "2020-10/02 B01：澳聞 本地遊十四萬四千人報名 http://www.macaodaily.com/html/2020-10/02/content_1465368.htm\n",
            "2020-10/02 B01：澳聞 國慶黃金周酒店預訂四成 http://www.macaodaily.com/html/2020-10/02/content_1465369.htm\n",
            "2020-10/02 B02：澳聞 澳大升旗祝國慶莊嚴肅穆 http://www.macaodaily.com/html/2020-10/02/content_1465292.htm\n",
            "2020-10/02 B02：澳聞 科大高管碩士班迎六十新生 http://www.macaodaily.com/html/2020-10/02/content_1465293.htm\n",
            "2020-10/02 B02：澳聞 滬澳聯新生營領略上海文化 http://www.macaodaily.com/html/2020-10/02/content_1465294.htm\n",
            "2020-10/02 B02：澳聞 暨大文化傳承創新中心獲認可 http://www.macaodaily.com/html/2020-10/02/content_1465295.htm\n",
            "2020-10/02 B03：要聞 晉景區大火十三人遇難 http://www.macaodaily.com/html/2020-10/02/content_1465296.htm\n",
            "2020-10/02 B03：要聞 七工程師入選預備航天員 http://www.macaodaily.com/html/2020-10/02/content_1465297.htm\n",
            "2020-10/02 B03：要聞 光與影 http://www.macaodaily.com/html/2020-10/02/content_1465298.htm\n",
            "2020-10/02 B03：要聞 獻禮祖國 http://www.macaodaily.com/html/2020-10/02/content_1465299.htm\n",
            "2020-10/02 B03：要聞 寧數幼江豚探頭露笑臉 http://www.macaodaily.com/html/2020-10/02/content_1465300.htm\n",
            "2020-10/02 B04：要聞 俄美法總統籲亞阿停火 http://www.macaodaily.com/html/2020-10/02/content_1465301.htm\n",
            "2020-10/02 B04：要聞 外媒：歐盟對英採法律行動 http://www.macaodaily.com/html/2020-10/02/content_1465302.htm\n",
            "2020-10/02 B04：要聞 美參院通過臨時預算案 http://www.macaodaily.com/html/2020-10/02/content_1465303.htm\n",
            "2020-10/02 B04：要聞 外電：世貿同意歐盟加美關稅 http://www.macaodaily.com/html/2020-10/02/content_1465304.htm\n",
            "2020-10/02 B05：澳聞 何潤生：促灣區產學硏融合 http://www.macaodaily.com/html/2020-10/02/content_1465305.htm\n",
            "2020-10/02 B05：澳聞 民眾建澳籲遵內地防疫措施 http://www.macaodaily.com/html/2020-10/02/content_1465306.htm\n",
            "2020-10/02 B05：澳聞 電召的士騎士雨中相撞一傷 http://www.macaodaily.com/html/2020-10/02/content_1465307.htm\n",
            "2020-10/02 B05：澳聞 新聞特搜 http://www.macaodaily.com/html/2020-10/02/content_1465308.htm\n",
            "2020-10/02 B05：澳聞 的士疑機件故障冒煙 http://www.macaodaily.com/html/2020-10/02/content_1465309.htm\n",
            "2020-10/02 B05：澳聞 居民疑跨境置業遇騙 http://www.macaodaily.com/html/2020-10/02/content_1465310.htm\n",
            "2020-10/02 B05：澳聞 老翁疑跌倒傷頭 http://www.macaodaily.com/html/2020-10/02/content_1465311.htm\n",
            "2020-10/02 B05：澳聞 讀者捐款 http://www.macaodaily.com/html/2020-10/02/content_1465312.htm\n",
            "2020-10/02 B06：要聞 親民黨批蔡對日軟弱 http://www.macaodaily.com/html/2020-10/02/content_1465313.htm\n",
            "2020-10/02 B06：要聞 中秋連假台人紛外遊 http://www.macaodaily.com/html/2020-10/02/content_1465314.htm\n",
            "2020-10/02 B06：要聞 台抗議日將釣島更名 http://www.macaodaily.com/html/2020-10/02/content_1465315.htm\n",
            "2020-10/02 B06：要聞 兩代台青的中秋味 http://www.macaodaily.com/html/2020-10/02/content_1465316.htm\n",
            "2020-10/02 B06：要聞 台民搭機赴陸須附核檢報告 http://www.macaodaily.com/html/2020-10/02/content_1465317.htm\n",
            "2020-10/02 B06：要聞 大陸軍機中秋續巡台 http://www.macaodaily.com/html/2020-10/02/content_1465318.htm\n",
            "2020-10/02 B06：要聞 人氣火爆 http://www.macaodaily.com/html/2020-10/02/content_1465319.htm\n",
            "2020-10/02 B06：要聞 共繪三峽 http://www.macaodaily.com/html/2020-10/02/content_1465320.htm\n",
            "2020-10/02 B07：澳聞 粵港澳大灣區菜籃子啓動 http://www.macaodaily.com/html/2020-10/02/content_1465321.htm\n",
            "2020-10/02 B07：澳聞 港澳台青年了解南沙發展 http://www.macaodaily.com/html/2020-10/02/content_1465322.htm\n",
            "2020-10/02 B07：澳聞 今明有陽光 http://www.macaodaily.com/html/2020-10/02/content_1465323.htm\n",
            "2020-10/02 B07：澳聞 （新聞小語）拒絕山寨 鼓勵原創 http://www.macaodaily.com/html/2020-10/02/content_1465324.htm\n",
            "2020-10/02 B08：港聞 林鄭：中央保港繁榮護國安 http://www.macaodaily.com/html/2020-10/02/content_1465199.htm\n",
            "2020-10/02 B08：港聞 梁君彥等四人獲大紫荊勳章 http://www.macaodaily.com/html/2020-10/02/content_1465200.htm\n",
            "2020-10/02 B08：港聞 漁船維港巡遊賀國慶中秋 http://www.macaodaily.com/html/2020-10/02/content_1465201.htm\n",
            "2020-10/02 B08：港聞 祝福祖國 http://www.macaodaily.com/html/2020-10/02/content_1465202.htm\n",
            "2020-10/02 B08：港聞 銅鑼灣示威六十二人就逮 http://www.macaodaily.com/html/2020-10/02/content_1465203.htm\n",
            "2020-10/02 B08：港聞 新冠增十例一未明源頭 http://www.macaodaily.com/html/2020-10/02/content_1465204.htm\n",
            "2020-10/02 C01：體育 拜仁3:2絕殺捕“蜂” http://www.macaodaily.com/html/2020-10/02/content_1465205.htm\n",
            "2020-10/02 C01：體育 曼城三彈破般尼 http://www.macaodaily.com/html/2020-10/02/content_1465206.htm\n",
            "2020-10/02 C01：體育 曼聯三蛋送“禮” http://www.macaodaily.com/html/2020-10/02/content_1465207.htm\n",
            "2020-10/02 C01：體育 柏林聯贏“緬”低 http://www.macaodaily.com/html/2020-10/02/content_1465209.htm\n",
            "2020-10/02 C02：體育 湖人滅火響頭炮 http://www.macaodaily.com/html/2020-10/02/content_1465208.htm\n",
            "2020-10/02 C02：體育 艾莎蘭卡爆大冷倒“米” http://www.macaodaily.com/html/2020-10/02/content_1465210.htm\n",
            "2020-10/02 C02：體育 拿度輕鬆擒麥當奴 http://www.macaodaily.com/html/2020-10/02/content_1465211.htm\n",
            "2020-10/02 C02：體育 皇馬小勝華拉度列 http://www.macaodaily.com/html/2020-10/02/content_1465212.htm\n",
            "2020-10/02 C02：體育 卓克要外借覓上陣機會 http://www.macaodaily.com/html/2020-10/02/content_1465214.htm\n",
            "2020-10/02 C03：體育 澳科鄒北記揮師襲警 http://www.macaodaily.com/html/2020-10/02/content_1465213.htm\n",
            "2020-10/02 C03：體育 阿特蘭大輕取拉素 http://www.macaodaily.com/html/2020-10/02/content_1465215.htm\n",
            "2020-10/02 C03：體育 體育精神真實體現 http://www.macaodaily.com/html/2020-10/02/content_1465216.htm\n",
            "2020-10/02 C03：體育 聖日門乘勝擊昂熱 http://www.macaodaily.com/html/2020-10/02/content_1465217.htm\n",
            "2020-10/02 C03：體育 健康諮詢站設祐漢奧體 http://www.macaodaily.com/html/2020-10/02/content_1465218.htm\n",
            "2020-10/02 C03：體育 街波對足球發展起作用？ http://www.macaodaily.com/html/2020-10/02/content_1465219.htm\n",
            "2020-10/02 C03：體育 球壇動態 http://www.macaodaily.com/html/2020-10/02/content_1465220.htm\n",
            "2020-10/02 C04：馬經 又見冬祝大魔王 http://www.macaodaily.com/html/2020-10/02/content_1465221.htm\n",
            "2020-10/02 C04：馬經 高而靜耳目一新 http://www.macaodaily.com/html/2020-10/02/content_1465222.htm\n",
            "2020-10/02 C04：馬經 樹大招峰操足而臨 http://www.macaodaily.com/html/2020-10/02/content_1465223.htm\n",
            "2020-10/02 C04：馬經 荷蘭炮彈機會不弱 http://www.macaodaily.com/html/2020-10/02/content_1465224.htm\n",
            "2020-10/02 C05：消閒 露營小鎮黄金周狂歡 http://www.macaodaily.com/html/2020-10/02/content_1465225.htm\n",
            "2020-10/02 C05：消閒 四季名店極盡奢華 http://www.macaodaily.com/html/2020-10/02/content_1465226.htm\n",
            "2020-10/02 C05：消閒 舊習痛改難回頭 http://www.macaodaily.com/html/2020-10/02/content_1465230.htm\n",
            "2020-10/02 C06：航運 粵澳合作保環澳水域安全 http://www.macaodaily.com/html/2020-10/02/content_1465183.htm\n",
            "2020-10/02 C06：航運 深機場貨運線五大洲全覆蓋 http://www.macaodaily.com/html/2020-10/02/content_1465188.htm\n",
            "2020-10/02 C06：航運 西藏民航開通航線百二條 http://www.macaodaily.com/html/2020-10/02/content_1465192.htm\n",
            "2020-10/02 C06：航運 粵打造立體多元公交體系 http://www.macaodaily.com/html/2020-10/02/content_1465194.htm\n",
            "2020-10/02 C07：新園地 (雜談)開門雜談之醬 http://www.macaodaily.com/html/2020-10/02/content_1465184.htm\n",
            "2020-10/02 C07：新園地 詩二首 http://www.macaodaily.com/html/2020-10/02/content_1465185.htm\n",
            "2020-10/02 C07：新園地 喜獲孫女 http://www.macaodaily.com/html/2020-10/02/content_1465186.htm\n",
            "2020-10/02 C07：新園地 （圖文配）確實的疫情與政府的引導 http://www.macaodaily.com/html/2020-10/02/content_1465187.htm\n",
            "2020-10/02 C07：新園地 （隨筆）讀琦君有感 http://www.macaodaily.com/html/2020-10/02/content_1465189.htm\n",
            "2020-10/02 C07：新園地 （斷章寫義）高水平的兒童文學作家從何談起？ http://www.macaodaily.com/html/2020-10/02/content_1465190.htm\n",
            "2020-10/02 C07：新園地 （二弦）病室中的仁者和勇士 http://www.macaodaily.com/html/2020-10/02/content_1465191.htm\n",
            "2020-10/02 C07：新園地 （古今亂炖）已解憶長安 http://www.macaodaily.com/html/2020-10/02/content_1465193.htm\n",
            "2020-10/02 C07：新園地 （杏林外史）夏侯惇的傷勢 http://www.macaodaily.com/html/2020-10/02/content_1465195.htm\n",
            "2020-10/02 C07：新園地 （筆雯集）悼念至聖的共識 http://www.macaodaily.com/html/2020-10/02/content_1465196.htm\n",
            "2020-10/02 C07：新園地 （一路向南）踏出第一步 http://www.macaodaily.com/html/2020-10/02/content_1465197.htm\n",
            "2020-10/02 C08：小說 金線 http://www.macaodaily.com/html/2020-10/02/content_1465198.htm\n",
            "2020-10/02 D01：藝海 袁嘉敏冇拖拍呻孤伶伶 http://www.macaodaily.com/html/2020-10/02/content_1465227.htm\n",
            "2020-10/02 D01：藝海 陳茵媺與老公非一見鍾情 http://www.macaodaily.com/html/2020-10/02/content_1465228.htm\n",
            "2020-10/02 D01：藝海 五十一歲許晴前凸後翹 http://www.macaodaily.com/html/2020-10/02/content_1465229.htm\n",
            "2020-10/02 D01：藝海 張藝謀嫩妻過卅九歲生日 http://www.macaodaily.com/html/2020-10/02/content_1465231.htm\n",
            "2020-10/02 D01：藝海 胡鴻鈞新碟改唱腔 http://www.macaodaily.com/html/2020-10/02/content_1465232.htm\n",
            "2020-10/02 D01：藝海 章子怡“小汪峰”首曝光 http://www.macaodaily.com/html/2020-10/02/content_1465233.htm\n",
            "2020-10/02 D01：藝海 葉蒨文牛一貼相曬幸福 http://www.macaodaily.com/html/2020-10/02/content_1465235.htm\n",
            "2020-10/02 D02：藝海 陳喬恩凸肚冇腰孕味濃 http://www.macaodaily.com/html/2020-10/02/content_1465234.htm\n",
            "2020-10/02 D02：藝海 王寶强葛優“失散重逢” http://www.macaodaily.com/html/2020-10/02/content_1465236.htm\n",
            "2020-10/02 D02：藝海 劉濤驚艶主持國慶晚會 http://www.macaodaily.com/html/2020-10/02/content_1465237.htm\n",
            "2020-10/02 D02：藝海 黎姿中秋生日皺紋不修圖 http://www.macaodaily.com/html/2020-10/02/content_1465238.htm\n",
            "2020-10/02 D02：藝海 桂綸鎂與男友同入圍金馬 http://www.macaodaily.com/html/2020-10/02/content_1465239.htm\n",
            "2020-10/02 D02：藝海 安以軒慶生騷百萬名錶 http://www.macaodaily.com/html/2020-10/02/content_1465241.htm\n",
            "2020-10/02 D02：藝海 難忘蕭亮靚聲 http://www.macaodaily.com/html/2020-10/02/content_1465242.htm\n",
            "2020-10/02 D02：藝海 阿叻受勳勉勵港人 http://www.macaodaily.com/html/2020-10/02/content_1465243.htm\n",
            "2020-10/02 D03：藝海 《情滿中秋》迎佳節 http://www.macaodaily.com/html/2020-10/02/content_1465240.htm\n",
            "2020-10/02 D03：藝海 三歌手“旅遊日”為經濟復甦打氣 http://www.macaodaily.com/html/2020-10/02/content_1465244.htm\n",
            "2020-10/02 D03：藝海 澳門綜藝播《中華一家親》線上演出會 http://www.macaodaily.com/html/2020-10/02/content_1465245.htm\n",
            "2020-10/02 D03：藝海 非凡響曲藝社今派票 http://www.macaodaily.com/html/2020-10/02/content_1465246.htm\n",
            "2020-10/02 D03：藝海 經典話劇《四世同堂》穗上演 http://www.macaodaily.com/html/2020-10/02/content_1465247.htm\n",
            "2020-10/02 D03：藝海 《澳門人澳門事》介紹廟宇節慶 http://www.macaodaily.com/html/2020-10/02/content_1465248.htm\n",
            "2020-10/02 D03：藝海 澳視澳門播《品味商學V》 http://www.macaodaily.com/html/2020-10/02/content_1465249.htm\n",
            "2020-10/02 D03：藝海 人為財死的高章妙筆 http://www.macaodaily.com/html/2020-10/02/content_1465251.htm\n",
            "2020-10/02 D03：藝海 本地的語言藝術活動 http://www.macaodaily.com/html/2020-10/02/content_1465252.htm\n",
            "2020-10/02 D04：藝海 碧咸嫂奪冠惹質疑 http://www.macaodaily.com/html/2020-10/02/content_1465250.htm\n",
            "2020-10/02 D04：藝海 茱丹唐恩引導兒子睇新聞 http://www.macaodaily.com/html/2020-10/02/content_1465253.htm\n",
            "2020-10/02 D04：藝海 姬絲汀娜拉城個唱再延期 http://www.macaodaily.com/html/2020-10/02/content_1465254.htm\n",
            "2020-10/02 D04：藝海 SJ厲旭女友否認入邪教 http://www.macaodaily.com/html/2020-10/02/content_1465255.htm\n",
            "2020-10/02 D04：藝海 《教父》製作過程拍成電影 http://www.macaodaily.com/html/2020-10/02/content_1465256.htm\n",
            "2020-10/02 D04：藝海 視事關心 http://www.macaodaily.com/html/2020-10/02/content_1465257.htm\n",
            "2020-10/02 D04：藝海 電視節目表 http://www.macaodaily.com/html/2020-10/02/content_1465258.htm\n",
            "           date node_name              title   \n",
            "0    2020-10/01    A09：要聞         李：堅定信心直面挑戰  \\\n",
            "1    2020-10/01    A09：要聞     向人民英雄敬獻花籃儀式京舉行   \n",
            "2    2020-10/01    A09：要聞    （社論）復興之路　　 無人能阻   \n",
            "3    2020-10/01    A10：經濟  餐飲推優惠  冀黃金周扳回八成生意   \n",
            "4    2020-10/01    A10：經濟         八月進口貨值升16%   \n",
            "..          ...       ...                ...   \n",
            "371  2020-10/02    D04：藝海        姬絲汀娜拉城個唱再延期   \n",
            "372  2020-10/02    D04：藝海        SJ厲旭女友否認入邪教   \n",
            "373  2020-10/02    D04：藝海       《教父》製作過程拍成電影   \n",
            "374  2020-10/02    D04：藝海               視事關心   \n",
            "375  2020-10/02    D04：藝海              電視節目表   \n",
            "\n",
            "                                                  link   \n",
            "0    http://www.macaodaily.com/html/2020-10/01/cont...  \\\n",
            "1    http://www.macaodaily.com/html/2020-10/01/cont...   \n",
            "2    http://www.macaodaily.com/html/2020-10/01/cont...   \n",
            "3    http://www.macaodaily.com/html/2020-10/01/cont...   \n",
            "4    http://www.macaodaily.com/html/2020-10/01/cont...   \n",
            "..                                                 ...   \n",
            "371  http://www.macaodaily.com/html/2020-10/02/cont...   \n",
            "372  http://www.macaodaily.com/html/2020-10/02/cont...   \n",
            "373  http://www.macaodaily.com/html/2020-10/02/cont...   \n",
            "374  http://www.macaodaily.com/html/2020-10/02/cont...   \n",
            "375  http://www.macaodaily.com/html/2020-10/02/cont...   \n",
            "\n",
            "                                               content  \n",
            "0        國務院舉行國慶招待會\\n    李：堅定信心直面挑戰\\n    【據新華社北京三十日...  \n",
            "1        向人民英雄敬獻花籃儀式京舉行\\n    【本報駐北京記者王維三十日電】烈士紀念日向人...  \n",
            "2        復興之路　　 無人能阻\\n    七十一年披荆斬棘，七十一載風雨兼程，十四億中國人民...  \n",
            "3        夥拍內地電商\\n    餐飲推優惠  冀黃金周扳回八成生意\\n    【本報消息】隨...  \n",
            "4        八月進口貨值升16%\\n    【本報消息】統計局資料顯示，今年八月進口貨值按年升1...  \n",
            "..                                                 ...  \n",
            "371      姬絲汀娜拉城個唱再延期\\n    去年五月係威係勢踩入拉城舉辦《The Xperie...  \n",
            "372      SJ厲旭女友否認入邪教\\n    韓國長青男團Super Junior成員厲旭與女團...  \n",
            "373      《教父》製作過程拍成電影\\n    七二年的經典電影《教父》(The Godfath...  \n",
            "374  視事關心\\n    兒凶 4：鎖命怨靈\\n    有線 (42) Cinemax今晚十時播映...  \n",
            "375  電視節目表\\n    澳廣視\\n    澳視澳門\\n    13:30  午間新聞\\n   ...  \n",
            "\n",
            "[376 rows x 5 columns]\n"
          ]
        }
      ],
      "source": [
        "\n",
        "start =\"2020/10/01\"\n",
        "end = \"2020/10/02\"\n",
        "news_df=news(start, end)"
      ]
    },
    {
      "cell_type": "code",
      "execution_count": 8,
      "metadata": {},
      "outputs": [],
      "source": [
        "#news_df.to_excel(f\"{start}至{end}\".replace('/','')+'.xlsx',index=False)\n",
        "#news_df.to_excel(\"test.xlsx\",index=False)\n",
        "news_df.to_pickle('./news_df-oneday.pkl')\n",
        "#news_df = pd.read_csv('./news_df.pkl')"
      ]
    },
    {
      "cell_type": "code",
      "execution_count": null,
      "metadata": {},
      "outputs": [],
      "source": []
    },
    {
      "cell_type": "code",
      "execution_count": null,
      "metadata": {},
      "outputs": [],
      "source": []
    },
    {
      "cell_type": "code",
      "execution_count": null,
      "metadata": {},
      "outputs": [],
      "source": []
    },
    {
      "cell_type": "code",
      "execution_count": 9,
      "metadata": {},
      "outputs": [
        {
          "data": {
            "text/plain": [
              "'2.10.1'"
            ]
          },
          "execution_count": 9,
          "metadata": {},
          "output_type": "execute_result"
        }
      ],
      "source": [
        "import tensorflow as tf\n",
        "tf.__version__"
      ]
    },
    {
      "cell_type": "code",
      "execution_count": 1,
      "metadata": {
        "colab": {
          "base_uri": "https://localhost:8080/",
          "height": 423
        },
        "id": "ahB3g4zxE4lo",
        "outputId": "51e8e742-31cb-43c0-bdf3-a4716f4b315c"
      },
      "outputs": [
        {
          "data": {
            "text/plain": [
              "(183720, 7)"
            ]
          },
          "execution_count": 1,
          "metadata": {},
          "output_type": "execute_result"
        }
      ],
      "source": [
        "from IPython.core.interactiveshell import InteractiveShell\n",
        "InteractiveShell.ast_node_interactivity = \"all\" \n",
        "import pandas as pd\n",
        "import numpy as np\n",
        "news_df = pd.read_pickle('./news_df.pkl')\n",
        "news_df.head()\n",
        "news_df.shape"
      ]
    },
    {
      "cell_type": "code",
      "execution_count": 2,
      "metadata": {
        "colab": {
          "base_uri": "https://localhost:8080/"
        },
        "id": "TAM7xyPlgTbi",
        "outputId": "1d0a6d37-4b2d-4edb-d02f-0f38fdf3bbbc"
      },
      "outputs": [
        {
          "data": {
            "text/plain": [
              "array(['A09：要聞', 'A10：經濟', 'A11：經濟', 'A15：澳聞', 'A16：要聞', 'B01：澳聞',\n",
              "       'B02：澳聞', 'B06：澳聞', 'B07：澳聞', 'B08：澳聞', 'B09：要聞', 'B12：要聞',\n",
              "       'C01：體育', 'C02：體育', 'C03：澳聞', 'C04：澳聞', 'C05：澳聞', 'C06：澳聞',\n",
              "       'C07：要聞', 'C08：要聞', 'C09：要聞', 'C11：澳聞', 'C12：要聞', 'D01：藝海',\n",
              "       'D02：藝海', 'D03：藝海', 'D04：藝海', 'E01：醒目家', 'E04：演藝', 'E05：港聞',\n",
              "       'E08：馬經', 'E09：新園地', 'E10：要聞', 'E12：樂與聲', 'A01：澳聞', 'A02：澳聞',\n",
              "       'A03：澳聞', 'A04：要聞', 'A05：要聞', 'A06：澳聞', 'A07：澳聞', 'A08：要聞',\n",
              "       'A12：要聞', 'B03：要聞', 'B04：要聞', 'B05：澳聞', 'B06：要聞', 'B08：港聞',\n",
              "       'C03：體育', 'C04：馬經', 'C05：消閒', 'C06：航運', 'C07：新園地', 'C08：小說',\n",
              "       'A01：要聞', 'B09：馬經', 'B12：馬經', 'C04：新園地', 'C05：姿采', 'C06：攝影',\n",
              "       'C07：祝君健康', 'C08：姿采', 'B01：體育', 'B02：體育', 'B03：體育', 'B08：要聞',\n",
              "       'B09：港聞', 'B10：馬經', 'B11：食經', 'B12：新園地', 'C01：藝海', 'C02：藝海',\n",
              "       'C03：藝海', 'C04：藝海', 'C05：閱讀時間', 'C08：澳門街', 'B05：特刋', 'B09：新園地',\n",
              "       'B10：要聞', 'B11：馬經', 'B12：港聞', 'C05：汽車', 'C06：汽車', 'C07：視野',\n",
              "       'C08：適時識食', 'B08：圖刋', 'B11：要聞', 'C05：消費熱線', 'C06：科技', 'C08：視覺',\n",
              "       'D01：學生報', 'D02：學生報', 'D03：學生報', 'D04：學生報', 'D05：學生報', 'D06：學生報',\n",
              "       'D07：學生報', 'D08：學生報', 'B07：澳聞／特刋', 'B11：新園地', 'C04：鏡海',\n",
              "       'C05：旅遊嘆世界', 'C06：電子競技', 'C07：動漫玩家', 'C08：蓮花廣場', 'A12：經濟',\n",
              "       'C04：樂與聲', 'C05：新園地', 'C06：演藝', 'A12：特刋', 'C03：馬經', 'C07：小說',\n",
              "       'B08：新園地', 'B12：攝影', 'C04：祝君健康', 'C06：姿采', 'B12：澳聞', 'C01：汽車',\n",
              "       'C02：汽車', 'C03：汽車', 'C05：馬經', 'C06：生活', 'C08：教思', 'B12：樂與聲',\n",
              "       'C03：生產力', 'C04：演藝', 'B12：感受澳門', 'C09：馬經', 'B08：馬經', 'C05：食經',\n",
              "       'C06：閱讀時間', 'C07：澳門街', 'B04：體育', 'B10：澳聞', 'B11：澳聞', 'C04：適時識食',\n",
              "       'C05：要聞', 'C06：港聞', 'C07：馬經', 'C09：新園地', 'C10：視野', 'A02：特刋',\n",
              "       'A13：要聞', 'B10：港聞', 'C04：視覺', 'E01：學生報', 'E02：學生報', 'E03：學生報',\n",
              "       'E04：學生報', 'E05：學生報', 'E06：學生報', 'E07：學生報', 'E08：學生報', 'A03：澳聞／特刋',\n",
              "       'A06：澳聞／特刋', 'C08：鏡海', 'C09：蓮花廣場', 'C08：演藝', 'C04：特刋', 'C06：馬經',\n",
              "       'C08：新園地', 'C09：消閒', 'C10：航運', 'C11：小說', 'A08：要聞／特刋', 'C04：攝影',\n",
              "       'D05：祝君健康', 'C07：汽車', 'C09：適時識食', 'B05：要聞', 'B06：圖刋', 'C04：要聞',\n",
              "       'C06：要聞', 'C07：港聞', 'C08：馬經', 'C09：消費熱線', 'C10：科技', 'C11：新園地',\n",
              "       'C12：視覺', 'B10：圖刋', 'B11：港聞', 'C10：鏡海', 'A06：特刋', 'A07：澳聞／特刋',\n",
              "       'C08：生產力', 'C10：樂與聲', 'C12：演藝', 'A12：要聞／特刋', 'A14：澳聞', 'B12：特刋',\n",
              "       'C09：港聞', 'C10：馬經', 'C11：馬經', 'C12：新園地', 'D05：消閒', 'D06：航運',\n",
              "       'D07：小說', 'B12：圖刋', 'C09：姿采', 'C10：攝影', 'C11：祝君健康', 'C12：姿采',\n",
              "       'C08：食經', 'C09：澳門街', 'C02：適時識食', 'C03：新園地', 'C04：汽車', 'C06：視野',\n",
              "       'C04：科技', 'C06：視覺', 'C03：鏡海', 'B10：特刋', 'B11：特刋', 'C08：樂與聲',\n",
              "       'C09：生活', 'D05：新園地', 'C05：攝影', 'C08：祝君健康', 'C10：姿采', 'B09：澳聞',\n",
              "       'C05：港聞', 'C06：教思', 'C07：視覺', 'A03：港聞', 'A07：特刋', 'B02：澳聞／特刋',\n",
              "       'C12：航運', 'D05：小說', 'C06：姿采 ', 'C09：閱讀時間', 'C12：澳門街', 'B04：澳聞',\n",
              "       'A13：澳聞', 'B04：圖刋', 'C09：旅遊嘆世界', 'C11：蓮花廣場', 'C03：港聞', 'C04：港聞',\n",
              "       'C07：圖刋', 'B01：特刋', 'B02：特刋', 'B03：特刋', 'B04：特刋', 'C10：澳聞',\n",
              "       'C11：要聞', 'C12：港聞', 'E01：汽車', 'E02：馬經', 'E03：新園地', 'E04：汽車',\n",
              "       'E05：適時識食', 'E06：教思', 'C06：新園地', 'C07：鏡海', 'C09：澳聞', 'C10：要聞',\n",
              "       'D05：旅遊嘆世界', 'D06：電子競技', 'D07：動漫玩家', 'C09：生產力', 'C04：體育', 'D05：生活',\n",
              "       'C08：港聞', 'C12：小說', 'C06：食經', 'C07：食經', 'C12：閱讀時間', 'B07：澳聞/特刋',\n",
              "       'C09：姿彩', 'C03：要聞', 'C12：澳聞', 'D05：消聞', 'B11：攝影', 'C07：澳聞',\n",
              "       'C08：圖刋', 'E01：澳聞', 'E02：要聞', 'E03：港聞', 'E04：馬經', 'F01：食經',\n",
              "       'F02：食經', 'F03：食經', 'F04：閱讀時間', 'F05：新園地', 'F08：澳門街', 'B05：圖刋',\n",
              "       'C03：教思', 'A02：澳聞/特刋', 'B11：圖刋', 'B10：電子競技', 'B11：動漫玩家',\n",
              "       'C07：蓮花廣場', 'B11：生產力', 'B09：特刋', 'B10：航運', 'C06：祝君健康', 'C07：攝影',\n",
              "       'B08：食經', 'B10：閱讀時間', 'C05：澳門街', 'C03：視野', 'C10：電子競技', 'C11：動漫玩家',\n",
              "       'D07：蓮花廣場', 'D08：鏡海', 'C06：樂與聲', 'C08：澳聞', 'B06：攝影', 'B09：姿采',\n",
              "       'B12：姿采', 'B10：食經', 'C06：適時識食', 'C08：汽車', 'C09：教思', 'C05：醒目家',\n",
              "       'C10：港聞', 'D07：新園地', 'D08：小說', 'C08：視野', 'C11：生產力', 'C06：圖刋',\n",
              "       'C10：新園地', 'B06：港聞', 'B09：攝影', 'B12：祝君健康', 'B06：澳聞／特刋',\n",
              "       'C07：動漫玩家 ', 'E03：要聞', 'E04：澳聞', 'E09：要聞', 'E13：港聞', 'E14：馬經',\n",
              "       'E15：馬經', 'F01：消閒', 'F02：航運', 'F03：新園地', 'F04：小說', 'D05：姿采',\n",
              "       'D06：攝影', 'D07：祝君健康', 'D08：姿采', 'D09：新園地', 'E03：馬經', 'C01：澳聞',\n",
              "       'C02：港聞', 'B02：澳聞/特刋', 'C10：演藝', 'C08：航運', 'C10：小說', 'A05：要聞／特刋',\n",
              "       'B04：澳聞／特刋', 'C05：生活', 'C04：航運 ', 'C09：小說', 'C11：馬經 ', 'C01：食經',\n",
              "       'C02：食經', 'C03：食經', 'C04：食經', 'D05：閱讀時間', 'D08：澳門街', 'B11：要聞／特刋',\n",
              "       'D05：視野', 'D09：蓮花廣場', 'C06：生產力', 'A11：要聞', 'B04：港聞', 'B05：藝海',\n",
              "       'B06：祝君健康', 'B08：藝海', 'B03：港聞', 'B12：閱讀時間', 'B13：澳門街', 'B03：新園地',\n",
              "       'A12：港聞', 'B06：科技', 'B09：消費熱線', 'B10：教思', 'B11：生活', 'B12：視覺',\n",
              "       'A11：澳聞', 'B06：蓮花廣場', 'B09：汽車', 'B10：新園地', 'B11：旅遊嘆世界', 'B12：汽車',\n",
              "       'B10：樂與聲', 'B12：演藝', 'B12：航運', 'B13：馬經', 'B04：新園地', 'B13：祝君健康',\n",
              "       'C03：蓮花廣場', 'C04：生產力', 'C04：航運', 'C12：馬經', 'C08：澳門街 ', 'C03：醒目家',\n",
              "       'D06：祝君健康', 'B05：體育', 'B08：體育', 'D06：蓮花廣場', 'C07：教思', 'B08：樂與聲',\n",
              "       'B11：消閒', 'C05：小說', 'B11：閱讀時間', 'C05：視野', 'B11：攝影 ', 'C08：生活',\n",
              "       'B03：圖刋', 'C06：小說', 'C09：新園地 ', 'B11：科技天地', 'C02：要聞', 'D05：教思',\n",
              "       'B12：科技', 'C06：蓮花廣場', 'B05：港聞', 'B09：食經', 'C02：生活', 'A08：經濟',\n",
              "       'A12：要聞 ', 'C12：蓮花廣場', 'D05：姿采  ', 'C01：要聞', 'C02：閱讀時間', 'C03：澳門街',\n",
              "       'D05：食經', 'D08：食經', 'C10：教思', 'B10：新園地 ', 'B11：視覺', 'C06：鏡海',\n",
              "       'C05：祝君健康', 'B12：澳門街', 'C04：蓮花廣場', 'C05：生產力', 'D06：鏡海', 'E02：圖刋',\n",
              "       'E04：新園地', 'E05：馬經', 'E06：電子競技', 'E07：動漫玩家', 'E08：港聞', 'B12：食經',\n",
              "       'C07：澳門街 ', 'C09：醒目家', 'A08：澳聞', 'B10：馬經 ', 'B05：澳聞／特刋', 'C04：生活',\n",
              "       'C07：生產力', 'B10：姿采', 'B11：姿采', 'C10：蓮花廣場', 'B03：澳聞', 'C05：食經 ',\n",
              "       'C08：鏡海 ', 'C09：蓮花廣場 ', 'C03：攝影', 'A08：圖刋', 'A14：特刋', 'A15：特刋',\n",
              "       'C12：鏡海', 'D05：蓮花廣場', 'E10：樂與聲', 'F01：生活', 'F02：演藝', 'C04：鏡海 ',\n",
              "       'B12：澳門街 ', 'C05：教思', 'B10：科技', 'B09：旅遊嘆世界', 'C03：馬經 ', 'C05：蓮花廣場',\n",
              "       'D01：藝海 ', 'D02：藝海 ', 'B13：要聞', 'B14：港聞', 'B15：新園地', 'B16：航運',\n",
              "       'C01：消閒', 'C01：姿采', 'C02：攝影', 'C03：祝君健康', 'C04：姿采', 'B10：澳聞／特刋',\n",
              "       'B14：要聞', 'B15：港聞', 'B16：要聞', 'C01：旅遊嘆世界', 'C02：電子競技', 'C03：動漫玩家',\n",
              "       'C01：新園地', 'B14：澳聞', 'B15：澳聞', 'B16：港聞', 'C02：航運', 'C04：小說',\n",
              "       'C02：馬經', 'C01：消費熱線', 'C02：科技', 'B13：澳聞', 'B15：馬經', 'B16：新園地',\n",
              "       'C02：醒目家', 'B13：港聞', 'B14：航運', 'B11：消費熱線', 'A11：經濟 ', 'B15：要聞',\n",
              "       'D10：閱讀時間', 'D11：新園地', 'D12：澳門街', 'D13：食經', 'D16：食經', 'C06：科技天地',\n",
              "       'B13：旅遊嘆世界', 'B14：電子競技', 'B15：動漫玩家', 'B16：鏡海', 'C03：消閒', 'C06：攝影 ',\n",
              "       'B09：圖刋', 'A04：澳聞', 'A05：澳聞', 'A09：澳聞', 'B01：要聞', 'B02：要聞',\n",
              "       'B07：要聞', 'B09：體育', 'B10：體育', 'B11：體育', 'A12：澳聞', 'C08：閱讀時間',\n",
              "       'A10：澳聞', 'A14：經濟', 'A15：經濟', 'A16：港聞', 'A07：澳聞/特刋', 'A13：港聞',\n",
              "       'A16：經濟', 'A16：澳聞', 'B06：食經', 'B07：食經', 'B07：圖刋', 'B12：體育',\n",
              "       'B16：馬經', 'B14：馬經', 'C08：蓮花廣場 ', 'B06：馬經', 'B07：馬經', 'A16：新園地',\n",
              "       'B13：新園地', 'B12：鏡海', 'B16：樂與聲', 'C02：澳聞', 'C10：經濟', 'C11：經濟',\n",
              "       'A08：港聞', 'A12：新園地', 'B11：醒目家', 'B16：演藝', 'B13：姿采', 'B16：姿采',\n",
              "       'A09：澳聞／特刋', 'A02：要聞', 'A03：要聞', 'A06：要聞', 'A07：要聞', 'A09：體育',\n",
              "       'A10：體育', 'B10：經濟', 'B11：經濟', 'B13：消閒', 'B14：新園地', 'A06：澳聞/特刋',\n",
              "       'B08：攝影', 'A09：澳聞/特刋', 'B13：體育', 'B14：體育', 'B15：體育', 'B07：新園地',\n",
              "       'B08：醒目家', 'B15：馬經 ', 'A13：特刋', 'A17：澳聞', 'A18：經濟', 'A19：經濟',\n",
              "       'A20：港聞', 'B17：小說', 'B18：馬經', 'B19：馬經', 'B20：航運', 'B16：食經',\n",
              "       'B13：汽車', 'B14：汽車', 'B15：汽車', 'C05：適時識食', 'A17：港聞', 'A20：新園地',\n",
              "       'B07：港聞', 'B14：教思', 'B15：適時識食', 'B16：汽車', 'B13：圖刋', 'A08：特刋',\n",
              "       'A08：澳聞／特刋', 'A11：澳聞／特刋', 'B08：感受澳門', 'B14：食經', 'B15：食經',\n",
              "       'A10：澳聞／特刋', 'B12：適時識食', 'B16：體育', 'A12：澳聞／特刋', 'A20：澳聞', 'A20：經濟',\n",
              "       'B15：特刋', 'C04：圖刋', 'C09：體育', 'C10：體育', 'C11：港聞', 'D05：汽車',\n",
              "       'D06：適時識食', 'D07：教思', 'D08：汽車', 'B08：演藝', 'B08：特刋', 'B06：汽車',\n",
              "       'B07：汽車', 'B16：蓮花廣場', 'B17：消閒', 'B20：小說', 'B08：閱讀時間', 'A13：新園地',\n",
              "       'B12：生產力', 'B13：消費熱線', 'B14：科技', 'B15：視覺', 'C09：視野', 'B16：視覺',\n",
              "       'B14：攝影', 'B16：祝君健康', 'A06：體育', 'A07：體育', 'A11：港聞', 'B06：藝海',\n",
              "       'B07：藝海', 'B15：蓮花廣場', 'A08：體育', 'B09：醒目家', 'C05：藝海', 'C08：藝海',\n",
              "       'B15：祝君健康', 'B14：閱讀時間', 'B15：澳門街', 'B10：汽車', 'B11：汽車', 'B13：視野',\n",
              "       'B16：生活', 'A05：澳聞／特刋', 'B13：蓮花廣場', 'B16：小說', 'B10：攝影', 'A05：體育',\n",
              "       'A10：特刋', 'A10：要聞', 'A13：體育', 'A14：體育', 'A15：體育', 'B15：消費熱線',\n",
              "       'B06：姿采', 'B07：姿采', 'B08：馬經 ', 'B08：科技', 'B08：鏡海', 'B11：蓮花廣場',\n",
              "       'A05：港聞', 'A08：新園地', 'B07：生活', 'A08：澳聞/特刋', 'C01：藝海 ', 'A11：體育',\n",
              "       'C02：藝海 ', 'B16：消閒', 'B13：食經', 'B14：特刋', 'A02：港聞', 'B17：馬經',\n",
              "       'B20：演藝', 'B08：生活', 'B16：生產力', 'A16：特刋', 'B13：閱讀時間', 'B16：澳門街',\n",
              "       'B12：生活', 'B11：科技', 'B12：消閒', 'C06：澳門街', 'C05：演藝', 'A04：特刋',\n",
              "       'B11：教思', 'A12：科技', 'B12：蓮花廣場', 'B13：航運', 'A02：澳聞／特刋', 'B12：視野',\n",
              "       'A06：經濟', 'B06：新園地', 'C02：新園地', 'B07：生產力', 'C02：蓮花廣場', 'C02：澳門街',\n",
              "       'C03：科技', 'C03：航運', 'B11：祝君健康', 'B10：生活', 'A12：攝影', 'A14：澳聞／特刋',\n",
              "       'A18：澳聞', 'A19：澳聞', 'A22：經濟', 'A23：經濟', 'B16：科技', 'A07：經濟',\n",
              "       'A12：澳門街', 'A16：生活', 'B15：小說', 'B15：教思', 'B08：澳門街', 'B08：適時識食',\n",
              "       'B04：廣告', 'B12：教思', 'B13：攝影', 'B14：生活', 'B15：視野', 'A06：圖刋',\n",
              "       'A21：澳聞', 'A24：澳聞', 'D05：攝影', 'D08：祝君健康', 'A12：生活', 'B08：視野',\n",
              "       'B14：經濟', 'B15：經濟', 'B16：攝影', 'A12：食經', 'A12：體育', 'B17：體育',\n",
              "       'B18：體育', 'B20：新園地', 'B13：生產力', 'C12：視野', 'C12：教思', 'A06：特刋（廣告）',\n",
              "       'A03：特刋／澳聞', 'A16：食經', 'B14：消費熱線', 'B15：科技', 'A16：樂與聲', 'B17：航運',\n",
              "       'C12：消閒', 'D05：馬經', 'D08：馬經', 'B17：新園地', 'B20：馬經', 'A16：攝影',\n",
              "       'A08：社團', 'A11：圖刋', 'B15：航運', 'A04：圖刋', 'B13：特刋', 'B16：教思',\n",
              "       'A22：澳聞', 'A23：澳聞', 'A25：澳聞', 'A26：經濟', 'A27：經濟', 'A28：澳聞',\n",
              "       'B08：生產力', 'B08：航運', 'A07：攝影', 'A12：祝君健康', 'B07：閱讀時間', 'A07：港聞',\n",
              "       'A08：汽車', 'A12：視野', 'A08：消費熱線', 'B07：科技', 'B08：視覺', 'A06：澳聞 / 特刋',\n",
              "       'A07：澳聞 / 特刋', 'C03：電漫玩家', 'B11：視野', 'C07：姿采', 'C09：攝影',\n",
              "       'C12：祝君健康', 'A11：視野', 'B14：視覺', 'A12：演藝', 'A12：消閒', 'B11：小說',\n",
              "       'A11：澳門街', 'B13：生活', 'B12：消費熱線', 'A12：閱讀時間', 'A03：特刋', 'A16：航運',\n",
              "       'B12：小說', 'B13：科技', 'B08：消閒', 'B11：航運', 'B07：特刋', 'B07：祝君健康',\n",
              "       'A08：食經', 'A16：演藝', 'D08：視野'], dtype=object)"
            ]
          },
          "execution_count": 2,
          "metadata": {},
          "output_type": "execute_result"
        },
        {
          "data": {
            "text/plain": [
              "(183706,)"
            ]
          },
          "execution_count": 2,
          "metadata": {},
          "output_type": "execute_result"
        },
        {
          "data": {
            "text/plain": [
              "0"
            ]
          },
          "execution_count": 2,
          "metadata": {},
          "output_type": "execute_result"
        },
        {
          "data": {
            "text/plain": [
              "183706"
            ]
          },
          "execution_count": 2,
          "metadata": {},
          "output_type": "execute_result"
        },
        {
          "data": {
            "text/plain": [
              "0"
            ]
          },
          "execution_count": 2,
          "metadata": {},
          "output_type": "execute_result"
        }
      ],
      "source": [
        "news_df=news_df.replace('',np.nan)\n",
        "news_df=news_df.dropna(axis=0, how='any')\n",
        "news_df['node_name'].unique()\n",
        "news_df['content'].shape\n",
        "news_df['content'].isnull().sum()\n",
        "news_df['content'].notna().sum()\n",
        "news_df['content'].isna().sum()"
      ]
    },
    {
      "cell_type": "code",
      "execution_count": 3,
      "metadata": {
        "colab": {
          "base_uri": "https://localhost:8080/"
        },
        "id": "LL4jz8_DE4oA",
        "outputId": "61b131b9-57c0-4669-c055-fcafeee57fc5"
      },
      "outputs": [
        {
          "name": "stderr",
          "output_type": "stream",
          "text": [
            "[nltk_data] Downloading package stopwords to C:\\Users\\STAN-\n",
            "[nltk_data]     DELL\\AppData\\Roaming\\nltk_data...\n",
            "[nltk_data]   Package stopwords is already up-to-date!\n"
          ]
        },
        {
          "data": {
            "text/plain": [
              "True"
            ]
          },
          "execution_count": 3,
          "metadata": {},
          "output_type": "execute_result"
        }
      ],
      "source": [
        "import nltk\n",
        "nltk.download('stopwords')\n",
        "#stopwords_list = stopwords.words('english')\n",
        "from nltk.corpus import names, stopwords, words\n",
        "stopwords_list = stopwords.words('chinese')"
      ]
    },
    {
      "cell_type": "code",
      "execution_count": 4,
      "metadata": {
        "id": "Rd_j2GnEE43Y"
      },
      "outputs": [],
      "source": [
        "import string\n",
        "# Take a string as input and perform the corresponding cleaning\n",
        "def clean(doc): \n",
        "    # Clean up html tags\n",
        "    doc = doc.replace(\"</br>\", \" \")\n",
        "    # remove punctuation and numbers\n",
        "    doc = \"\".join([char for char in doc if char not in string.punctuation and not char.isdigit()])\n",
        "    # remove stopwords\n",
        "    doc = \" \".join([token for token in doc.split() if token not in stopwords_list]) \n",
        "    return doc"
      ]
    },
    {
      "cell_type": "code",
      "execution_count": 5,
      "metadata": {
        "id": "9XCrz088Gq7I"
      },
      "outputs": [],
      "source": [
        "news_df['news_type'] = news_df['node_name'].apply(lambda x: x.split('：')[1])\n",
        "news_df['content'] = news_df['content'].apply(lambda x: x.replace(u'\\xa0', u' '))\n",
        "news_df['content'] = news_df['content'].apply(clean)"
      ]
    },
    {
      "cell_type": "code",
      "execution_count": 6,
      "metadata": {
        "id": "uTae94e-KPH2"
      },
      "outputs": [
        {
          "data": {
            "text/plain": [
              "[['要聞', 47],\n",
              " ['經濟', 39],\n",
              " ['澳聞', 24],\n",
              " ['體育', 63],\n",
              " ['藝海', 45],\n",
              " ['醒目家', 53],\n",
              " ['演藝', 23],\n",
              " ['港聞', 22],\n",
              " ['馬經', 61],\n",
              " ['新園地', 14],\n",
              " ['樂與聲', 17],\n",
              " ['消閒', 21],\n",
              " ['航運', 41],\n",
              " ['小說', 8],\n",
              " ['姿采', 4],\n",
              " ['攝影', 11],\n",
              " ['祝君健康', 36],\n",
              " ['食經', 59],\n",
              " ['閱讀時間', 56],\n",
              " ['澳門街', 28],\n",
              " ['特刋', 30],\n",
              " ['汽車', 18],\n",
              " ['視野', 51],\n",
              " ['適時識食', 52],\n",
              " ['圖刋', 2],\n",
              " ['消費熱線', 20],\n",
              " ['科技', 37],\n",
              " ['視覺', 50],\n",
              " ['學生報', 7],\n",
              " ['澳聞／特刋', 27],\n",
              " ['鏡海', 54],\n",
              " ['旅遊嘆世界', 16],\n",
              " ['電子競技', 57],\n",
              " ['動漫玩家', 0],\n",
              " ['蓮花廣場', 43],\n",
              " ['生活', 33],\n",
              " ['教思', 13],\n",
              " ['生產力', 34],\n",
              " ['感受澳門', 10],\n",
              " ['要聞／特刋', 49],\n",
              " ['姿采 ', 5],\n",
              " ['澳聞/特刋', 26],\n",
              " ['姿彩', 3],\n",
              " ['消聞', 19],\n",
              " ['動漫玩家 ', 1],\n",
              " ['航運 ', 42],\n",
              " ['馬經 ', 62],\n",
              " ['澳門街 ', 29],\n",
              " ['攝影 ', 12],\n",
              " ['新園地 ', 15],\n",
              " ['科技天地', 38],\n",
              " ['要聞 ', 48],\n",
              " ['姿采  ', 6],\n",
              " ['食經 ', 60],\n",
              " ['鏡海 ', 55],\n",
              " ['蓮花廣場 ', 44],\n",
              " ['藝海 ', 46],\n",
              " ['經濟 ', 40],\n",
              " ['廣告', 9],\n",
              " ['特刋（廣告）', 31],\n",
              " ['特刋／澳聞', 32],\n",
              " ['社團', 35],\n",
              " ['澳聞 / 特刋', 25],\n",
              " ['電漫玩家', 58]]"
            ]
          },
          "execution_count": 6,
          "metadata": {},
          "output_type": "execute_result"
        }
      ],
      "source": [
        "from sklearn.preprocessing import LabelEncoder\n",
        "labelencoder = LabelEncoder()\n",
        "a=news_df['news_type'].unique()\n",
        "news_df['news_type_num'] = labelencoder.fit_transform(news_df['news_type'])\n",
        "b=news_df['news_type_num'].unique()\n",
        "label=news_df['news_type_num'].value_counts().shape[0]\n",
        "\n",
        "nodenum=[]\n",
        "for i,j in zip(a,b):\n",
        "  nodenum.append([i,j])\n",
        "\n",
        "nodenum"
      ]
    },
    {
      "cell_type": "code",
      "execution_count": 7,
      "metadata": {
        "colab": {
          "base_uri": "https://localhost:8080/",
          "height": 255
        },
        "id": "_UPQoKXMGq9g",
        "outputId": "eda47a65-1a4b-40e1-8291-569656029a8d"
      },
      "outputs": [
        {
          "data": {
            "text/plain": [
              "47"
            ]
          },
          "execution_count": 7,
          "metadata": {},
          "output_type": "execute_result"
        },
        {
          "data": {
            "text/plain": [
              "'國務院舉行國慶招待會 李：堅定信心直面挑戰 【據新華社北京三十日電】三十日晚，國務院在人民大會堂舉行國慶招待會，熱烈慶祝中華人民共和國成立七十一周年。習近平、李克強、栗戰書、汪洋、王滬寧、趙樂際、韓正、王岐山等黨和國家領導人與近五百位中外人士歡聚一堂，共慶共和國華誕。 人民大會堂宴會廳鮮花綻放，洋溢着熱烈喜慶的節日氣氛。主席台上方，莊嚴的國徽高懸，“－”的大字年號在鮮艷的紅旗映襯下格外醒目。 十七時三十分許，伴隨着歡快的《迎賓曲》，習近平等黨和國家領導人步入宴會廳，全場響起熱烈掌聲。 招待會開始。軍樂團奏響《義勇軍進行曲》，全場起立高唱國歌。國務院總理李克強致辭。他首先代表黨中央、國務院，向全國各族人民致以節日祝賀；向港澳同胞、台灣同胞和海外僑胞致以親切問候；向關心支持中國現代化建設事業的國際友人表示衷心感謝。 頂住壓力恢復增長 李克強說，新中國七十一年的發展史，是中國共產黨團結帶領中國人民篳路藍縷、發憤圖強的奮鬥史，是國家面貌發生巨變、人民生活水平大幅躍升的輝煌史。今年在共和國歷史上極不尋常。面對突如其來的新冠肺炎疫情和世界經濟衰退帶來的嚴重衝擊，在以習近平同志為核心的黨中央堅強領導下，我們統籌推進疫情防控和經濟社會發展，始終把人民生命安全和身體健康擺在第一位，以舉國之力與病魔搏鬥，經過艱苦努力，付出巨大犧牲，取得抗疫鬥爭重大戰略成果。做好“六穩”工作、落實“六保”任務，及時出台紓困規模性政策，創新實施機制直接惠企利民，深化改革開放，穩住經濟基本盤，頂住巨大下行壓力實現了恢復性增長，脫貧攻堅進一步取得顯著成效，人民生活得到有力保障。中國經濟展現出強勁的發展韌性，中國特色社會主義前景廣闊。 努力全面建成小康 李克強指出，當前，我國發展內外部環境發生深刻複雜變化，要堅持以習近平新時代中國特色社會主義思想為指導，立足基本國情，堅持穩中求進，堅定信心，直面挑戰，集中精力辦好自己的事。繼續做好常態化疫情防控，多措並舉助力市場主體度過難關、恢復生機，培育壯大新動能，構建新發展格局，推動高質量發展。築牢民生保障基礎，千方百計增加就業，辦好群眾關切的上學、看病、養老、托幼等方面實事，保障好受疫情、洪澇災害影響的困難群眾生活，確保打贏脫貧攻堅戰。堅定不移深化改革，更大激發市場活力和社會創造力，打造市場化、法治化、國際化營商環境，積極有為推進高水平對外開放。依靠全國上下奮力拼搏，努力實現全年主要目標任務，全面建成小康社會。 堅決維護國家主權 李克強說，我們將繼續堅定不移、全面準確貫徹“一國兩制”、“港人治港”、“澳人治澳”、高度自治的方針，嚴格依照憲法和基本法辦事，完善與憲法和基本法實施相關的制度和機制，推進“一國兩制”實踐行穩致遠。堅持貫徹對台工作大政方針，堅持一個中國原則和“九二共識”，堅決反對和遏制任何“台獨”分裂行徑和外部干涉，加強兩岸交流合作，推進兩岸關係和平發展、融合發展和祖國統一。堅持走和平發展道路，堅決維護國家主權、安全、發展利益，秉持人類命運共同體理念，拓展同各國互利互惠合作，積極參與全球治理體系改革和建設，同國際社會一道，為人類早日戰勝疫情、推動世界經濟復甦作出更大貢獻。 李克強最後說，今天的成就是全體中國人民奮鬥出來的，明天的輝煌還要靠實幹和創造。讓我們更加緊密團結在以習近平同志為核心的黨中央周圍，高舉中國特色社會主義偉大旗幟，克難攻堅、砥礪前行，為把我國建設成為富強民主文明和諧美麗的社會主義現代化強國、實現中華民族偉大復興的中國夢不懈奮鬥！'"
            ]
          },
          "execution_count": 7,
          "metadata": {},
          "output_type": "execute_result"
        },
        {
          "data": {
            "text/plain": [
              "64"
            ]
          },
          "execution_count": 7,
          "metadata": {},
          "output_type": "execute_result"
        }
      ],
      "source": [
        "news_df['news_type_num'][0]\n",
        "news_df['content'][0]\n",
        "int_label=news_df['news_type_num'].value_counts().shape[0]\n",
        "int_label"
      ]
    },
    {
      "cell_type": "code",
      "execution_count": 8,
      "metadata": {},
      "outputs": [],
      "source": [
        "condition1 = news_df['news_type']=='澳聞'\n",
        "macau_news = news_df[condition1]\n",
        "macau_news_content = macau_news['content']\n",
        "a=macau_news_content.apply(lambda x: x.split('【')[0])\n",
        "b=macau_news_content.apply(lambda x: x.split('【')[1:-1])"
      ]
    },
    {
      "cell_type": "code",
      "execution_count": 9,
      "metadata": {},
      "outputs": [
        {
          "data": {
            "text/plain": [
              "19        交局：巴士財援須符指標 擬委第三方機構派神秘嘉賓評鑑乘客滿意度 【本報消息】政府已與兩巴公司...\n",
              "20        兩巴：陸續更換環保車 解釋巴士埋站指引安全為首 【本報消息】新巴士合同規定巴士公司須加大環保...\n",
              "21        交局：已訂系列措施迎客 【本報消息】內地已全面恢復辦理來澳自由行，今日內地開始“十 · 一”...\n",
              "22        巴士漏油事故疑因壓縮泵缸破裂 當局促加強巴士保養 【本報消息】交通事務局訊：就澳門新福利公共...\n",
              "23                 大排車龍 內地黃金周未到，本澳巴士已空群而出，將新馬路擠得水洩不通。 周維勤 攝\n",
              "                                ...                        \n",
              "183947    大橋海關檢獲化妝品鮑魚 三領隊涉借團客走水法辦 【本報消息】拱北海關所屬港珠澳大橋海關於上月...\n",
              "183948    澳門航空澳國際機場參加 民航會議促增強珠澳機場功能 【本報記者廣州三十日電】民航中南地區管理...\n",
              "183949    兩女網購套票遇騙失逾萬 【本報消息】網購門票詐騙頻發，近日再有兩名本地女子“中招”，一人網購...\n",
              "183950    女子倒斃住所廚房死因待檢 【本報消息】昨日早上約九時許，消防及治安警接報水字巷隆盛大廈某單位...\n",
              "183951    新聞特搜 危險挑戰太不應 為求流量賠性命 客流再臨市面旺 竊賊出沒慎提防 △時下流行的某款短...\n",
              "Name: content, Length: 56580, dtype: object"
            ]
          },
          "execution_count": 9,
          "metadata": {},
          "output_type": "execute_result"
        }
      ],
      "source": [
        "macau_news_content"
      ]
    },
    {
      "cell_type": "code",
      "execution_count": 10,
      "metadata": {},
      "outputs": [
        {
          "data": {
            "text/plain": [
              "56580"
            ]
          },
          "execution_count": 10,
          "metadata": {},
          "output_type": "execute_result"
        }
      ],
      "source": [
        "\n",
        "from pandas.core.common import flatten\n",
        "macau_news_content=list(flatten(macau_news_content))\n",
        "macau_news_content=list(flatten(macau_news_content))\n",
        "\n",
        "len(macau_news_content)"
      ]
    },
    {
      "cell_type": "code",
      "execution_count": 11,
      "metadata": {},
      "outputs": [],
      "source": [
        "lyrics =' '.join(row for row in macau_news_content)"
      ]
    },
    {
      "cell_type": "code",
      "execution_count": 11,
      "metadata": {},
      "outputs": [
        {
          "data": {
            "text/plain": [
              "'交局：巴士財援須符指標 擬委第三方機構派神秘嘉賓評鑑乘客滿意度 【本報消息】政府已與兩巴公司簽新合同。交通局昨指出，巴士公司需符合指標才可獲援助，否則會被扣減。巴士公司代表指出，新合同增加調度巴士靈活性，有助尖峰時段疏導乘客。亦會透過調度手段提高效率，控制成本支出。 澳門電台時事節目《澳門講場》昨探討新巴士合同，邀請交通局交通管理廳長曾祥軒、運輸管理處長何振濤，澳巴董事總經理梁美玲，以及新福利副總經理李啟見出席。 曾祥軒介紹，新巴士合同貫徹政府主導、市場運作的模式，並結合近年大衆對巴士服務意見作針對性優化。 評級越差財援越少 有聽衆不認同財政援助模式，主張經營者自負盈虧。曾祥軒表示，一九年巴士平均票價為七元一程，以現時低票價，三、四元一程公司無法抵銷成本。政府認為財政穩健是穩定服務的關鍵因素，故採取財政援助政策，並設定額封頂機制。新合同下，每班車乘車人次和總人次都要符合一九年標準，否則會有扣減機制，車廂越擠迫，則評級越差、財援越少。合同並將公衆評鑑比重由一成提高至四成，引入購買環保車等規定。 被問及新巴士合同財政援助封頂會否有財政壓力？梁美玲表示，財政壓力視乎安排，公司關注的是如何改善民生服務，如何提升市民滿意度。新合同其中一個亮點是可靈活調動車輛，現時可利用實時數據，抽調其他線路巴士，安排中途插入或特班車，讓公司能夠靈活調度疏導乘客，有助提升乘客滿意度。 李啟見稱，新合同給予公司很大靈活性，通過調度手段提高效率，以提升效率控制成本支出，保障運營效果。針對高峰期間上午七時至十時、下午四時至七時，公司會將可容納七十人的巴士換成可容納八十多人的三門巴士，增加運力。 有聽衆反映車長晚上開車太快，以恐怖形容，“扶着欄杆似做健身”。曾祥軒稱，將委托第三方學術機構負責乘客滿意度指標，派神秘嘉賓搭巴士，亦會透過民意調查，以手機App問卷方式讓市民反映乘搭感受，相信可保證評鑑公平公正，有關計劃暫時未有預算，爭取短期內有細則執行定案。 倡車廂裝錄音系統 李啟見表示，近年收到意見主要是巴士急刹和班次問題，急刹方面已使用電子監控，但無奈與電單車碰觸的事故時有發生，呼籲駕駛者保持車距，而班次則受客觀因素影響，期望可獲客觀公平的評鑑。梁美玲稱，澳巴接獲投訴會以錄像分析取證，但車長與乘客爭執取證有困難，將與交通局和個資辦溝通，在巴士車廂內安裝錄音系統，以客觀分析乘客意見。 新合同允巴士公司申請用地作車廠，有聽衆冀新福利盡快搬走青洲的巴士廠。李啟見表示，青洲巴士廠承接近一半維修保養任務，廠內有驗車線，巴士每日要運作及每晚停車檢查維護。公司已採取措施盡量減少對市民的影響，包括早上有部分車不在青洲出廠，日間維修時注意嘈音及燈光等。此外，旅遊塔車廠亦已泊三百多架巴士，基本泊滿，需要幾個廠的用地共同使用才可應付公交服務需求。 兩巴：陸續更換環保車 解釋巴士埋站指引安全為首 【本報消息】新巴士合同規定巴士公司須加大環保車輛投放。新福利表示，或會提前更新新能源車輛，至二○二四年近九成巴士將更換成環保車和新能源車。 澳巴董事總經理梁美玲表示澳巴積極響應環保政策，環保能源巴士包括純電動、天然氣及增程式巴士，澳巴將於二二年更新逾二百五十部巴士，至二○二四年合共更新逾四百部巴士。目前內地普遍使用歐五及純電動巴士，礙於本澳充電樁仍未成熟，加上本澳車型需求大但路面狹窄，待各方成熟後，不排除使用更多新能源巴士。 新福利副總經理李啟見表示，二○一六年已準備嘗試增程式純電動巴士，碳排放量是歐五巴士一成，可透過GPS控制純電動行駛，經過測試，認為較適合本澳使用。新福利未來或會提前更新新能源車輛，至二○二四年近九成巴士將更換成環保車和新能源車。 指引非硬性 此外，有交諮委早前表示當局有指引列明巴士到站後只能開一次門。梁美玲表示，指引不是硬性規定，強調以安全為首。車輛駛離站後不建議車長再開門，在站內安全情況下，大部分車長都會讓乘客上車。如乘客投訴車長“飛站”，公司會取證分析巴士當時是否已離站。 李啟見表示，繁忙時段巴士埋站後不斷有乘客上車，巴士區內原則上安全情況下會讓乘客上車。 交局：已訂系列措施迎客 【本報消息】內地已全面恢復辦理來澳自由行，今日內地開始“十 · 一”黃金周，交通局交通管理廳長曾祥軒表示，已在上周聯同治安警及旅遊局制訂系列交通紓困措施。 措施包括在關閘口岸東側有新佈局，加強排隊秩序疏導旅客；需要時在舊蓮花口岸設候車區；中區南灣時代巴士站往水坑尾方向遷移約一百米，澳門廣場設臨時站等紓緩附近交通壓力。 巴士漏油事故疑因壓縮泵缸破裂 當局促加強巴士保養 【本報消息】交通事務局訊：就澳門新福利公共汽車有限公司一台巴士前日在松山隧道漏機油，涉嫌引起連串交通事故，交通事務局高度關注，已要求新福利全力配合警方調查並做好相關善後安排，以及馬上排查同型號巴士。同時，局方已指示兩巴士公司加強巴士日常檢查和保養，確保道路和公眾安全。 新福利已於昨日向交通事務局提交初步報告，並稱懷疑與該巴士的空氣壓縮機活塞連桿斷裂擊破壓縮泵缸體，引致機油滲漏，新福利會於一個月內向局方提交詳細報告。 大排車龍 內地黃金周未到，本澳巴士已空群而出，將新馬路擠得水洩不通。 周維勤 攝 主成份含量下降低於質量標準 衛局回收一消化藥物 【本報消息】衛生局訊：根據澳門藥物入口商通報，由台灣地區世達藥品工業股份有限公司所生產的一款用於幫助消化的藥物“‘世達’三化錠”TriZyme Tablets SD，由於生產商發現上述藥物有部分批次的主成份含量有下降至低於質量標準的趨勢，可能影響藥物的療效，因此，該藥物生產商自願回收所有批次的上述藥物。 根據入口商提供的資料，有關藥物曾供應給本澳私家診所。衛生局要求本澳診所及有關的藥物產品出入口及批發商號回收所有批次的上述藥物。居民如在私家診所取得上述藥物，可諮詢診所主診醫生意見，以獲適當處理。如有疑問，可於辦公時間致電八五九八 · 三四五三向衛生局藥物事務廳查詢。 港珠澳橋西停車場恢復的士泊車收費 梁孫旭籲免費停泊延年底 【本報消息】交通事務局公佈今日凌晨零時起，港珠澳大橋邊檢大樓西停車場恢復對的士泊車的正常收費。立法議員梁孫旭表示，雖然自八月十二日起，內地赴澳旅遊簽註已逐步恢復，市面人氣逐漸增加，但入境旅客人數與疫前仍相差一大截，的士司機收入仍受到影響。 據業界反映，現時仍有近二百輛的士停放在西停車場。梁孫旭表示，本澳自年初爆發新冠疫情，的士行業遭受衝擊，司機收入銳減；雖近期市面人氣增加，收入有所改善，但旅客與疫前仍相差一大截，的士司機每日收入難支撐供樓供車，有司機甚至在交更後做“水客”維持生計。 此外，基於法律的強制性要求，的士須在今年十二月二日或之前設置車載機，然而安裝設備需支付五千元按金，在目前經濟情況下，相關支出令部分持牌人百上加斤。 梁孫旭表示，希望政府能體恤的士業界苦況，將免費停泊期限延至今年底，並評估的士營運的恢復情況，倘若復甦情況未如理想，冀適時透過其他支援措施，減輕的士業界負擔，協助度過難關。 輕軌東線建造方式惹爭議 李振宇促做好可行性研究 【本報消息】《輕軌東線方案》正公開諮詢，工聯副理事長、議員李振宇認同方案有關走線可有效發揮輕軌系統效益，但對建造方式存疑，冀政府做好工程可行性研究，加強不同建設方案的比較，提供更多信息讓社會討論，優化建設方案。 防水設計規劃 對於有業界人士表示輕軌東線以隧道方式興建會大幅增加工期、造價及維護保養成本，建議建大橋。李振宇認為，社會對於輕軌東線走地下的擔憂部分來自於澳大河底隧道早前出現的問題。澳大河底隧道設計使用年限為一百年，抗震標準達到七度，並稱能抵禦百年一遇潮水高度。惟實際僅使用數年便出現滲水，需進行為期約兩年、耗資近一點九億元的維修工程。雖輕軌公司稱東線車站及隧道有規劃防水設計，結構部分安裝防水層，以兩百年一遇的水位考慮，但仍難以消除社會憂慮。 造價維護成本 社會對於東線走地下另一爭議在於建造及維護成本。李振宇指出，正在建設的澳氹第四條跨海大橋在最初規劃時亦出現橋隧方案的爭論。根據當局公佈橋隧方案對比，隧道造價約為橋樑兩倍，維護保養費用約為橋樑兩點五倍。政府對於輕軌東線造價守口如瓶，僅提及鄰近地區類似工程造價，但相信造價不菲。有工程界人士估計造價或至兩百億元，之後每月保養維修費約一億元。 李振宇稱，早前澳氹第五通道環評公示時，有業界人士指出澳氹中間淤泥層強度相當弱，工程會對鄰近舊大橋造成一定衝擊，指未來第四條跨海大橋及輕軌東線建設都將面對類似問題。 輕軌東線緊鄰第四條跨海大橋，尤其在E區，兩者十分接近，質疑會否對工程建設帶來難度？第四條跨海大橋日前開工建造，工期約三年。東線亦會在今屆政府任期內動工，意味相關海域未來數年將相繼展開兩大型工程，希望政府做好環評，將工程對海洋生態影響降至最低。 衛局國慶中秋假期就診安排 【本報消息】衛生局訊：今日是中華人民共和國國慶日及中秋節、明日是中華人民共和國國慶日翌日及中秋節翌日、十月三日為星期六、十月四日星期日，十月五日（星期一）是行政長官批示公共行政工作人員獲准豁免上班日，政府部門休息。衛生局將維持醫療服務，就診安排如下： 仁伯爵綜合醫院急診服務（包括廿四小時門診）、住院服務、離島急診站如常提供廿四小時服務；血液透析室於十月二日、五日由上午八時至晚上十二時提供服務，十月一日、三日由上午八時至下午九時如常提供服務，十月四日休息；各專科門診、醫院藥房及蓋印處於十月一日、二日、四日及五日期間休息，已預約的特別門診、醫院藥房以及蓋印處於十月三日如常提供服務。 衛生中心方面，黑沙環衛生中心、筷子基衛生中心、青洲衛生中心、塔石衛生中心、海傍衛生中心、風順堂衛生中心、海洋花園衛生中心、湖畔嘉模衛生中心及路環石排灣臨時衛生站將於十月一日至五日上午九時至下午一時提供護理服務；路環衛生站則於十月一日至五日上午九時至下午一時提供護理服務及全日提供醫生傳召服務。 公務員體檢中心、結核病防治中心休息。 捐血中心將於十月一日及二日暫停捐血服務兩天，十月三日、四日及五日如常提供捐血服務。 此外，仁伯爵綜合醫院已於八月三十一日起全面恢復原來每日兩段探病時間，一般病房探病時段分別是每天下午一時至四時及傍晚六時至八時；急症病房探病時段分別是每天中午十二時至下午二時及傍晚六時至八時。除特殊情況外，非探病時間內謝絕探訪。 政府舉行升旗酒會 煙花匯演與眾同歡 國慶逢中秋天涯共此時 【本報消息】國慶中秋喜相逢，難得一遇。特區政府為慶祝新中國成立七十一周年，今舉行隆重升旗儀式及大型酒會，晚上煙花匯演，與眾同歡。鑑於“天氣不似預期”，晚間或有驟雨和雷暴，能否如願賞月，還看天公。 文藝晚會精彩可期 國慶升旗儀式將於今日上午八時在金蓮花廣場隆重舉行，由行政長官賀一誠主禮，中聯辦、外交公署、解放軍駐澳部隊代表，特區立法、司法機關負責人、政府主要官員和社會各界代表將出席觀禮。澳廣視現場直播整個升旗儀式。 上午九時半，特區政府將在中國與葡語國家商貿合作服務平台綜合體舉行大型酒會，與社會各界同賀國慶七十一載。 國慶獻禮之“慶祝中華人民共和國成立七十一周年及濠江月明夜文藝晚會──大型民族舞劇《醒 · 獅》”，今晚七時半在文化中心綜合劇院上演，精彩可期。晚上九時，旅遊塔對出海面將有“月滿琴澳煙花表演”點亮夜空，為國慶活動增色添采。因疫情持續，外出活動或觀演者須注意防疫距離。 燈飾光影照亮社區 今年是疫情下的中秋節。氣象局預期晚上大致多雲，間中有驟雨，初時有幾陣雷暴。儘管如此，料仍有居民選擇到各區公園、廣場、休憩區以至海灘、水塘等戶外地方爭取賞月，樂聚天倫。 市政署一如以往於節日前在各主要街道、廣場、公園、圓形地及富特色建築物佈置好應節燈飾，點綴社區。配合黃金周迎客的光影節，可為大眾歡度中秋提供好去處。今屆國際花燈節如期於今晚六時半在壹號廣場及永利澳門對出海濱長廊開幕，燈飾璀燦。婆仔屋文創空間中秋燈飾昨晚已放亮，為文創區添姿采。 休憩公地禁止煲蠟 今日起是內地國慶黃金周長假期，料辦好簽證的各方旅客陸續經各口岸抵澳，展開疫下澳門之行。交通事務局為方便公眾外出度節，適時延長各巴士路線服務時間。市政署再次提醒居民，公眾地方賞月耍樂須注意安全及環境衛生，大人或小朋友均嚴禁在公眾場所燒蠟及煲蠟，免被檢控。 往返大橋橫琴口岸 減緩拱北通關壓力 珠免費穿梭巴分流旅客 【本報消息】內地一連八天的國慶中秋長假今起啟幕，為防止拱北口岸通關客流扎堆擁堵，珠海今日起開通三條從拱北口岸免費分流穿梭巴士專線往返港珠澳大橋口岸和橫琴口岸，期望藉此減輕拱北口岸的通關壓力。 開通三條免費專線 為應對國慶、中秋長假期間拱北口岸通關旅客可能出現扎堆擁堵，提高通關效率，珠海除較早前規定內地赴澳門的旅遊團隊旅客指定經港珠澳大橋口岸或橫琴口岸出入境外，又先後決定在國慶“黃金周”期間，將開通三條從拱北口岸免費分流穿梭巴士專線往返港珠澳大橋口岸和橫琴口岸，其中一條從拱北口岸通大客運站往返橫琴口岸，另兩條從拱北口岸往來港珠澳大橋口岸，供通關旅客自主選擇乘搭以避開拱北關的輪候人潮。 拱北口岸往返橫琴口岸的免費專線穿梭巴士，起訖站點分別設在拱北口岸廣場北側的通大汽車站及橫琴口岸負一層汽車客運站，由珠海公交信禾長運公司運營，每日營運時間為早上八時至晚上十時，具體班次視客流而定，單程行車時長約半小時，期望能有效分流過關旅客，減緩拱北口岸通行壓力。 橫琴口岸免費泊車 為充分發揮橫琴口岸的服務功能，吸引更多自駕車遊客選擇橫琴通關，橫琴口岸還決定在國慶“黃金周”期間開放地下負二層、負三層約二千五百個泊車位，免費向社會公眾開放，以滿足廣大旅客的停車需求。此外，駛經橫琴口岸的橫琴公交旅遊巴士，也將為遊客提供免費乘搭，免費巴士運營時間為早上九時至晚上八時四十分，每二十分鐘一班，免費上落車、循環運行。 便民政策吸遊珠澳 從拱北口岸往返港珠澳大橋口岸的免費分流巴士專線則分兩條線路運行，一條在拱北口岸公交總站（拱北車站對面）設上落客點，途經拱北情侶南路和施工便橋到大橋口岸，拱北頭尾班發車時間為早上六時五十分及傍晚七時半、大橋口岸發出的頭尾班車時間則為早上七時半及傍晚八時，單程行車約十五分鐘。另一條專線是在拱北城軌站前巴士站設上落客點，經大橋連接線至大橋口岸站，運營時間為早上九時至下午四時，單程行車時長約十分鐘。 珠海方面稱，透過上述一系列交通惠民便民政策的施行，期望有助吸引更多遊客赴珠澳遊玩，進一步促進兩地旅遊市場復甦。 重新檢視過去五年資助三月內交報告 歐陽瑜指示教局加強監管 【本報消息】就某校前正副校長涉嫌騙取公帑一事，社會文化司司長歐陽瑜昨指示教青局重新檢視和整理過去五年所有資助情況，並在三個月內提交報告，將完善對學校、基金等所有資助的監管工作。 嚴監所有基金資助 歐陽瑜表示，已指示教青局重新檢視過去五年所有資助，待教青局遞交報告後，將會加強檢視和監管資助項目，包括在不同階段作更嚴格監管，像事前、執行、事後階段都需做好分析和跟進。強調不單是教青局，所有基金資助都會作出相同的部署和加強監管的措施。教青局資助項目和費用多，包括教育基金、持續進修等，當審計、警方發現犯罪行為，很大原因是監管起作用。涉事的相關辦學實體已更換領導層，涉案款項已追回，並無影響該校運作。 兩局合併快將完成 對於高教局和教青局合併進展，歐陽瑜回應，文本準備得“七七八八”，但仍需要點時間，教育青年工作對整個社會影響大，希望平穩過渡。被問及兩局合併後領導人選是否由內部調升，她稱會視乎“邊個有能力做”，但不希望有好大的人事變動。 港澳通關有待檢視 對於與香港回復正常往來方面。她提及，一直檢視香港情況以及聽取衛生部門意見，看是否容許恢復正常通關。照顧者津貼先導計劃，歐陽瑜指會在今年內推出。 黃金周啟動 防疫成重點 黃司：加派人手保通關順暢 【本報消息】內地“十·一”國慶黃金周今啟動，疫情下各界關注內地旅客訪澳情況。保安司司長黃少澤表示，沒有掌握內地赴澳自由行簽註申請情況，但估計國慶黃金周人流不會太多，始終防疫是重點前提，在防疫基礎上做好恢復經濟的工作。廣東省以外的內地旅客入境要持有核酸檢測陰性的紙質證明，當局會加派人手檢查，確保通關順暢。 料增人流不太多 黃少澤表示，未掌握國慶黃金周期間已辦理內地簽註的人數。廣東省重開澳門自由行簽註申請後，每日廣東省旅客不足一萬九千人次，預計黃金周期間人流會有增加，但具體增加幅度暫時未能預計，料人流不會太多，毋須實施人流管制。 澳康碼、粵康碼轉換運作順暢，每日有專責人員監察，確保系統正常運作，保障兩地人員交往。至於澳康碼與其他省市的轉換工作，涉及資料互通互認，與全國互通有一定難度，暫未有擴展至全國的時間表，故要人手處理檢查核酸的紙質報告，當局會加派人手，檢查來自其他省市的紙質證明。 評估五六期天眼 天眼第四期已於四月完成、八月運作，當局會評估首四期天眼有哪些需要完善，並會評估第五、六期天眼。第五期天眼對命案及治安黑點做部署，第六期部署在新城區，涉及城規問題，視乎城規進度開展第六期。 近日多名紀律部隊人員被揭發醉駕，黃司坦言“覺得好唔開心”，一定會嚴肅處理，絕對不會姑息。同事醉駕背後的原因要深入分析，各局長要多了解、多關心。 設六展區近百七商家參加 工展會今起漁人碼頭舉行 澳門廠商聯合會主辦第七屆澳門工展會，今日起一連四日假澳門漁人碼頭會展中心舉行。今屆工展會展場面積約五千二百六十平方米，共有一百六十八家參展商，一百八十二個展位，免費入場，並提供三小時免費泊車。 本報記者 黃思僑 報道 讓社會認識澳工業 今屆工展會繼續秉承“工業創新、產業多元”目的，特設“澳門工業綜合館”向年輕人及居民展示澳門工業發展情況，加深社會了解本澳工業及認識工業未來發展，希望年輕人能投身工業，注入新動力，推動澳門工業轉型升級，擴大發展機會。 澳門工業綜合館展示澳門食品工業發展歷程，也有全自動蛋卷生產線的即場生產試食、大灣區“九加二”資訊區、產品優質認證計劃介紹區、直播間、澳門大學及澳門科技大學的科研及設計產品展示區、橫琴中醫藥產業園區、澳中致遠及創孵中心孵化項目產品展示區等。 多項活動歡迎參與 今屆工展會分六大展區，分別為“電器及家品區”、“保健及嬰兒用品區”、“服裝及美容區”、“金融區”、“食品區”及“美食區”，所有展商推出的均為澳門品牌、澳門製造及澳門代理的優質產品。 今屆工展會更有豐富活動及展覽亮點，包括MinM澳門工業綜合館、親子DIY區、有獎舞台互動、表演及遊戲、一元限量產品及終極大抽獎等。入場觀衆消費滿二百元即可憑發票參與“消費即獎”活動，獎品多達四萬份。了解第七屆澳門工展會最新資訊可瀏覽wwwmacauipscom。 直播室助推商家產品 第七屆澳門工展會為將產品向更多消費者推廣及促銷，在華人銀行支持下，於綜合館設置直播室，當中安排不同節目，如工展會優惠情報站、工展齊齊講、KOL直播帶貨、本地廠商推介等。下面介紹各節目內容。 工會展優惠情報站：介紹參展商每日優惠資訊，讓消費者可以用優惠價購買更多心儀產品。 工展會齊齊講：邀請政府官員、商會代表、東望洋製餅廠、好利安藥廠、嘉明洋行、澳門針織廠等分享過去工展會點滴、難忘事件，以及所屬行業趣味，引起居民對工展會的集體回憶及增加認識相關行業。 KOL直播帶貨：今次直播帶貨是展銷活動中首次舉辦，主要希望讓今次參展商能體驗網紅促銷效果，協助開啟更多銷售空間，讓產品可以透過更多不同途徑銷往澳門及外地。報名參與直播帶貨的參展商多達幾十家，證明澳門中小企樂於嘗試不同模式推廣產品，擴大客源。 本地廠商推介：本澳許多中小企都有其故事，藉着這個環節介紹一些本地中小企及廠商產品或服務的成長故事，讓企業用這個平台推廣自己的品牌及產品。 體驗比賽鼓勵中小學生參與 今屆工展會除各類促銷活動及分享外，大會更推出體驗及比賽活動，鼓勵小朋友、中學生參與，了解澳門工業發展。 當小主播訪商家 小主播體驗：讓六至十二歲小朋友體驗做主播，每日安排十位小朋友在直播間訪問本澳十家企業，一嘗主播滋味。 我是小主播比賽：活動對象爲六至十二歲小朋友。在工展會自行拍攝短片，上載至抖音、TIKTOK、Facebook、IG、Youtube等平台，設有冠、亞、季軍，分別可獲現金獎三千、二千及一千澳門元。 多個平台將直播 今年直播室將會在Facebook、IG、Youtube及快手等平台上直播，並得到本澳媒體支持，在媒體平台上直播，擴大傳播範圍。 今年為本澳中學生舉辦“我們眼中的工展會”短片創作比賽，設有冠、亞、季軍，分別可獲得獎金三千、二千及一千澳門元，另設八名優異獎。所有勝出學生，大會將發出獎狀以作鼓勵，歡迎所有中學生參加。 分四場館展百四作品 國際女藝術家雙年展開幕 【本報消息】婆仔屋文創空間主辦“二○二○ARTFEM第二屆國際女藝術家澳門雙年展”昨日揭幕，由馬若龍、李圳香、郭恬熙、朱焯信及Leonor Veiga擔任策展人，一百四十件作品分別在四個展場展出，包括婆仔屋文創空間A展覽廳、市政牧場舊址（牛房）、澳門漁人碼頭里斯本畫廊及東方基金會。 開幕儀式昨日傍晚六時半於婆仔屋文創空間舉行，社文司司長歐陽瑜代表林韻妮、外交公署署理特派員王冬、婦聯會長賀定一代表林婉妹、旅遊局長文綺華、文化局長穆欣欣、澳門基金會行政委員會副主席鍾怡代表郭韋琪、立法議員梁安琪、街總理事長吳小麗、展覽倡導者袁之欽等主禮。 馬若龍表示，展覽以“本然”為題，不但反映女性與自然的關係，亦代表人們內在，同時反映女性正在實踐環境保護作出的行動。來自世界各地的近百名藝術家團結一心，透過繪畫、雕塑、素描、裝置、版畫、錄影、攝影和陶瓷等作品，展示自己。 婆仔屋文創空間展場展出向京及袁之欽，以及曲奕竹（中國）、陳安琦（澳門）、Penelope Clarinha（葡萄牙）、冼倩文（香港）、Sandrine Llouquet（法國）、Lisette Schumacher（荷蘭）等作品。 更多展覽資訊可瀏覽網頁httpartfemorg。 分四展區感受獨特國慶氣氛 澳門記憶線上展國慶牌樓 【本報消息】澳門基金會訊：為慶祝祖國七十一周年華誕，澳門基金會“澳門記憶”文史網wwwMacauMemorymo特設“國慶牌樓 · 家國記憶——澳門國慶牌樓回顧展”，透過網上展出昔日澳門國慶牌樓珍貴舊照，帶領讀者回到上世紀四十至七十年代，穿梭於小城的大街小巷，感受獨特國慶氣氛。展覽現於文史網上線，歡迎市民前往瀏覽觀看。 寄託澳人家國情懷 一九四九年十月一日中華人民共和國成立，澳門同胞歡欣鼓舞，自發集會捐款搭建牌樓，在新馬路平安戲院前搭蓋牌樓，是澳門首座慶祝新中國成立的牌樓。此後至七十年代初，搭建牌樓成為澳門同胞慶祝國慶的傳統，其時社會各界積極參與牌樓搭建的各項環節，衆志成城賀國慶。每年國慶牌樓設計風格各異，體現時代特色，亦寄託市民家國情懷，成為澳門人珍貴的共同記憶。 展覽以四大展區展現澳門國慶牌樓的風采：第一展區為“國慶牌樓新舊位置對照”，透過新舊對照圖，帶領讀者置身日常走過的街巷，感受當年牌樓及彩牌所在地的國慶氛圍；第二展區循“地點”出發，可見國慶牌樓及彩牌在澳門各區遍地開花的盛景；第三展區以“時間”切入，從不同時期的牌樓及彩牌特色一探祖國發展軌跡；第四展區收錄國慶牌樓的專題文章、人物故事等，反映當時澳門同胞對祖國樸實而熾熱的情感。 牌樓文化影響深遠 國慶牌樓雖於七十年代已退出歷史舞台，但其留存下來的文化影響甚為深遠，冀市民通過展覽增加認識與關注國慶牌樓。是次網上展覽獲澳門美術協會提供珍貴歷史圖片，並將於“澳門記憶”文史網數位典藏，更好傳承極具特色澳門國慶牌樓文化。 有興趣市民只需登錄“澳門記憶”文史網，隨時隨地皆可觀看展覽。如欲掌握“澳門記憶”最新動態，除可瀏覽網站，還可關注“澳門記憶”臉書專頁、微信訂閱號及Instagram ID：MacauMemoryFM或添加微信個人號為好友（ID：MacauMemoryExpress）。 婆仔屋中秋晩會熱鬧 【本報消息】“中秋園遊晚會二○二○慶祝國慶七十一周年”昨晚於婆仔屋文創空間舉行，設現場音樂演奏，派發傳統特色中秋食品及小朋友限量兔仔燈和書法家現場書寫慶賀揮春等，與衆同樂。 活動昨晚七時舉行，現場掛滿各式各樣的應節燈籠，節日氣氛濃厚。 入場小朋友可獲派發傳統兔仔燈籠一個，大會亦準備傳統中秋食品禮盒供居民活動期間享用，又安排書法家蔡傳興即席寫揮春贈予參加者。吸引不少居民參與，氣氛熱鬧。 市署已向設計公司提前期設計意向 黑沙歷奇營短期開展規劃 市政署舉行市政諮詢委員會平常大會，有委員關注黑沙海灘附近將建設青少年歷奇營規劃。市政署管委會副主席羅志堅表示，由於工程較新穎，在本地較少項目可參考，經與顧問公司作初審和篩選，選出一家具國際歷奇設施設計經驗，以及發展大型休憩保育區經驗的公司，市政署已提出前期設計意向，相關公司將於短期內對歷奇營及周邊地區開展規劃工作。 規劃分三階段 羅志堅稱，黑沙歷奇營規劃草案分三個階段開展，首階段將對土地作整體規劃，包括如何合理利用土地配合自然保育現況，以及檢視整個黑沙片區人流運轉和資源等，提出規劃方案後，經諮詢委員會及社會意見後，再調整可行定案，屆時按區域分出不同子項目，交由本地具規模及經驗的設計公司作細化設計，其後再開展招標。 另外，多名委員關注黑沙水庫洗手台雲石飾面剝落導致市民受傷事件，冀進一步了解當局對工程監督和相關制度。羅志堅表示，相關工程承建商已就事故提交報告，引述報告內容稱，洗手台是工廠生產半成品，當時在黏合工序沒有做好安全檢測。並稱無論如何有關情況承建商亦具責任。 檢視工程制度 市政署正全面檢視所有工程制度，特別針對有潛在危險性的裝飾物或扣件等的安全標準及設計導則，並制訂巡查及檢測機制，由於需時評估目前所涉及層面及資源投入等，預計今年內出台方案；同時署方有條件引入簡易檢測儀器協助對瓷磚、掛件等材料作安全檢測，正積極考慮可行性。 本報記者 羅惠旋 報道 市諮委關注市政綠化海濱建設 【本報消息】多名市諮委關注總規市政及綠化專項研究，建議市政署發揮自身職能及早做市政範疇的專項研究，包括市政、綠化和海濱親水空間等。 市政設施分佈不均 梁頌衍表示，總規諮詢文本中關於市政設施及綠化的篇幅較小，包括街市、公園、文康設施等未有具體安排，綠化景觀亦未見合理空間佈局。建議市政署及早做好市政範疇的專項研究。市政設施方面，現時各區分佈極不均勻，特別是中北區，人口稠密，市政休憩設施不足。綠化空間方面，資料顯示，本澳的城市綠地面積率低，且綠化開放空間分佈不均。規劃保育本澳自然資源只是沿用原有法規政策，沒有長遠計劃，希望市政署可聯合相關部門深入研究，及早規劃路環南岸的保育發展。 檢討新口岸建街市 梁鴻細表示，雖然近年開設不少超市和蔬菜商店，但傳統街市仍有其實際需求。正如新口岸社區長期有建設街市的訴求，但因建設博彩娛樂設施將預留用地改變用途。市政署應全面檢討該區居民對街市設施的需求，以確定興建新街市是否符合該區的實際需要，改善街市的營運環境，並進一步探討是否加設熟食中心。 另外，預留土地作康樂設施及休憩用地亦應由市政署規劃、分佈及設計。 制訂長遠綠化規劃 李良汪就城市綠化規劃建議當局未來在總體城規的框架下，推動設立包括相關範疇的跨部門工作組，共同為未來綠化建設制訂具長遠發展的內容及目標，以及釐清各部門的權責，確保未來具體運作中可按各自職能推動及落實工作。長遠建議當局硏究綠化建設、指標與評估體系等立法，以便未來制訂本澳整體綠化規劃的專有法律法規，並訂定具體工作時間表，為未來城市綠化規劃提供法律基礎。 打造沿岸海濱空間 張嘉敏倡總規加強建設親水海濱空間。建議市政署吸納其他海濱城市的成功經驗加以創新，將澳門沿岸海濱打造成全澳市民的區域休憩空間。並建議當局能做好未來濱海空間與鄰近居住社區的連接，善用行人天橋和地下隧道，建設無障礙步行系統，構建完善的步行配套，實現海濱與社區有機連結。 林宇滔促落實TNR減流浪動物 市諮委林宇滔表示，觀乎各地和澳門過去的經驗，源頭杜絕棄養再配合與動保團體及人士共同執行TNR及後續跟進，是控制流浪動物數量的有效政策，也是唯一符合動保人士、受流浪動物滋擾人士及政府等不同持份者共同利益的措施。 林宇滔指出，前民政總署早就推行針對流浪貓的TNR計劃。計劃成功的關鍵在於要與愛護動物人士長期緊密合作和持續跟進。計劃執行的八年間，當局共將逾千八隻流浪貓經絕育及注射疫苗後放回原地，並使部分地區由流浪貓引致的問題得到明顯改善。根據掌握的資料，當年TNR計劃並沒有失敗，只是本澳貓隻棄養一直未能源頭解決，TNR計劃成為代罪羔羊。 相對於流浪貓的TNR計劃，由於攻擊性更強及地域性更廣等原因，流浪狗的TNR計劃更複雜。澳門地小人多，如何平衡人道處理流浪動物以及減少其影響環境衛生、滋擾社會，坊間有不同意見和爭議。但觀乎各地的實踐經驗，源頭杜絕棄養，TNR計劃是控制流浪動物數量的有效政策。冀市政署及動保團體以整體公共利益為依歸，務實溝通和坦城交流重新恢復流浪貓TNR以及展開流浪狗TNR試點計劃，為動物福祉和社會整體利益早日落實計劃。 市諮委冀加強管理閒置地 市諮委趙蘭瑛冀當局完善社區康體設施，更好地配合總規發展。陳溥森促做好批給失效回收土地管理，清除雜草垃圾，杜絕衛生隱患。 完善社區康體設施 趙蘭瑛建議按照現時的社區發展需要，於中區尋找更多空間作複合利用，建設社區休憩康體設施，提升居民的生活素質。在規劃大型休憩空間時結合整體，不同場所可有不同特色。在建設規劃的同時，應整體考慮澳門現時地下渠網，改善城市排污，減少居民商戶面對渠塞的滋擾。 陳溥森指出，特區政府近期陸續回收不少土地，部分用於公屋、道路等建設，但仍有不少土地至今未有重新使用。回收的閒置土地現時僅用鐵欄圍隔，處於廢棄狀態，長年日曬雨淋，內部雜草叢生、積水處處。促當局加強管理，定期派員巡查，及時清除雜草廢物，填平地面坑窪，杜絕蚊蟲滋生。近期部分私人借出的自由波地及休憩用地歸還業權人，建議當局利用現有空置土地建臨時休憩區、自由波地或者停車場等。 李煥江提出三點改善公共衛生建議：一、設衛生督導員，協助城市衛生宣傳和通報。二、試點設生活垃圾具體投放時段。三、修改《公共地方總規章》和制訂垃圾分類管理法規。 規建歷奇營同時完善黑沙基礎設施 市諮委倡保留歷史設考古點 政府正規劃黑沙歷奇營，市諮委辜文達希望同時改善黑沙村基礎設施，優化黑沙村及周邊道路網及保留黑沙村的歷史文化。委員邢榮發建議在黑沙公園設考古展示點。 市政署正委託顧問公司開展黑沙青少年歷奇營及周邊地區總體規劃。辜文達指出，路環是澳門的後花園，有不少珍貴歷史遺跡，希望政府在發展過程中保留黑沙的獨特元素及歷史文化，也冀政府考慮該處承載力和原居民的感受，與區內居民和社團協調溝通。建議政府研究黑沙歷奇營前先改善黑沙村的水、電、渠和化糞池等基礎設施，優化黑沙村及周邊道路網。歷奇營定位及功能應考慮市民使用為主、旅客為輔，傳承客家及村落文化，並在總規框架下全面互補提升路環市區（荔枝碗、船人街）、黑沙村、九澳村的防洪及居住條件、營商環境、安全保障。 邢榮發指出，黑沙公園內一處是澳門重要的考古場地，曾出土距今六千年左右的文物，是南海沙丘文化圈重要的代表時期。也曾在早年出土澳門至今最古老的先民遺物——圈足彩陶盤，以及發掘出先民玉環玦作坊和窖藏的地方，是澳門歷史教育的重要組成部分。建議市政署未來新的公園規劃中，先諮詢考古學家的意見，保護好考古地點，並應建設出土文物展示點，加以解說資料。 SY部落籲節日玩樂拒絕毒品 【本報消息】適逢國慶與中秋節長假在即，澳門基督教新生命團契SY部落觀察到，青少年愛好夜出遊玩，在高危場所有機會接觸到各類隱藏危機。除了酒醉或飲用來歷不明的飲料後有機會發生不安全性行為外，夜場中也有機會遇上可疑者誘惑青少年嘗試非法藥物。另外，在前線服務中，近期有毒販以“搵快錢”誘騙青少年在夜場販賣非法藥物，令人擔憂。 家長留意子女行為 澳門基督教新生命團契SY部落一直致力防治青少年濫藥，以深宵中心及深宵外展服務夜酺及濫藥青少年。主任譚國輝呼籲家長，長假期間多關心子女深夜外出玩樂的情況，透過耐心關懷青少年的交友，同時留意其精神狀態是否出現異常。如有需要可聯絡SY部落以便及早介入。同時呼籲青少年節日出外遊玩時謹慎交友，消遣娛樂時也要留意隱藏危機，懂得自我保護並拒絕非法行為，節日盡興的同時避免犯法及發生危險。 深夜開展外展工作 為應對青少年節日期間有機會遇上各類危機，SY部落派出多名同工，於假期前夕深夜到青少年夜酺集中地外展工作，藉此提高青少年對於性、濫用及販賣藥物的危機意識。當中包括祐漢公園、高士德及新橋區一帶開展外展及預防工作，走進社區中的遊戲機中心、夜場和公園接觸青少年。透過社工介入和遊戲，圍繞性教育和預防濫用藥物的議題，讓活躍夜場的青少年認識到節日遊玩時有機會遇上的隱藏危機，包括不安全性行為的風險、濫用藥物帶來的傷害和販賣非法藥物的違法資訊，提醒青少年避免因一時之快而誤墮法網。 主管民防及協調中心 王健任警察總局長助理 【本報消息】保安司司長昨日批示，以定期委任方式委任消防局消防總長王健為警察總局長助理，主管民防及協調中心，由二○二○年十月六日起，為期一年。 王健的個人履歷顯示其具備專業能力及才幹擔任警察總局長助理一職。具備消防技術專業防護及安全工程學學士；公共管理碩士學位；澳門保安部隊高等學校第三屆指揮及領導課程。王健於九七年起在消防局機場處工作，多年來，先後擔任消防局機場處長、消防局消防學校校長、消防局澳門行動廳澳門行動暨救護處長、消防局海島行動廳海島行動暨救護處長、消防局技術廳職務主管、消防局技術廳長、消防局海島行動廳長、消防局副局長，一八年四月二十日至今，擔任警察總局長辦公室顧問。 原本主管民防及協調中心的警察總局長助理梅山明將會於十月退休。保安司司長黃少澤在昨日出版的特區公報公開嘉獎梅山明，指梅山明長期服務於治安警察局，敬業樂業，克盡己任，其後轉任警察總局長助理一職，與領導層同心協力，帶領團隊出色完成情報搜集和分析工作，並積極推動落實新民防法律制度訂定的各項新任務，竭力協助部門高效履行法定職責；在其公職生涯中，充分展現出專業實幹及敢於擔當的警隊精神。 林智龍曾冠雄任中葡平台發委會成員 【本報消息】行政長官昨日批示，委任行政法務司司長辦公室代表林智龍、高等教育局代表曾冠雄出任中國與葡語國家商貿合作服務平台發展委員會成員。現任貿促局主席劉偉明亦會替代已退休的劉關華出任委員會委員的職務。批示自公佈日起生效。 該批示委任的成員任期至二○二一年二月二十四日。 海關再搗水客店檢逾百萬貨 起訴店舖負責人三店員八水客 【本報消息】澳門海關訊：海關前日再於北區搗破一間與水客活動有關的店舖，查獲超過兩萬件貨物，估值約一百一十七萬澳門元。海關已依法調查及起訴十二名涉案者。 十一國慶適逢中秋節，預計遊澳旅客回升，為防止不法分子利用口岸增加的人流掩藏水客活動，加重口岸通關壓力，影響政府的防疫措施，澳門海關近期持續開展高密度、高強度的打擊水客行動，致力確保口岸通的關秩序及社區安寧。 海關持續監察關閘口岸一帶懷疑從事水客活動的店舖，並根據連日監視及分析收集到的情報，鎖定一間位於台山區的可疑店舖。前日下午見時機成熟，即時採取行動，在目標店鋪內發現存有大量美妝產品、保健食品及手提電腦配件。經調查，有強烈跡象顯示該店舖負責人涉嫌非法聘用人員，將上述貨物以“螞蟻搬家”分批運送出境，規避粵澳海關監管。經點算，緝獲的貨物超過兩萬件，估值約一百一十七萬澳門元。 涉案者包括一名店舖負責人、三名職員及八名水客。海關已根據《對外貿易法》規定起訴，一經判罰，最高罰款十萬元，被查獲的貨物亦會宣告歸澳門特別行政區所有。同時，海關以《非法入境、非法逗留及驅逐出境的法律》檢舉該名店舖負責人，一經判罪，最高可被科處兩年徒刑。 另外，上述負責人、其中一名職員及六名水客涉嫌違反《聘用外地僱員法》及《禁止非法工作規章》，海關已提起程序，並交由勞工事務局跟進。 去年十月徵稿 收一千五百作品 蓮花杯微型小說賽果揭曉 【本報消息】為慶祝澳門特區成立二十周年，世界華文作家協會（澳門）主辦、世界華文微型小說研究會協辦的首屆“蓮花杯”全球華人微型小說徵文比賽，從去年十月開始徵稿，十二月截稿，收到世界各國來稿約一千五百份。 由澳門作家、評論家凌雁、劉居上、席地、岸南、譚鍵鍬、余思亮等組成的初評委篩選出九十三篇作品，再經復評委審稿選出卅六篇，通過初評的作品交於中國凌鼎年、劉海濤、泰國司馬攻、日本渡邊晴夫、韓國朴宰雨等終評委評選，由來自安徽的作家張建忠憑《耳環》奪魁；山東姜鐵軍《老桌》和香港巴銅《老號手》同奪二等獎，三等獎分別是澳門謝婉玲《牽絲線》、浙江張競競《茶物語：茶水》、內蒙古犁夫《凍不死的暖河》。另設優秀奬十九名，由來自內地、加拿大、澳大利亞、印度尼西亞等地的參賽者奪得。 主辦單位表示，很高興能夠促成一次全球性的小說交流活動，特別感謝內地微小說名家，比賽總評判凌鼎年協助。因疫情關係延誤頒獎典禮致歉，但世界華文作家協會（澳門）稍後將出版得獎作品集與各界分享成果。 今多雲雷雨 【本報消息】氣象局預測今日大致多雲，間中有驟雨，初時有幾陣雷暴，吹三至五級北至東北風及有陣風，氣溫為攝氏二十四至二十八度，相對濕度百分之八十至九十八。 路邊、一般性空氣質量良好至普通，高密度住宅區空氣質量良好，沿海地區吹四至五級東至東北風及有陣風，視野平常至良好。 預測明日多雲，短暫時間有陽光，吹三至五級東至東北風及有陣風，氣溫攝氏二十五至三十度，相對濕度為百分之七十至九十。 昨日多雲，部分時間有陽光，有一兩陣驟雨，氣溫為攝氏二十五至三十二度，昨錄得最高紫外線指數為八點六，平均為四點四，強度屬於中等。 克盡己責 善用公帑 有私校前正副校長負責人涉詐騙教育發展基金資助逾二千萬元，款額巨大，社會嘩然。儘管事件由監管部門揭發並求助警方，涉案公帑亦已追回，但近年鑽漏洞呃公帑的案件層出不窮，光怪陸離，除了違法者明目張膽貪婪成性，亦往往揭示有關當局監管不力。管好公帑、善用資源，是特區政府當務之急。 某校前負責人藉詞開展工程申請資助，竟以舊資料偽造報告，暗渡陳倉，成功獲取巨款。據警方公佈的案情，教育部門曾定期巡查，但未及時發現，直至涉案校方高層離職，接任者發現事有蹊蹺無法造帳，呈報教青局後始東窗事發。社會文化司司長已指示教青局須於三個月内審視過去五年有關資助的工作，並提交報告。 近年，醫療券、持續修進等涉及公帑資助、補貼計劃，都被審計部門多番批評，花費巨額公帑卻成效欠佳，甚至揭發多宗涉詐騙的案件，金額之巨，涉案人數之多，觸目驚心。 廉政專員日前約見各公共基金負責人，再三叮囑各公共基金日後在發放資助或貸款時，必須依法、謹慎開展審批程序，做好防範風險及後續監督，及時檢討適用的法規。要求政府監管部門在善用公帑上應嚴謹把關，定期監督。 近十多年本澳經濟起飛，特區政府坐擁高額財儲。善用公帑，發展經濟，改善民生，社會樂見其成。但同時存在奢侈浪費，公帑付諸東流。廉署報告、審計報告，苦口婆心勸戒，但往往是“意見接受，態度照舊”，監管公帑不力，令有心人有機可乘，亦令社會形成一種與政府“分身家”、“搵着數”的不良風氣，公眾看在眼內，怎不心疼！ 浪費也是犯罪。過去，或許是財大氣粗，花費公帑如流水，但效果往往未如人意，居民幸福感似乎亦未見明顯提升。如今，一場全球疫症，印證“花無百日紅”，政府稅收插水，公帑一分一毫都不容亂花，必須用於刀刃上。特區政府全體部門都要克盡己責，檢視漏洞、改正漏習，視公帑如己出，方是一個負責任政府應有的態度。 夏 耘 節慶燈飾光影迎客來 今年國慶適逢中秋，加上光影節，國慶燈飾、中秋彩燈、光雕表演，交相輝映，在疫情之下營造舒心、祥和、親切的節日氣氛，處處洋溢澳門純樸的家國情懷，以及對傳統優良文化的擁抱，對城市多元創新的追求。 本報記者 攝 燈光隧道打卡熱點 一如既往，市政署今年在各區主要街道、廣場、公園、圓形地及富有特色的建築物佈置中秋燈飾，今年在北區的燈飾較過往更具心思，為區內帶來濃厚的節日氣氛。適逢國慶七十一周年，部分燈飾加入國慶元素，造型更多元化。中秋燈飾遍佈全澳六十六個地點，包括議事亭前地、大三巴前地、媽閣廟前地、塔石廣場、三盞燈圓形地、友誼廣場、水塘公園、關閘廣場、新馬路、南灣大馬路、筷子基區沙梨頭北街、綠楊休憩區、孫逸仙公園、宋玉生公園、中央公園、花城公園、黑沙公園、石排灣郊野公園等，燈飾將放亮至十月上旬。 眾多展示地點當中，以議事亭前地最受歡迎，大型拱門設計加上富有濃厚中國特色的大型燈光隧道，再成“打卡”熱點。雖然受疫情影響旅客驟減，街上人流亦大不如前，但仍無損節日氣氛，居民一家大細外出留影，場面溫馨。除了市政署，亦有民間團體設置中秋燈飾，仁慈堂婆仔屋掛起不同造型的兔子燈籠，令瘋堂區充滿中秋氣息。 文物化身畫布壯觀 上月廿六日開幕的光影節，今年在五處地標景點打造光雕表演，分別是新增設的塔石廣場、康公廟前地的中國國貨公司和黑沙環公園黃營均兒童圖書館，其中塔石廣場的大型光雕表演將文化局大樓、塔石衛生中心、澳門中央圖書館及澳門檔案館等四座文物建築群化身大型畫布，場面壯觀。開幕以來，每晚吸引不少居民前來觀看。 另外，在北區逸園跑狗場的“北區遊蹤”光雕投影，帶領觀眾遊走北區多個特色景點，氹仔舊城區消防局前地的木偶葡國餐廳搖身變成“八音盒”，把多首知名的古典鋼琴樂章以創新的視覺形式重新呈現，讓觀眾感受體會古典音樂氛圍。 內地高校澳生原創歌曲賀國慶 【本報駐北京記者鐵怡三十日電】在祖國迎來七十一周年華誕之際，北京、天津、上海、江蘇高校的澳門學生共同演唱原創愛國公益歌曲《蓮花豔豔》並錄製音樂短片，向祖國和澳門獻祝福，展現澳門青年風采。 活動由中聯辦北京聯絡部策劃，北京（高校）澳門學生聯合會、天津高校澳門學生聯合會、上海高校澳門學生聯合會和江蘇高校澳門學生聯合會主辦。慶祝國慶七十一周年、澳門特區成立廿一周年，歌頌祖國偉大成就，傳承和弘揚愛國愛澳精神，並向抗疫前線人員致敬。 《蓮花豔豔》由中央音樂學院的澳門學生林進穎作曲，中國人民大學澳門學生吳海晴作詞，北京、天津、上海、江蘇等地十七所高校的澳生參與音樂短片錄製。音樂短片一經推出，反響熱烈。人民網、人民日報海外版及澳門青年社團、愛國愛澳社團線上紛紛轉發。 創作團隊的澳生接受採訪談及感想和體會。作曲者林進穎是中央音樂學院應屆畢業生，目前在香港中樂團工作。表示很榮幸受到中聯辦委託，並為公益歌曲《蓮花豔豔》譜曲並編曲。短片由八月初構想至今不到二個月，當中每人付出的努力不言而喻。今年肺炎影響，幸澳門居民及政府共同努力抗疫，希望以此曲致敬前線醫護及政府迅速而奏效的抗疫政策。 作詞人吳海晴回憶該曲清新活潑的節奏，令其很想展示一個“新澳門”，包含“港珠澳大橋”，“新澳門八景”，甚至是美食、節日等元素。構思是把“蓮花”貫穿始終，從歷史、經濟、人民生活的角度出發，寫澳門成長故事。中間經過一次大改和兩次小改，非常感謝老師指導和建議。最終作品呈現效果非常好，很榮幸能夠參與作詞。 演唱者為清華大學許嘉瑩、南京師範大學黃子軒，以及參與片尾錄祝福語的北京大學張青華，均表示十分榮幸能夠參與演唱及錄製歌曲，希望透過歌曲，傳遞內地高校澳生對七十一周年國慶的祝福，祝願祖國繼續繁榮昌盛。在疫情發生以來，澳門一直和祖國肩並肩抗疫，體現中華民族奮鬥精神，克服一切困難。也祝願澳門早日融入國家發展大局，為國家發展作出貢獻。 昨舉行國慶酒會場面熱鬧 中總籲認識雙循環發展融灣區 【本報消息】澳門中華總商會昨舉辦慶祝中華人民共和國成立七十一周年、澳門特別行政區成立二十一周年酒會。會長馬有禮表示，社會各界應深刻認識內循環、雙循環新發展格局，並盡快融入灣區建設，善用粵澳（橫琴）深度合作區的發展機遇。 酒會昨下午三時在中總大廈四樓舉行。行政長官賀一誠，全國政協副主席何厚鏵，中聯辦副主任羅永綱，外交部駐澳特派員公署署理特派員王冬，中國人民解放軍駐澳部隊參謀長趙建明大校，立法會主席高開賢，澳門中華總商會永遠榮譽會長許世元，會長馬有禮、副會長傅建國、崔世昌主禮，政府官員、社團工商代表等出席。 助中小企走出逆境 馬有禮致詞時表示，今年初我國面對新冠肺炎疫情的嚴峻挑戰，各省市在嚴格執行“外防輸入內防反彈”的常態防疫措施下，人民生活有序地恢復，經濟發展呈現穩定和利好態勢，第二季度經濟已企穩回升，由負轉正，增長百分之三點二走在世界前列。明年，我國開始實施“十四五”規劃，屆時我國將進入一個發展新階段。 澳門回歸祖國二十一年來，“一國兩制”、“澳人治澳”及高度自治的方針得到全面貫徹和落實，社會安定，經濟發展，居民安居樂業。年初新冠肺炎疫情，澳門各行各業大受影響，猶幸澳門疫情受控；隨着疫情變化，特區政府分階段及針對不同對象，有序地推出多項改善民生、刺激經濟的措施，使澳門經濟正從低谷中穩步復甦。 疫情發生以來，中總全力支持和配合特區政府防控疫情，同時更心繫祖國內地，慷慨捐贈，支援湖北抗擊疫情。作為工商界的大家庭，關注疫情對企業營運帶來的影響，與政府相關部門保持密切溝通，廣泛收集會員及中小企、商號的意見，及時地向特區政府反映商界困境和需求，提出惠及工商界的稅費減免訴求。疫情受控後，亦就僱員、企業援助款項計劃，刺激市場內需的消費卡，澳門居民本地遊等計劃及“擴客源，興經濟，保就業”等援助工商界的計劃提出了建議。 善用粵澳合作機遇 面對國際社會複雜多變及內地經濟下行壓力，內地提出建立以國內大循環為主體，國內國際雙循環相互促進的新發展格局，工商界在內的澳門社會各界應深刻認識新發展格局，充分發揮澳門的平台優勢，盡快融入粵港澳大灣區建設，善用粵澳（橫琴）深度合作區的發展機遇，在中醫藥業發展、國際金融、連線旅遊、灣區合作等方面更多參與。 企業界也應進一步優化營運模式，開拓思維，注入創新元素以保競爭力，並加快拓展電商市場，線上線下業務相結合等，更好地迎接“疫”後經濟復甦機遇。 羅司：新設交通燈需時調整 【本報消息】交通事務局早前增設紅綠燈致交通大擠塞，運輸工務司司長羅立文表示，希望大家冷靜看待有關改變，當局會逐漸調整紅綠燈時間。對於新福利巴士漏油造成的連串事件，當局會調查研究再決定是否處罰。 調查巴士漏油成因 羅立文表示，每次增設紅綠燈、交通情況有改變，情況必然會不同，希望大家冷靜看待。當局會逐漸調整紅綠燈時間，並會因應每日不同時段作出調整，過一段時間相信“無咩問題”。倘調整紅綠燈時間後仍有問題會再作改動，不應因增設紅綠燈一、兩日出問題就要求改動。 新福利巴士昨日在松山隧道漏油引致連串交通意外，被問及會否對新福利罰款，他回應時指“前日發生，昨日未有結論”，當局會調查研究再作決定。至於巴士班次會否進一步增加，他反問記者“新巴士合約已刊登政府公報，你哋有無睇？”，籲記者“做功課”。 正在諮詢的城市規劃草案引起廣泛討論，他認為社會有支持、反對等不同意見屬正常，目前仍是諮詢期，有時間予各界發表意見，本周五、六仍有諮詢活動舉行，諮詢期後會總結各種意見。對於政府可能取消新城D區填海，牽涉不少規劃改動，他重申無論有沒有D區，當局都會做諮詢、分析及決定三個階段，“大家唔好急”。 收擋潮閘仿真報告 另外，當局已收到第一份關於興建擋潮閘對本澳水文影響的水文仿真研究報告，需要時間看完報告才決定擋潮閘是否建造。報告在幾日前才收到，同事正研究，暫未有結論。 社保供款可電子支付 【本報消息】社會保障基金訊：社會保障基金轄下服務點於本月起接受僱主和居民以電子支付的方式繳納社會保障制度供款、外地僱員聘用費及供款／給付證明書印花稅款，為僱主和居民繳款帶來更大方便。 由本月起，僱主和居民於社保基金望德堂區辦事處、皇朝區中土大廈十三樓辦事處、政府綜合服務大樓（社會保障事務）及離島政府綜合服務中心（社會保障事務）以現金或銀行支票／本票（抬頭為“社會保障基金”）外，更可憑多種電子支付方式繳納社會保障制度供款（包括強制性及任意性制度）、外地僱員聘用費及供款／給付證明書印花稅款。 社保基金呼籲已申請電子申報服務的僱主及任意性制度受益人，為節省輪候時間，應多使用各電子化渠道繳款；如需親臨服務點，可事先透過“一戶通”手機應用程式或網站（httpsbookinggovmo）預約或遠程取籌。 青年高峰論壇探討疫後轉變 【本報消息】為慶祝新中國成立七十一周年，婦聯青年協會、愛國教育青年協會昨合辦“第一屆新時代青年專業高峰論壇”，論壇主題為“後疫時代轉變及展望”，來自不同領域的青年代表、專家學者互動交流，獻策獻言。活動有近八十人出席，場面熱鬧。 活動邀請了中國社會科學院國際法研究所和澳門婦聯總會為指導單位。論壇開幕式昨晚七時半在婦聯學校五樓禮堂舉行，社會文化司司長代表老柏生，中聯辦副秘書長兼社工部長黃華蓋，澳區全國人大代表、婦聯副會長容永恩，婦聯理事長林婉妹，婦聯青協會長黃潔貞，愛國教育青年協會主席黃家倫主禮儀式。 黃潔貞表示，是次論壇先以學習為主，並以“後疫時代轉變及展望”為主題讓各界青年代表共聚首一堂互動交流，達到“聚青年學習”、“集青年智慧”、“向祖國祝福”、“向特區建言”、“貢獻青年力量”。作為青年一代，需要響應國家呼應，準確把握“國家所需、澳門所長”的契合點，參與國家發展戰略，實現澳門可持續發展，“一國兩制”事業行穩致遠。 行業經營趨精細化 黃家倫稱，論壇目的主要與更多澳門青年共同探討如何在後疫時代，對準問題，攻克問題，從而尋找新的發展機遇，為“一國兩制”行穩致遠發揮應有作用。 論壇分兩部分進行，第一部分為專家學者分享。中國社會科學院法學研究所台港澳研究中心主任陳欣新透過線上分享，建議澳門做好扮演實行資本主義制度的發展中國家陣營與實行社會主義制度的內地之間的橋樑功能，發揚光榮的愛國傳統。 澳門愛國教育青年協會博士智庫委員會主任鄧偉強則建議與會人士注意世界變局、國家發展大局以至行政長官訪京期間的發言內容，“十四五”正值國家全面建成小康社會，實現第一個百年奮鬥目標，開啟全面建設社會主義現代化國家新征程的第一個五年計劃，澳門應做好在國家整體發展中的功能和作用，助力內外迴圈雙輪驅動、兩個市場優勢互補。 第二部分為本澳青年代表分享。澳門公共汽車股份有限公司董事總經理梁美玲提到，無論內地還是本澳的城市公共交通運營，在後疫情時期都出現一定程度轉變。建議公共交通工具人工清潔與智能設備清潔相結合，加強車長宣傳教育內容，實現公共交通管理平台的信息共享。 澳門大學、澳門科技大學客席講師傅騰龍認為，疫情加速了所有行業的互聯網化，企業應從過去的粗放式經營，轉向面向用戶的精細化運營。此外，與會的青年專業人士包括李家敏、麥雁玲、陳錦權、劉百球、涂怡然、黃詩琳、崔樂怡、陳卓華等，並就所屬領域作分享，互動氣氛熱烈。 連鎖商會穗交流收穫豐 【本報記者廣州卅日電】澳門連鎖加盟商會組織內地知識產權交流團今日下午結束在廣州的兩日行程。商會主席黃仁民表示，通過是次交流考察，學習到內地在知識產權保護各層面的先進經驗，達到預期目標。 交流團今日下午抵達廣東省知識產權保護中心參觀交流，該中心副主任劉建新致辭時透露，中心將在本月下旬承辦第二屆粵港澳大灣區知識產權交易博覽會，屆時將以線上形式展開，誠邀澳門企業商會出席。他希望通過是次交流，與澳方進一步增進友誼，攜手將粵港澳大灣區打造成為世界級知識產權發展示範高地。交流環節上，雙方就如何有效開展知識產權管理規範推廣，以及知識產權事業發展新動態等議題詳細交流探討。 今日上午，交流團還分別拜訪廣東慧道知識產權事務所和哲力知識產權集團。在慧道交流期間，該事務所所長沈丹為澳門中小企提出三點建議：第一，提交註冊前與商標代理機構加深溝通交流。第二，當商標遇到駁回時，先諮詢法律服務專家，再結合自身情況決定方案取捨。第三，多關心政府和社團開展的宣傳活動，制訂符合自身發展的商標品牌戰略規劃。 在哲力期間，該集團創始人揭冬汝介紹了該集團在疫情期間，利用創新思維，度過難關的經歷。又以“山東老家”商標註冊多元化為例，建議澳門在推動經濟適度多元化的進程中，利用知識產權賦能經濟發展戰略規劃，達到經濟轉型，產業升級。 文化轉化為資產 黃仁民總結行程時表示，商會主辦內地商標註冊諮詢服務中心的初心一直未變，一是做好窗口工作，二是做好宣傳，工作任重道遠。他坦言澳門市場不大，但文化底蘊十足，應利用好知識產權這把寶劍，解決包括老字號商標遭搶註等問題，將澳門文化轉化為寶貴的資產。 圍繞“全面推進農房管控和風貌提升”議政 澳常委出席粵政協會議聽報吿 【本報記者廣州三十日電】政協第十二屆廣東省委員會常務委員會第十三次會議，本月二十八至二十九日在廣州舉行，會議圍繞“全面推進農房管控和風貌提升”開展專題議政。省政協澳區常委楊道匡、莫志偉出席。 省政協專題調研組作調研情況報告。報告認為，近年來，廣東全域推進農村人居環境整治、建設美麗宜居鄉村，農村面貌與發展環境發生了積極而明顯的變化。但歷史遺留問題積重難返，“有新房沒新村、有新村沒新貌、有新貌沒特色”的老大難問題依然存在。 報告提出七條建議，包括增強落實《指導意見》的責任感、緊迫感和使命感；盡快完善工作體制機制，全面加強指導、統籌和協同；突出規劃管控引領，不斷優化鄉村空間格局；深化宅基地制度改革，積極穩妥解決農房處置存量難題；規範新增農房建設，堅決遏止亂佔耕地和搶建亂建突出問題；彰顯嶺南特色風貌，大力提升廣東農村顏值；激發村民自治活力，共建共治共享美麗家園。 省政協主席王榮指出，近年來，廣東以前所未有的力度全域推進農村人居環境整治和美麗鄉村建設，全面推進農房管控和風貌提升，全省農村住房條件、居住環境不斷改善，鄉村整體風貌得到明顯提升。省政協充分發揮職能作用，開展多層次系列化協商議政和協商式民主監督，在服務鄉村振興戰略中積極作為。 強調推進農房管控和風貌提升是一項涉及面廣、影響力大、任務繁重的系統工程。各級政協組織和廣大委員要發揮優勢作用，堅持建言資政和凝聚共識雙向發力，自覺做推進農房管控和風貌提升工作的倡導者、實踐者、推動者。 要把實施鄉村振興戰略、推進農房管控和風貌提升等議題納入年度協商計劃，深入抓好協商議政，強化督導落實。要發揮好協商式監督作用，以美麗宜居鄉村建設情況為重點，持續開展跟蹤監督，助力黨委政府決策部署的貫徹落實。要發揮好凝聚共識作用，通過委員工作室、村務協商議事會等基層協商平台，更好地集民智、匯民力、暖民心，合力打造新時代廣東鄉村新風貌。 保護主教山景觀南灣湖休閒空間 學者倡續降建築規劃限高 【本報消息】澳大澳門研究中心昨早舉辦第三場澳門城市總體規劃系列座談會，主題為“居住生活文化環境”。就總規草案建議南灣湖CD區限高六十點七米，有學者認為政府有條件進一步減低規劃高度及建築物密度，保護主教山景觀，及保留南灣湖的休閒空間。 座談會昨早十時半在澳大崇文樓舉行，多名專家學者出席。就南灣湖CD區規劃高度，政府已多次表明CD區規劃高度將由山體向海漸降，且建築物高度會錯落發展，但仍引起社會擔憂。 影響山脊線景觀 講者之一、澳大社會科學學院助理教授李展鵬表示，該區限高六十二點七米與山體高度等同，由遠看去，或不會抵擋主教山，但會影響山脊線景觀。建議進一步減低該區的規劃高度及建築物密度，保護主教山景觀，亦保留現有的休閒空間。形容南灣區“低密度、空氣清新，能跑步、看煙花，是澳門少有的休憩空間”。指出政府已收回南灣湖CD區大部分土地，多數是政府土地，不涉及龐大的商業利益，政府應有條件降低規劃限高，更好地保護景觀。 分區欠人口數據 總規草案建議把澳門分為十八個規劃分區，包括商業區及生態保護區等。李展鵬認為草案欠缺各區的人口分佈及人口結構數據，難以科學分析各區不同年齡層對社區文化設施的需求。 另一名講者、亞太城市建築學會理事長高武洲認同總規草案提出的原則及目標，認為每一分區要綜合考慮居住、交通、文化及社區配套等。指出總規草案除重視職住平衡外，亦要關注交通疏導及社區配套的平衡；希望政府及社會多關注節能減排的技術及應用，以發展城市生態化。 偷拍轉發社交平台有法律責任 時至今日，手提電話除了是電子通訊設備，亦已成為了居民記錄生活逸事和進行網絡社交的便利工具。吃美食拍一個、看美景拍一個、良朋親友相聚更要拍一個，再把美好一刻分享於網絡平台齊點讚。但拍攝照片並在社交平台公開，在法律上須注意甚麼呢？ 澳門法律交流協進會常務副會長、律師盧綺嵐表示，照片只有當事人自己當然無問題，如果還包括其他人（即使是朋友），根據澳門現行法律規定，除非屬法律容許的情況，就必須徵得他們的同意，否則拍攝他人或公開相關照片的人有可能要負上民事法律責任，甚或走上犯罪的道路。這是因為每個人都有肖像權。 具體來說，肖像權是人格尊嚴的一種，構成基本權利的最高價值，所以肖像權是受到法律所保護的重要法益之一。在一般情況下，如有意圖或目的地對他人的肖像進行展示、攝取、複製、散佈或作交易之用，應先取得肖像人同意。除非基於肖像人的知名度或擔任的職務，或基於安全或司法方面的要求，或為學術、教學或文化之目的而有合理理由者；又或該肖像是在公衆地方、與公共利益有關的事實或公開進行的事實當中所攝得的影像的一部分，則無需取得肖像人的同意。 關於法律責任方面，如觸犯《刑法典》的“不法之錄製品及照片罪”，將可被處最高兩年徒刑或科二百四十日罰金。如果行為人為了使自己或他人獲得利益，或使他人或澳門地區造成損失而作出上述犯罪；又或行為人透過社會傳播媒介或作出上述犯罪，包括以互聯網作為廣泛傳播工具，則須加重刑幅，將可被處最高兩年八個月徒刑或科三百二十日罰金。此外，肖像人尚可就侵害其肖像權而遭受到的倘有精神或心理損害，向侵權行為人追討相應的精神損害賠償。 綜上所述，肖像權是專屬於每一個人的基本權利，受到法律的保護，肖像人尤其有權決定其肖像可否被公開，即使公開行為沒有侵害肖像人的名譽亦然。故此，盧綺嵐建議，不應有意圖或目的地在未經他人同意下，攝錄他人影像或將其上載至互聯網，以免因此而對他人的肖像權造成損害並而須負上法律責任。 澳珠海社團總會捐珠十六萬 【本報消息】澳門珠海社團總會前晚假珠海金苑酒樓舉行迎國慶賀中秋聯歡活動，一百五十多名會員共賀雙節。席間，澳門珠海社團總會向珠海捐贈十六萬元（人民幣，下同）善款，用於為珠海紅十字會義工定制馬甲以及為拱北困難家庭扶貧濟困。 澳門珠海社團總會會長邱秋雄、理事長胡景光、監事長許文曲、常務副會長蘇中興等率領會員參加。珠海市委統戰部常務副部長李奕根、珠海市委統戰部副部長兼市僑聯主席曹風雲、珠海市台港澳事務局長鄒樺、珠海市商務局長王小彬、橫琴新區黨群工作部長程飛、高欄港經濟區二級調研員馮偉忠、萬山海洋開發區副書記陳成兵、香洲區委常委兼統戰部長楊柳青、香洲區副區長陸堯等到賀。賓主共同為祖國慶生，賀萬家團圓，氣氛熱烈。 曹風雲表示，疫情發生以來，澳門珠海社團總會慷慨解囊，積極籌集捐贈防疫物資，抗擊疫情，同時為近千家商戶減免租金，共克時艱，促進珠澳兩地聯繫更加緊密，協助兩地防疫抗疫取得顯著成效。 邱秋雄就珠海各界對該總會工作的大力支持表示感謝，勉勵會員要有自信、團結、奮進精神，秉持愛國愛澳愛家鄉宗旨，用心培養年輕一代，積極投入大灣區建設，為珠澳兩地經濟發展、民生福利盡一分力。 席間，澳門珠海社團總會向珠海市紅十字會捐贈十一點二萬元用以定制珠海紅十會義工馬甲，同時向拱北街道辦貧困家庭捐助四點八萬元用於扶貧濟困。 聯歡活動前，澳門珠海社團總會組織會員赴珠江口東澳島，進行為期二天的參訪、遊覽和會務交流活動。 中聯辦肯定公總工作 【本報消息】澳門公務人員聯合總會日前在會長李華苞、理事長彭冠豪帶領下，一行十六人前往拜訪中聯辦，獲副主任嚴植嬋、副秘書長兼社工部長黃華蓋熱情接待。 李華苞表示，公總過去五年致力成為公務人員開拓“全球視野、國際韜略”的窗口，培養“社會觀念、承擔精神”的學堂，推動“提升自我、自強不息”的平台，促進“溝通政府、反映訴求”的紐帶，擔當“提高素質、服務社會”的橋樑，在團結公務人員的基礎上，為實現善治良政建言獻策。五年來通過舉辦學術研討會、專題座談會、專項社會調查、探訪弱勢社群和外出參訪交流等會務工作，促使公務人員參與其中，了解社情民意，發揮公僕精神。 在聽取公總負責人相關會務情況的介紹後，嚴植嬋充分肯定該會自成立以來，秉持愛國愛澳宗旨，團結公務人員支持特區政府依法施政，為澳門“一國兩制”成功實踐和特區繁榮穩定作出積極貢獻。將會一如既往地支持公總的會務工作，為該會發展會務，組織公務人員赴內地參訪交流，融入大灣區發展提供協助。 禪政協澳委員迎國慶賀中秋座談 【本報消息】佛山市政協（各級）歷屆澳門委員聯誼會於上月廿八日晚假富豪酒店五樓舉行 “迎國慶賀中秋”座談會。市政協副主席鄭燦儒通報今年以來，該市經濟社會發展和市政協工作等情況，聽取在場委員及鄉親等建議，互動氣氛熱烈。 市委統戰部副部長、市台港澳事務局長香秀杏，市委統戰部部務會成員、二級調研員張朝陽，禪城區政協副主席楊中慧、南海區政協副主席區志星、順德區政協副主席黃燕霞、高明區政協副主席趙燦華、三水區政協副主席黎延坤，市政協港澳台僑和外事委員會主任黃衛平，廣東省政協委員黃昇雄、黃燦文、李居仁，該會名譽會長李子豐、葉兆佳等出席。該會會長關偉霖、理事長胡達忠、監事長陳元楷及秘書長吳偉恩等在場迎迓嘉賓。 鄭燦儒指出，疫期該市各級政協委員主動參與疫情防控、後勤保障、物資捐贈等工作，慷慨解囊。其中，該會會長關偉霖、監事長陳元楷、副理事長梁汝彩等被評為佛山市“抗疫新鄉賢”稱號，值得點讚。 關偉霖稱，面對新冠肺炎影響，立即號召會員慷慨解囊，支持家鄉對抗疫情。期間籌得的一批防疫物資，捐予佛山紅十字會。展望未來，該會將繼續推動澳門青年赴佛山考察，助力兩地參與灣區建設，為促進佛澳兩地深度融合發展。語勉同人充分發揮聯誼會作用，多培養、教育青年，增強新一代的國家意識和愛國精神，確保“一國兩制”偉大事業薪火相傳。 座談會後，同場舉行聯歡宴會，場面熱鬧。 設身處地妥處的士裝機 的士智能系統八月開展安裝工作，但五千元按金問題令安裝進度大為落後。疫情下，的士等依靠旅客的行業收入大受衝擊，業界也多次反映難以負擔。雖然當局一再發新聞稿“催促”，但沒有業界配合，安裝工作能否在法定的十二月全部完成，暫是疑問。 澳門作為旅遊城市，加強的士業規範和監管，嚴打害群之馬，一直是各界的高度共識，也直接催生了新法和智能系統。對於系統，業界意見最多的莫於費用“邊個畀”。有業者認為系統是政府要求安裝的，作用與“天眼”相若，有助遏抑違法、維護車乘雙方正當權益，是公共利益，應該由政府埋單。不過，也有人認為系統設施安裝車上，司機第一個接觸，加上系統保障了司機與乘客的權益，有份用也應負擔部分費用。 按當局計劃，十二月三日全澳千九輛的士須全部安裝好智能系統，但至日前仍有逾千五輛的士未安裝。疫情下，不少業者搵食成問題，更要向銀行供車，確實難捱。在此關頭要再付五千元按金，難怪業者“拖得就拖”。法定餘下安裝時間不多，若擠到最後，承攬公司肯定不及處理。看來當局要進一步與業界溝通，盡量在其他方面支援業者，如再度延長牌照使用期等，推動安裝工作早日完成。 悅 鳴 陝西團體向多社團派香米 【本報消息】澳門渭南商會、澳門陝西同鄉會與澳門陝西商會昨舉行“抗疫情送溫暖 · 敬老人慶中秋”送香米活動，共向多個團體送出逾二千包各重十斤的香米表心意，冀藉敬老活動弘揚中華民族尊老、敬老、愛老優良傳統，同賀國慶及中秋節，傳遞正能量。 活動昨日下午三時假祐漢公園舉行。中聯辦協調部副處長級助理吳國權、市政署代表黃寶儀、議員宋碧琪、工聯總會副會長馮家輝、街總副理事長周宜心、婦聯頤康協會理事長林潔影、歸僑總會理事長王彬成、仁慈堂值理會主席飛安達、澳門福建同鄉總會理事長黃天松、澳門佛教總會常務副會長關偉霖、中華武術文化學會（澳門）副理事長洪志堅、先鋒廟值理會理事長鄺佩瓊，澳門陝西商會會長宋鳳山、理事長黃永富，澳門陝西同鄉會副會長顏志向，澳門渭南商會會長顏泗遵、理事長曾新智等主禮。特邀中華武術文化學會安排太極高手獻演傳統陳式太極拳助興。 宋鳳山表示，舉辦是次敬老活動，旨在以感恩喜悅心情關懷弱勢，為節日增添喜慶氣氛。目前海外疫情多變，希望普羅大眾繼續秉持特區政府防疫指引，珍惜得來不易的防疫成果。 儀式後，在場嘉賓向領取米券的長者送上香米，隨後安排專人把香米送至其他團體，減少群聚。 全城慈善歌舞演唱會籌款 【本報消息】全城慈善會舉辦“第三屆全城慈善歌舞動全城演唱會”，昨晚假金碧文娛中心舉行，出席嘉賓、善長及表演歌手與現場觀眾歡聚一堂，共襄善舉。負責人冀通過活動，與各界善長、表演嘉賓、義工及熱心人士一道，為弱勢群體、社會和諧多作貢獻。 演唱會昨晚七時半響鑼，該會會長冼翠蓮，監事長陳美華，副會長何泳儀、陳佩蘭，副理事長沙碧媚聯同嘉賓關偉霖、葉麗珍、陳偉良、劉耀堂、柯祧葉、甘展文、周國輝伉儷等主持開幕儀式。 冼翠蓮感謝各界善長支持，使活動圓滿成功。慈善會成立以來，除定期舉辦各類慈善活動外，亦積極開展各項有益身心的文娛康體活動，鼓勵會員及各界友好參與，共同為慈善公益事業作奉獻。該會冀藉今次慈善籌款活動，繼續與各界善長、嘉賓、義工共同抗疫防疫，為弱勢群體貢獻綿力。 晚會反應熱烈，多位唱家與舞蹈隊等載歌載舞，獻上連場金曲與歌舞，場面溫馨歡樂。 公務退協訪瑞金僑聯交流 【本報消息】澳門公務員（退休）協進會會長趙文豪、理事長梁文偉及副監事長梁超豪一行日前到訪江西省瑞金市歸國華僑聯合會，受到僑聯主席楊敬東、副主席劉水平等熱情接待。雙方探討推廣兩地旅遊及商務發展合作。 楊敬東介紹瑞金的發展及投資項目的概況，感謝澳門公務員（退休）協進會年初捐贈抗疫物資，支持瑞金市防控新冠肺炎疫情的工作，並向該會頒發捐贈證書。 澳門公務員（退休）協進會隨後參觀紅色旅遊勝地葉坪革命舊址群。葉坪是中華蘇維埃共和國的誕生地，也是中國共產黨建立的第一個紅色政權所在地。協進會一行還向紅軍烈士紀念碑致敬。 趙文豪表示，瑞金是著名的紅色故都、共和國搖籃，也是中央紅軍長征出發地，是我國紅色旅遊城市。日後會組織更多團體到瑞金了解紅色歷史以及革命先烈的足跡。同時希望與瑞金加強商務投資交流，在澳門及海外合作推動兩地旅遊及商務發展。 公民教育親子營效果佳 【本報消息】市政署主辦，澳門基督教青年會承辦之“二○二○公民教育夏日好友親子營”，於日前成功舉辦三場日營活動，時間由早上九時至下午五時半，地點在石排灣郊野公園和金像農場，參加者年齡六至九歲之小童及其家長。 親子營透過一系列的主題活動讓參加者認識和學習十二個良好公民行為，並在日常生活中實踐；讓家長和小朋友共同合作，加強親子互動和溝通。 營會包括室內和室外活動，活動形式主要為團體遊戲、定向和解謎。參加者在親子營中全情投入，合力完成任務，在過程中展現良好公民行為，彼此互相幫助，遵守活動秩序。參加者在有趣愉快的體驗中了解到良好公民行為的意義和重要性。十二個良好公民行為包括：善於聆聽、信守承諾、遵守秩序、有禮待人、承擔責任、尊重生命、互相尊重、鄰里互助、拒絕歧視、樂於助人、愛護環境及參與社區。 工聯粵曲折子戲敬老 【本報消息】工聯台山社區中心主辦、澳門基金會贊助的“粵曲折子戲敬老專場”活動於日前在中心禮堂內舉辦，共兩場，近一百四十名長者參與。 主辦單位希望透過舉辦是次活動，讓長者歡聚一堂，欣賞由該中心粵曲及粵劇培訓班學員擔綱演出的粵劇表演，同時希望大家繼續敬老愛老，更加關心及愛護長者。學員及老師除了落力演出精彩的折子戲及粵曲表演外，更向在場的長者致送師生所捐贈的禮物，場面溫馨歡樂。 工聯台山社區中心主任黃笑珊表示，中心成立以來，一直致力推廣及發展粵劇和粵曲文化，開辦“粵曲唱腔培訓班”及“粵劇功架培訓班”。全賴一班師生長期支持中心的班組活動，每年落力為長者舉辦粵曲敬老專場，讓長者欣賞精彩粵劇表演之餘，亦感受到被敬重，並共同發揚粵曲文化。 澳醫學美容協出席中整協分會 【本報消息】中國整形美容協會功效性化妝品分會於上月二十六日在中國昆明市舉行成立大會。中國整形美容協會常務理事、中國澳門醫學美容協會、澳門皮膚激光整形美容醫學會會長陳清海出席，獲任中國整形美容協會功效性化妝品分會常務委員和副會長。 中國整形美容協會功效性化妝品分會，經選舉選出，會長何黎，候任副會長李利，副會長劉瑋、賴維、吴艷、馬琳、鍾曉明、陳清海，秘書長涂穎；並選出常務委員四十多名，委員一百多名。中國整形美容協會會長張斌、中整協會功效性化妝品分會會長何黎、顧問朱學骏、副會長劉瑋，昆明醫科大學第一附屬醫院副院長梁紅敏分別致詞。中整協會辦公室主任靖宣、副主任黃曉梅、商務部主任周曉曉等全國各地醫美激光、皮膚科、功效性化妝品的著名權威專家出席。 扶康會Tag動全城一起Run報名 【本報消息】澳門扶康會怡樂軒將於本月十日（星期六）邀請公衆與殘疾人士一同在松山健康徑參與小型跑步活動——“Run for All”，藉此宣傳及推廣精神健康，實現傷健共融。 “Run for All”將於當日上午九時假松山三十三彎舉行起跑儀式。另外將在十月通過跑步這一有益身心的運動推動公衆關注精神健康，推出“＃Tag動全城一起Run”活動，號召公衆以參與線上跑步活動的形式支持精神健康。 “＃Tag動全城一起Run”於本月五日至十一日在線上進行。活動期間只要在本澳任何地方完成一次最少兩公里的跑步，打卡上傳至活動頁面並Tag兩位朋友，即可參與抽獎。查詢可電二八二六 · 一○○四。 澳大頒獎學金表揚優秀畢業生 【本報消息】澳門大學日前舉行“澳大學術獎項頒獎典禮二○二○”，向七十名成績優異的應屆畢業生頒發十七個學術獎項。 澳大校長宋永華致辭表示，澳大近年積極參與國家、大灣區和澳門建設，去年依托珠海澳大科技研究院建設澳大在大灣區的首個產學研基地，隨後陸續設立人工智能研究中心、區域海洋研究中心、人文社科高等研究院等，全力建設科技和人文社科融合的研究戰略佈局，並積極推動產學研發展和技術成果轉化。宋永華指出，澳大正不斷拓展與內地和海外大學的合作關係，和世界頂尖大學開辦雙聯學位，以及成立聯合實驗室和國家級研究平台等，以提升澳大的辦學水平和國際競爭力，促進澳門高等教育體系的多元化和可持續發展。 獲霍英東基金會學術獎項的葡文系應屆畢業生唐佳璇表示，澳大為學生提供了有很多實習機會，幫助他們更容易適應社會及融入工作環境。教授從大一開始提供參與葡語活動的機會，讓他們能接觸葡語文化和與葡語國家的人溝通，對學習有很大幫助；大三和大四時可以到巴西或葡萄牙當交流生，提升了他們的語言水平。她透露，畢業後將繼續修讀中葡翻譯碩士課程，期望學有所成服務澳門。 典禮上，共頒發十七項學術獎項，分別是澳門基金會學術獎項、霍英東基金會學術獎項、中國銀行學術獎項、澳門國際銀行學術獎項、工銀澳門優才學術獎項、澳能建設──鴻業集團學術獎項、胡氏集團學術獎項、蔡繼有學術獎項、盧道和數學學術獎項、歐維治基金會學術獎項、大西洋銀行學術獎項、澳門電力股份有限公司學術獎項、Synopsys學術獎項、莫綺玲律師事務所暨私人公證員學術獎項、易達通網絡科技有限公司學術獎項、土木工程實驗室學術獎項和易研方案學術獎項。 為鼓勵學生勤奮向學，澳大全年共設立六十多項獎學金及學術獎項，總額超過四百萬澳門元，獲獎學生逾四百名。 黑沙環青年中心興趣班報名 【本報消息】為鼓勵青年參與多元的課餘活動，發揮潛能，教育暨青年局轄下黑沙環青年活動中心將於十一月舉辦多項興趣班，包括親子瑜伽班、司儀培訓初班及手縫環保袋班，歡迎澳門青少年參加。 上述興趣班將採用“先登記、後抽籤、再報名”的方式錄取學員。登記日期由即日起，有興趣的青少年可進入教青局網頁首頁中“活動查詢／登記”登記httpsbitlyFXiAy。若登記人數多於課程名額將會抽籤，中籤者方正式報名，中籤者請根據短訊內的指定報名日期前往黑沙環青年活動中心（黑沙環海邊馬路建華大廈廣場）完成報名手續。當錄取者放棄報名，由候補者補上。候補者將收到主辦單位的電話或短訊通知報名日期，報名表格可於教育暨青年局網頁下載。 如欲了解各項興趣班的詳細內容，請瀏覽教青局網頁httpsbitlyFXiAy，或致電：二八四五 · ○八五二查詢。 大專生見習及實習計劃報名 【本報消息】為了讓澳門大專學生認識及體驗不同專業範疇的創業及就業情況，了解相關行業的實際運作，提升專業能力，高等教育局現正推出“打開新視野——澳門大專學生創業就業見習計劃”及“你想前途——二○二○澳門大專學生實習計劃”，歡迎符合資格的人士報名參加。 高教局今年首次推出“打開新視野——澳門大專學生創業就業見習計劃”，旨在透過短期見習讓澳門大專學生了解不同範疇的創業情況，汲取成功的創業經驗，從而進一步明確生涯規劃方向，名額三十個。參加者將於十月三十日前往佛山市進行為期三日的活動，包括創業見習及參觀當地或鄰近城市創業園區。 凡持有效的澳門居民身份證，且於二○／二一學年在本澳或本澳以外的地區修讀高等教育課程的學生，或於一五年至二○年八月期間完成高等教育課程的澳門居民均可報名參加。有意參加者可由即日起至十月九日登入高教局網頁報名，亦可攜同所需文件前往高教局、大學生中心辦理報名手續。 “你想前途——二○二○澳門大專學生實習計劃”由高教局主辦，澳門中華總商會青年委員會及澳門中華青年工商聯會承辦。超過二十家本澳機構提供四十個實習名額，實習崗位涵蓋金融、工商管理、市場營銷、會計、行政、公共關係、新聞傳播、媒體製作、設計、視覺藝術、工程、旅遊管理、會展及獸醫等專業範疇。學生將獲安排於十一月三十日至十二月十八日到相關企業進行為期三周的實習，親身了解機構的運作情況和企業文化，為未來的事業發展作出更好的規劃。 凡持有效的澳門居民身份證，且於二○／二一學年在本澳或本澳以外地區高校，修讀二年級或以上全日制學士學位課程，以及研究生課程的學生均可報名參加。有意參加者可由即日起至十月十三日登入高教局網頁辦理網上報名手續。 上述兩項活動詳情可瀏覽高教局網頁wwwdsesgovmo。如有查詢，請致電（八五三）二八三四 · 五四○三或電郵至studentblogdsesgovmo與高教局聯絡。此外，高教局密切關注監測疫情發展，倘活動延期或取消，將適時對外公佈，敬請留意相關消息。 Hide Ones Light Under a Bushel——深藏不露 to conceal or disguise one’s talents merit skills or abilities（隱藏或掩飾自己的才能，優點，技能或能力） to be unduly excessively or extremely modest（過分，過度或極端謙虛） 不露鋒芒；不露才能；不露圭角；不炫耀；為善不為人知；韜光養晦；妄自菲薄；過分謙虛 keep it under your hat keep under wraps keep it to yourself bite ones tongue “Hide one’s light under a bushel” first appeared in the Bible Matthew where Jesus said “You are the light of the world A city that is set on a hill cannot be hidden Neither do men light a candle and put it under a bushel … Let your light so shine before men that they may see your good works and glorify your Father which is in heaven” Jesus’ advice was the opposite of the current phrase which can be applied to the able but unassertive person （在馬太福音五章十四至十六節中，耶穌說：“你們是世界的光。在山丘上的城市無法被隱藏。／人也不要將蠟燭點燃而將它放在竹籃下……讓你的光在人面前閃耀，使他們看見你的善行，榮耀你在天上的父。”耶穌的忠告與目前的說法相反，該忠告可以適用於能力強但不氣盛的人。） My boss is a very good speaker versatile kindhearted and hides his light under a bushel As a result he was selected as the worlds outstanding Chinese （我的老闆很健談、多才多藝、心地善良、不露鋒芒，結果被選為世界傑出華人。） Some countries always hide its military development light under a bushel so its strength is hard to fathom （有些國家的軍事發展總是深藏不露，所以其實力令人難以捉摸。） 學勤進修教育中心英語專科導師 李啟文 教授 工聯倡海灣街建行人道拓寬馬路 解決區內塞車和居民出行不便 【本報消息】工聯離島辦事處及工聯氹仔湖畔綜合服務中心樂見日前政府成功收回位於氹仔海灣街旁一幅逾三萬四千八百平方米的土地，對於政府積極處理批給失效或閒置的土地表示支持；期望能優先利用上述土地，拓寬現時車道和增設行人道，以解決多年來區內塞車和居民出行不便問題。 人走車道存隱患 工聯副理事長、離島辦事處主任梁銘恩表示，海灣街是進出海灣花園的重要幹道，現時只設有單線雙向行車道，沒有行人道，且車道連接海灣花園內兩個停車場出入口及學校，每當上下課時段有不少家長駕車途經，車流量十分大。多年來居民一直有聲音反映，海灣街路面窄和缺乏行人道的設置，以致行人只能於車道上行走，存在交通安全隱患。 然而，該街道鄰近有巴士站和行人天橋，加上年前日昇樓社屋落成，使用街道的途人愈見增多，人車爭路每天上演。面對海灣街的交通壓力日益嚴峻，認為有必要擴建和重新規劃；建議優先利用鄰近海灣街一則的回收土地，拓寬街道路面，並增建行人道，務求做到人車分隔，杜絕安全隱患。 遷移垃圾收集點 工聯湖畔中心幹事兼離島社諮會委員歐嘉輝表示，過往海灣街亦曾存在不少安全及環境衛生的問題，如車輛濫泊、大型垃圾隨意棄置在路邊、垃圾引致火災等，這是由於過往土地業權不負責任和亂棄置垃圾所致；過去多年來的反映、跟進，得到政府重視，上述情況已大大改善。建議政府把現時垃圾收集點移至海灣街入口（氹仔東北馬路與海灣街交匯處），減低車輛進入海灣街而形成塞車的情況；期望政府能急居民之所急，把居民生命安全放在工作任務首位，盡快增設行人道，保障行人及駕駛者的安全。 三宗交通意外四傷 【本報消息】沙梨頭南街近麥當勞對開路口昨晨發生一宗涉及私家車與電單車相撞的交通意外，電單車司機及六歲乘客輕傷送院，意外起因待查。 昨日上午近八時半，一輛私家車沿海灣南街駛出至沙梨頭南街路口時，與對面線一輛電單車發生碰撞， 四十二歲女電單車司機及電單車上一名六歲男童受傷，女電單車司機左手肘，左足踝擦傷；男童左小腿及左手肘擦傷，兩人清醒，送往山頂醫院治理。在場警員表示，由於兩車駛出路口均有讓先符號，意外起因有待進一步調查。 另外，昨日上午近十一時，本澳先後發生兩宗涉及電單車交通意外，其中氹仔西提圓形地發生泥頭車與電單車相撞意外，男騎士連人帶車倒地，所幸祇是手腳擦傷，經消防初步包紮後送山頂醫院治理，警員向泥頭車司機了解事發經過。約同一時間，媽閣上街近聖地牙哥酒店處理一宗交通意外，懷疑電單車與私家車碰撞，男騎士報稱身體不適，送鏡湖醫院治理。各意外確切起因有待交通廳進一步查明。 新聞特搜 秋季品嘗大閘蟹 問清來源先至買 月餅少吃多滋味 水果多吃壞肚皮 △秋天是品嘗大閘蟹最佳時節，每年這段時間，街市及各大食肆等都開始售賣大閘蟹。近年網購成風，網絡已成為大閘蟹銷售的一大主要渠道，過往本澳曾發現有人在網上出售未經檢疫大閘蟹，以精美的圖片及較低價錢作招徠，吸引居民購買。 消費者在選購大閘蟹時，應到信譽良好及衛生可靠的店舖，切勿單憑網上廣告圖片決定選購，購買前須清楚知道貨品來源及經正途入口，保障安全及降低食安風險。此外，大閘蟹有機會受環境污染物二噁英所污染，二噁英屬脂溶性物質，多積聚於螃蟹中的蟹黃及蟹膏部分，且蟹黃及蟹膏含有較高膽固醇，故在食用時應控制食用份量，保持均衡飲食，避免從單一食品來源而過量攝入環境污染物。 △今日中秋節，一邊品嘗月餅和水果、一邊賞月，確實一樂也。除了月餅少吃多滋味，水果普遍來說雖然是健康食物，但部分水果的糖份含量極高，也不宜多吃，尤其患有糖尿病人士等，可免則免。 中秋應節水果多樣，如提子、杧果、白桃和水晶梨一向甚受歡迎，但上述水果糖份含量極高，如每一百克提子便有十四點四克的糖份；每一百克杧果便有十二點八克的糖份；每一百克白桃便有九克的糖份，一個約三百八十克白桃，其糖份含量便等於七茶匙的糖份；每一百克水晶梨便有四克的糖份，一個水晶梨約有十六克的糖份。所以，就算水果相對其他食物較為健康，享用時也要適可而止。 康公廟現管理糾紛各執一詞 【本報消息】康真君廟慈善會昨發出聲明指，該廟慈善會自昨日起終止盧樹鏡司祝的合約，即盧不可再參與該廟任何活動，亦無權以該廟慈善會或該廟名義進行任何活動。由於盧拒絕離場，該廟慈善會將透過法律程序處理。 據該廟慈善會與盧於己卯即一九九九年五月初二日簽署的司祝合約，已於癸未即二○○三年五月初一日屆滿，期後雙方亦未再簽署新合約。為此，有關合約實際上已失效。然而本着雙方良好的合作關係，該廟慈善會一直以來均以按月形式讓盧繼續作為該廟司祝，並按原合約規定，由盧負責廟內司祝工作，為善信提供相關服務。 該廟慈善會作為康真君廟管理實體，旨為供奉康公廟信仰，為一非牟利慈善會，故司祝合約內也圍繞這點，要求司祝不可阻擾訛索，不得另設緣部，不得濫索利等，以履行該廟慈善會的宗旨。作為該廟管理實體，亦有責任管理各項廟宇活動，並應由該廟慈善會作決定。 然而，該廟慈善會發現有人在未有通知及獲該廟慈善會准許情況下，擅自與其他社團合作進行廟宇活動，按原有司祝合約並無賦予其可以私自進行有關活動。另盧從未向該廟慈善會交代任何賬目。為此，該廟慈善會即時終止盧所提供的司祝服務。 昨傍晚六時，盧於廟前召開記者會，對該廟慈善會發出的聲明內容不表認同，○三年至今一直向慈善會交租，已報警備案，並通知文化局要求介入。於該廟擔任司祝逾廿年的他稱，雖與慈善會簽署的司祝合約逾期，但慈善會一直未提出過續約事宜，故認為不存在合約失效與否的說法，會尋求法律途徑解決問題。 該廟現已解封，原進駐廟內的兩名保安員亦離場。現階段，雙方各執一詞，事件仍待法院跟進處理。 男子疑濫用半掛車牌押後判 【本報消息】一名本地男子涉濫用半掛車牌駕駛多部半掛車，其於初級法院應訊時選擇緘默。辯方律師認為，案件只屬行政違法，不涉刑事成份。案件押後宣判。 被告姓梁，男性，約三十歲，涉偽造文件，於審訊中選擇緘默。 負責調查的工作人員稱，在接到交通事務局的公函後，到涉案的現場了解，發現有三部半掛車使用同一個車牌，認為事件不正常；交通局代表指出，相關車牌須要經過當局註冊，屬於車輛的其中一個類別。每一部半掛車對應一個編號，決不能一個牌照同時放在數部車上。 辯方律師結案陳詞指出，相關車輛並不一定要由梁某駕駛，梁某亦非涉案登記公司的唯一股東，故未能確定是誰把該半掛車牌放入相關半掛車，認為案件存疑。有感該案是濫用車牌，不是偽造文件，相關行為只屬行政違法，不涉刑事成份。 遭男網友失銀包為名借錢 內地女疑墮求助詐騙失七千 【本報消息】一名內地女子報稱上月疑遭持有澳門證件的男網友以遺失銀包名義，要求借錢協助，最終被詐騙六千八百元人民幣。司警接手調查案件，暫未拘捕任何人。 網展證件博信任 二十七歲、報稱家庭主婦的內地女子向司警報案，指在上月中透過手提電話交友程式“探探”認識一名稱Terry的男網友。之後，兩人轉用微信繼續聊天。同月二十四日，男網友聲稱在內地遺失了銀包，要求女事主提供金錢協助，包括借六千五百元人民幣贖回銀包，另再借三百元人民幣入油費。 男網友因曾在網上展示一個澳門證件，女事主信以為真，在當日透過微信支付分兩次向男網轉賬六千八百元人民幣，對方又承諾會在廿五日還款，惟之後以不同藉口拒絕還款。在廿六日，男網友更拒絕接收女事主的語音訊息。女事主懷疑受騙，在廿八日向司警報案追究。 女莊荷涉用逝者醫券待判 【本報消息】初級法院審理一宗用“死人”醫療券案，涉案女被告選擇緘默。案件押後宣判。 女被告姓陳，約四十歲，莊荷，涉偽造具特別價值文件罪。 案情顯示，衛生局接獲投訴指，有人使用陳某已去世家人的醫療券。經調查發現，陳某使用位於關閘入境大堂的自助機，列印已去世家人的六百元醫療券，並分多次在某一家醫療機構使用。衛生局在詢問相關醫生時，對方稱有依照指示要求醫療券要跟本人簽名，以及出示相關的身份證明文件等。 金灣機場對開海域查獲 珠海警破六千萬走私香煙案 【本報記者廣州卅日電】中國海警局近期連續查獲兩宗起海上特大涉嫌走私香煙案，查扣各類香煙近五十萬條，涉案總金額達一億一千多萬元人民幣。其中，珠海海警最近珠海金灣機場對開海域查獲涉案六千萬元的特大走私香煙案。 據透露，最近珠海海警特大走私香煙案，查扣一艘涉嫌運載無合法手續香煙船舶，抓獲十一名涉案人員，查獲了二十六萬多條“中X”、“芙X王”等品牌香煙，涉案金額達六千萬元，成為是廣東海警局成立以來查獲的首起涉嫌海上走私香煙案。 據介紹，在九月九日晚上約十時，廣東珠海海警局得到線索，金灣機場對開海域可能有外來走私貨船進入轄區海域。珠海海警局馬上全面研判，制訂周密的緝私行動方案，迅速派遣正在該海域巡邏的執法艇前往查緝。 當晚約十時半，珠海警執法員在朦朧夜色中，突然發現一艘形跡可疑的船隻。執法艇的指揮員根據經驗，馬上鎖定此艘船隻作為目標，在研判海況等綜合情況後，利用執法艇靈活機動的優勢，對其展開高速追擊，最終將其截獲。 珠海警方經過登臨涉嫌船隻檢查後發現，在該船中載有“中X”、“芙X王”等品牌涉案香煙二十萬多條，均為無法來源的香煙，涉案金額巨大，目前該案仍在正在進一步偵辦中。 據悉，該案是珠海市建市以來查獲案值最高、香煙數量最多的一宗海上走私香煙案。自開展“國門利劍二○二○”專項行動以來，珠海海警局通過派遣執法艇加大對重點海域、重點時段、重點船舶巡邏管控力度等方式，全方位保障轄區海域安全穩定。 近期內地海警破獲的另一宗走私香煙大案發生在九月廿五日，浙江海警局在溫州甌江查獲海上特大涉嫌走私香煙案，現場抓獲一艘走私船，六名疑犯，查扣近廿四萬條香煙，涉案金額達到了五千多萬元，該宗案件目前仍在在進一步偵辦中。 讀者捐款 【本報消息】本報收到熱心讀者捐款。張嘉蓮二百元，捐同善堂。本報將於日內轉交受惠機構。 暫不推三輪經援 現金分享研究中 政府擬增二百億過年關 【本報消息】政府準備再修訂今年財政預算，撥用財儲約二百億元應付年尾十一、十二月的開支。行政長官賀一誠昨表示，由於博彩稅收仍低迷，收入減少，財政壓力大，早前追加的預算只能撐到十月份，故不排除很快再修訂今年度財政預算。 開支只能撐到十月 賀一誠指出，上一次的財政預算修訂案已將今年預算二千六百億元收入，下調至一千三百億元，但疫情延續至今，本澳整體收入仍然很低，惟政府的剛性開支，包括公務員薪酬、社會福利等沒有減少，醫療開支更加增大，早前追加的約四百億元預算亦只能撐到十月份。 明年難減部門預算 至於明年會否繼續削減部門的預算？他坦言目前各部門非人工開支要減少一成已很辛苦，明年難再有壓縮空間，否則很多對社會的支撐都會出問題。 恢復自由行停經援 賀一誠重申，暫時不會推出第三輪經濟援助，強調之前的經濟援助措施只是因應今年未有內地旅客，在完全封閉下採取內循環措施，不能長期做。如今，內地已全面開放，恢復來澳旅遊簽註，故不應再浪費公帑進行經援的財政支撐。但政府一定會視乎疫情發展決策。 至於明年現金分享會否繼續有？政府仍在研究，需待下月發表的施政報告。 逾五百億抗疫經援 為應對突然而來的新冠肺炎疫情，現屆政府於今年四月兩次修改本年度財政預算案，先是動用超額儲備三百八十九億五千萬澳門元，用於防疫和經濟援助措施。之後再增撥逾一百三十六億元，包括追加澳門基金會一百億預算，作為抗疫援助經濟措施的特定款項金，以及追加電子消費卡的補貼等措施。 祖國支持抗疫 澳成安旅城市 賀：發揮雙循環平台作用 【本報消息】特區政府昨舉行慶祝中華人民共和國成立七十一周年酒會。行政長官賀一誠致辭時表示，目前國家正構建以國內大循環為主體、國內國際雙循環相互促進的新發展格局。澳門特區將充分發揮處於國家經濟雙循環交匯點的平台角色作用，在積極參與國內經濟大循環、進一步融入國家發展大局的同時，在做好疫情防控的前提下，參與國際經濟循環，服務國家新形勢下的對外開放和澳門經濟持續發展。 國慶酒會千人出席 慶祝酒會昨日上午九時半於中國與葡語國家商貿合作服務平台綜合體舉行，行政長官賀一誠、全國政協副主席何厚鏵、澳門中聯辦副主任姚堅、前任特首崔世安、外交部駐澳門特派員公署署理特派員王冬、解放軍駐澳部隊司令員徐良才、立法會主席高開賢、終審法院院長岑浩輝於主席台就座。行政會委員、立法議員、特區政府官員、澳區全國人大代表、政協委員及各界人士等近一千一百人出席。 賀一誠致辭時表示，七十一年來，國家實現從站起來、富起來到強起來的偉大飛躍，取得舉世矚目的發展成就。今天，在實現中華民族偉大復興戰略全局，以及世界百年未有的大變局加速演進的關鍵時刻，國家取得抗擊新冠肺炎疫情的重大戰略成果，向世界展示全國人民“生命至上、舉國同心、捨生忘死、尊重科學、命運與共”的偉大抗疫精神，極大地增強包括澳門同胞在內的全國各族人民的信心、自豪感及凝聚力。 恢復自由行撐澳門 今年我國將全面建成小康社會，實現第一個百年目標；明年，我國將乘勢而上，開啟全面建設社會主義現代化國家新征程，向第二個百年奮鬥目標邁進，由此將進入新的發展階段。 賀一誠強調，國家始終是澳門的堅強後盾。面對新冠肺炎疫情全球大流行所帶來的嚴峻考驗，在中央政府的關心和指導下，澳門特區政府團結廣大居民，取得來之不易的重大階段性成果。 致敬前線各界抗疫 他認為，澳門已經是一座安全的旅遊城市。隨着全面恢復辦理內地居民來澳門旅遊簽註，澳門經濟社會將逐步恢復，各項事業的發展將穩步推進。他特別感謝中央政府對澳門抗疫和經濟社會恢復工作的大力支持，並再一次向前線醫護人員、消防人員、警務人員和全體公務人員致以崇高的敬意，以及對積極配合政府抗疫工作的社會各界人士和廣大居民表示衷心感謝。 儘管面臨疫情嚴峻衝擊，但澳門特區政府始終牢記使命，認真貫徹和落實習近平主席提出的“四個更加積極主動”、“四個始終”、“四點希望”等講話精神和指示，堅定不移地踐行“一國兩制”、“澳人治澳”、高度自治的方針，圍繞“一中心、一平台、一基地”的發展定位，持續推進特區各項建設。 推進橫琴粵澳合作 賀一誠又提及，今年以來，特區政府落實“抗疫情、保就業、穩經濟、顧民生、推改革、促發展”的施政總方向，在做好防控疫情、促進經濟穩定及復甦、保障民生、推動公共行政改革、加快城市建設的同時，積極推進橫琴粵澳深度合作區的建設。 在中央的支持和指導下，特區政府與廣東省政府加緊開展橫琴粵澳深度合作區的頂層設計工作，磋商制訂深度合作區總體方案，加快落實將深度合作區打造為“一國兩制”實踐示範區和高水平參與國際經濟合作新平台，澳門與橫琴各項合作工作亦穩步推進。 壯大愛國愛澳力量 他指出，澳門與祖國的命運始終緊密相連。特區政府將持續加強愛國主義教育和青少年工作，發展壯大愛國愛澳力量，傳承弘揚愛國愛澳核心價值。自覺維護國家主權、安全、發展利益，守正創新、務實有為，主動把握粵港澳大灣區和“一帶一路”建設等重大發展機遇，加快實現澳門經濟復甦和適度多元發展，推動特區各項事業不斷取得進步，深入推進具澳門特色的“一國兩制”成功實踐。 雙節長假旅客量欠理想 賀稱正商延核檢有效期 【本報消息】疫情下的國慶疊加中秋“黃金周”，旅客比對往年大不如前。行政長官賀一誠預期“黃金周”客量不會太理想，希望每日有兩萬人次的旅客量。要回復往昔的旅客量，相信需走漫長的路。至於能否將核酸陰性有效期由七日延長至十四日？正與國家衛健委研究放寬措施是否有科學依據。 未復電子簽註影響 赴澳旅遊簽註恢復至全國後的首個“黃金周”，訪澳旅客不多。賀一誠表示，現時本澳有很多防疫措施與內地城市之間的防疫措施有所不同，例如內地低風險地區之間不需核酸檢測手續便可往來，但內地旅客來澳仍需核酸檢測陰性，加上內地簽註未恢復電子簽註，致有阻礙內地旅客來澳的可能性。今年國慶“黃金周”與中秋節重疊，昨日傳統是在家團圓，相信內地旅客會選擇今明兩日才出行。他希望旅客能來澳旅遊，但估計客量不太理想，亦沒有歷史經驗可參考，難以預測內地旅客是否願意來澳。 冀有效期延至兩周 被問及最快何時放寬防疫指引，將核酸陰性有效期由七日延長至十四日？賀一誠表示，正與國家衛健委研究放寬措施是否有科學依據，若認為可以的話就可逐步放寬，但現時難以答覆。至於與香港恢復正常通關，須視乎香港是否被國家列為低風險地區。 特區國慶升旗禮簡約莊嚴 出席人士須測溫 取消表演歡樂跑 【本報消息】為慶祝中華人民共和國成立七十一周年，特區政府昨日上午八時於金蓮花廣場舉行升旗儀式，由行政長官賀一誠主持。中聯辦副主任姚堅、外交公署署理特派員王冬、駐澳部隊司令員徐良才、立法會主席高開賢、終審法院院長岑浩輝，以及各界人士出席。 行政長官在保安司司長黃少澤陪同下步入廣場，檢閱由治安警、消防、海關及警察銀樂隊組成的儀仗隊。隨後，國旗、特區區旗在特警護送下進入金蓮花廣場。儀式期間，來自五十名聖心英文部中學生高唱國歌，國旗及特區區旗在歌聲中冉冉升起，場面莊嚴隆重。 因疫情關係，今年升旗儀式取消表演節目，過往於升旗儀式後舉行的國慶歡樂跑亦告取消。為配合本澳防疫措施，除治安警察局銀樂隊外，場內嘉賓及所有人員均需接受體溫檢測及佩戴口罩，上百名民眾到場觀禮。 梁女士表示，離開澳門移居美國已多年，是次因疫情關係，一直留在澳門，適逢國慶中秋雙節日特意到現場觀禮，首次親身感受升旗儀式現場氣氛，感到開心激動。 來自廣西的旅客陳女士表示，升旗儀式中看着國旗隨著國歌聲中冉冉升起，激起愛國熱情。十月一日是祖國的生日，祝賀祖國繁榮昌盛，越來越好。她並特意帶小孩到場感受升旗儀式的莊嚴。 在澳就讀大學的內地生陳同學表示，升旗儀式既震撼又自豪，離開家鄉，但在澳門特區看升旗儀式感到特別有意義，惟觀禮距離有點遠；晚上亦會觀賞國慶煙花匯演，感受節慶氣氛。 雙慶首日各口岸順暢 中區人流明顯增 商戶指生意一般 【本報消息】內地國慶中秋一連八天超級假期開始，昨至少逾十一萬遊客進出本澳，其中關閘仍是主力關口。不少旅客到中區觀光遊玩，有人來澳玩兩日一夜，亦有店員稱人潮增加但生意未見起色。 昨日上午十一時，關閘口岸未見訪澳旅客大軍。大部分出境旅客則提前做好轉碼，亦有人在“教學區”排隊學轉碼；關閘口岸的士站、巴士站及發財巴候車區秩序良好，巴士公司派員在場解答旅客疑問，警方加派警員維持秩序。至下午中區一帶逐漸熱鬧起來，新馬路、議事亭前地、大三巴一帶旅客明顯較平日增多，手信店職員落力叫賣，但表示生意一般。 有來自珠海的旅客表示，首次來澳門並提前做好核酸檢測，將在本澳留宿一晚，酒店租金約五百元，除購物外更計劃到娛樂場碰運氣。 根據警方資料，截至昨日下午五時，全澳各口岸總出入境約十一萬三千人次，其中入境約五萬四千人次，出境約五萬九千人次；當中關閘口岸約九萬九千人次，港珠澳大橋澳門口岸約四千四百人次，橫琴新口岸約六千九百人次。 國慶中秋喜相逢 煙火璀璨月朦朧 【本報消息】國慶中秋喜相逢，節日氣氛倍升。為慶祝雙慶，旅遊局與珠海市橫琴新區管理委員會合辦“月滿琴澳國慶煙花表演”昨晚上演，吸引大批居民旅客在澳氹兩岸觀賞。 中秋夜天色好轉，縱然雲量較多，但仍能偶然看到一輪明月，雲層掩蓋更令月色增添一份朦朧美。不少居民戴上口罩，扶老攜幼外出“賞月賞燈賞煙花”。南灣湖、西灣湖、旅遊塔、科學館、觀音像、氹仔海洋花園等觀賞熱點，無不人頭湧湧，熱鬧非常。不少攝影愛好者提早到場，佔據有利位置，架起“長槍短炮”記錄煙火燦爛瞬間。現場歡聲笑語，一驅逾半年來的冷寂。 “月滿琴澳國慶煙花表演”是繼去年回歸煙花後，橫琴與澳門再度聯手炮製的煙花表演，表演晚上九時開始，歷二十分鐘，分成“相約濠江”、“情動澳門”、“澳韻琴聲”三大部分。由於填海工程影響，躉船位置有所調整，整個表演煙花較靠向橫琴金融島。煙花以紅、綠、金及藍色為主，高中低煙火連珠爆發混雜上演，令表演充滿層次感。除了圓型煙火外，表演過程亦夾雜“中”字、心型等特別圖案，在規律中增添變化。 居民張先生與家人一同外出賞月，順道觀看煙花表演。表示小朋友一直都非常喜歡“睇煙花”，每年的國際煙花匯演都會要求外出觀賞。今年匯演受到疫情影響取消，已令小朋友非常失望，幸好國慶煙花未有取消，而且剛好碰上中秋節，小朋友數日前已經興奮不已。面對疫情，取消煙花匯演無可厚非，認為政府的安排可以理解，希望疫情盡快過去，小城重現昔日熱鬧。 疏人潮鐵欄緩衝通道分流穿梭巴無所用 長假首日未見內地客湧澳 【本報消息】昨日起踏入內地一連八天的國慶、中秋長假，但內地居民訪澳熱情似乎暫未被點燃，經珠澳各口岸訪澳遊客未見踴躍，其中拱北口岸通關來澳人流疏落暢順，加上公眾假期跨境勞工和學生大幅減少，口岸廣場在長假首日未出現排隊輪候通關人龍。廣場預先準備應付人潮的大批鐵欄緩衝通道無需啟用，原準備昨起運作的三條口岸客流免費分流穿梭巴士專線亦暫未使用。 料假期中段現高峰 昨日國慶中秋雙節臨門，也是上周三全國恢復來澳自由行簽註後的第一個長假首日，然而也許受中秋合家團圓的傳統習俗影響，昨日經拱北、橫琴、灣仔和大橋口岸訪澳的內地居民均未見踴躍。拱北口岸通關人流僅略多於近期的平日，其中上午時段離澳過關北上的本澳居民人流，似乎更多於從拱北通關訪澳的人流密度。至臨近中午時段通關來澳人流更疏落，拱北口岸廣場、風雨長廊及驗證大廳等處的來澳通關人流行進速度均相當暢順。 拱北邊檢站表示，通常每逢除夕、中秋等傳統節日，拱北口岸的通關人流均處在較低狀態，中秋節是萬家團圓的傳統佳節，昨日出入境客流量也僅相當於近期平日的水平，相信今日起特別是長假的中段料會出現通關客流高峰。該站已未雨綢繆，提前配備充足警力，並與澳門邊檢部門保持聯勤聯動等協作聯繫，隨時應對可能出現的客流高峰。 城軌珠海站人流眾 拱北邊檢站還提醒旅客出行前，一定要留意自己和家人的證件和簽證（簽註）有效期，及時了解口岸通關信息，預留足夠時間辦理通關手續，以免耽誤行程。如拱北出現輪候客流高峰，應主動改從橫琴或大橋口岸通關。 與拱北口岸通關客流疏落相比，廣珠城軌珠海站廣場及進出站的人流反而更加密集，站前廣場到處可見拖著大件行李箱的珠海出遊客或抵埠訪珠人群。大部分到站及出站列車均維持有八成以上乘客，城軌廣場的士站輪候乘車人群大排長龍。 此外，位於拱北口岸地下商場負二層的士站和西平台兩個核酸檢測採樣點，自本周一起疑因網絡故障停止運作以來，到昨日下午仍然繼續關門停止服務，現場無人值守，且室內部分物品已搬走，聯繫電話也無人接聽，暫未知何時恢復運作。 國慶中秋夜居民扶老攜幼賞月觀煙花 小城慶雙節歡聲處處聞 【本報消息】國慶日，中秋夜，小城歡欣處處。日間天空佈滿厚重雲層，幸入夜後天公造美，皓潔滿月在浮雲中若隱若現，居民遊客不時得賞朗月。 公園休憩區賞月 團圓飯後，官方和民間舉辦的賞燈賀中秋活動場所漸見人潮，居民一家大小、三五知己猜燈謎、玩遊戲，樂也融融。不少居民選擇到海傍欣賞璀璨煙花、中區睇燈飾，或到休憩區、公園邊賞月邊享用應節食品，與家人共聚天倫。 晚上七時後厚雲漸散，滿月在浮雲中若隱若現。雖然不時月色矇矓，但無損居民一家大小、三五知己，或雙雙對對到黑沙環海濱公園長廊、祐漢公園、筷子基北灣休憩區、水塘休憩區等地點賞月。海濱長廊、水塘休憩區等處，不少居民帶同賞月食物席地而坐，享用應節食品，在雲中追尋滿月。小朋友手持燈籠互相追逐嬉戲，家長則用相機拍下子女的歡樂時刻。 議事亭人月兩圓 議事亭前地入夜後燈色璀璨，葡式建築配搭大型傳統燈籠佈置，節慶氣氛倍增。不少旅客、居民流連於碎花燈下，用相機或手機留下中秋人月兩圓的難忘一刻。有小朋友“盛裝”打扮成“嫦娥”，在現場拍照；一旁樂隊演奏，居民、旅客駐足欣賞。亦有居民購買小食、飲品，一邊品嘗一邊賞月、觀燈，好不開心。 琴澳國慶煙花表演於晚上九時上演，不少居民全家出動到中區或南灣湖一帶賞月兼看煙花，雅文湖畔光影璀璨，人潮處處，精彩煙花讓居民旅客爭相拍攝，小朋友驚嘆連連。 光影明月相輝映 北區多個公園人流處處，正舉辦光影節的黑沙環公園人氣最盛。由於防疫和分流，部分設施需要排隊入場。有居民表示，疫情後市面很少有如此濃厚節日氣氛。可能不少居民選擇留澳過節，今年公園的人流更勝往年。可幸居民很守規矩，基本人人都戴口罩。大家都希望疫情早日結束，盡快過上正常生活。 離島方面，晚上十時，氹仔中央公園兩處兒童遊樂區人頭湧湧，居民扶老攜幼到場賞月玩燈籠，歡聲笑語，大、小朋友享受“人月兩圓”天倫之樂。有石排灣居民表示，區內較少休憩設施，不少人選擇在家中度過。期望當局盡快於區內增加設施，讓居民節慶也可到戶外耍樂。 齊慶雙節 國慶中秋雙慶，衆多居民在南灣湖畔賞月兼觀看國慶煙花。 何展衡 攝 國慶牌樓展示國家建設成就 過去每逢國慶節，居民最期待的就是觀賞國慶牌樓。當時本澳資訊不發達，國慶牌樓成為宣傳祖國建設的重要平台，每年吸引不少居民觀賞。 初時的牌樓比較簡陋，全澳各區共有十多座。後來經過國慶籌委會決定，每年重點展示五座牌樓，其中一座不變的，是按比例搭建的天安門牌樓，聳立在議事亭前地，宏偉壯觀。另外四座則展示當年的國家建設成就，新安江水電站、衛星上天、第廿六屆世界乒乓球錦標賽，勇奪七項世界冠軍等等，都曾是牌樓的重要內容。每年的國慶牌樓都吸引澳門居民觀看，尤其當時很多人沒有機會到北京，天安門牌樓成為當時居民的“打卡”熱點。 當時搭建牌樓涉及多個行業，有美術、搭棚、造木、油漆、電氣等不同工種。美術方面，在一班前輩美術工作者帶領下，電影院的美工、學校的美術老師，甚至學生均一同參與。在國慶前的一個半月聚集一起，各盡所能，完成每年的牌樓工作。 直至上世紀七十年代初，牌樓完成了歷史使命，而二十多年間培養了一代美術界中流砥柱。 如欲了解更多牌樓的歷史，可以立刻掃碼欣賞。 張榮順三建議勉匯智社 【本報消息】中聯辦副主任張榮順上月二十九日在辦公樓會見澳門匯智社會長楊駿、理事長黃慧芝、監事長劉家裕、秘書長黃茵等新一屆領導架構成員。中聯辦協調部長傅鐵生參與會見。 楊駿表示，感謝社會各界一直以來對該會的支持和指導。未來匯智社將凝聚團結會內成員，不斷增升綜合素質與才幹，增加與各社團交流和合作，共同為“一國兩制”行穩致遠而努力。黃慧芝總結過往的活動以及介紹未來的會務工作。 張榮順充分肯定匯智社有關會務情況和新一屆工作計劃。期望新一屆領導架構帶領匯智社全體會員，在原有成績的基礎上再接再厲、更上一層樓。他就匯智社的未來會務工作提出建議： 一是提高站位、開闊視野。積極加強學習，增進對國際形勢、國家發展和澳門發展形勢的認識，以實現中華民族偉大復興中國夢這一共同的奮鬥目標團結廣大澳門青年，共同擔負起推動澳門未來發展的重任。 二是加強交流、增長才幹。結合會員處於各行各業的現狀，加強交流，不斷提升自身綜合素質和能力本領。 三是創新會務、彙聚智慧。積極開動腦筋、創新會務組織方式，多利用資訊化通訊形式，廣泛聽取並彙聚廣大會員的意見建議，凝聚各方智慧，不斷推動匯智社會務發展。 他鼓勵青年人可多從國際視野、國家發展、澳門發展三個角度思考問題，並應當不斷增值自身、開闊視野、積累知識，為未來發展做好充分的準備。 參加是次會見者還有中聯辦副處長级助理劉文濤、吳國權，澳門匯智社司庫梁敏平、副會長何永康、副秘書長張曉怡等。 歐陽瑜勉文創業界走出去 【本報消息】澳門文創業界一行在行政會委員陳家良的帶領下，於上月二十九日下午拜訪社文司司長歐陽瑜，雙方交流澳門文創產業未來的發展路向。 文創業界代表分別來自服裝、設計、出版、影視娛樂製作等不同行業，簡單介紹各自行業的發展現狀、社會效益等。業界表示，新冠肺炎疫情對本澳各行各業產生一定影響，文創業界應更加團結一致，思考行業未來發展路向。同時期望政府出台更多扶持政策，幫助業界對外搭建橋樑，進行行業配對與交流，提供更大發展空間。 歐陽瑜指出，政府一直以來都非常重視與支持本澳文創產業發展，並且樂於與業界溝通，保持緊密聯繫，也樂於在不同平台為文創產業搭建橋樑。勉勵業界走出去，特別在疫情期間應多利用網絡平台把澳門文創成果推廣出去，擴大本澳文創產業影響力。 參與拜訪人士還有文教出版協會會長胡達忠，服裝業協會會長徐淇蓓、理事長黎秀瓊，影業協會會長鍾楚喬，棋人娛樂製作創辦人鍾楚霖，澳門設計中心執行長馮文偉，一國娛樂製作有限公司創作總監李峻一，文化公所總監趙香玲，望德堂區創意產業促進會理事長黃少春，微辣文化執行董事姜偉靖等。 福總之秋系列活動頒獎 【本報消息】為豐富居民精神文化生活，傳遞齊心抗疫的正能量，弘揚敬老尊賢的傳統美德，營造昂揚向上、歡樂祥和的“國慶、中秋”雙節氛圍，福建同鄉總會主辦，漳州同鄉總會、社區服務協進會、福建青年聯會、福建學校、立方米綜合活動中心、發一崇德文教會等團體承辦的“福總之秋”文化系列活動於昨日下午四時在民眾建澳聯盟禮堂舉行頒獎典禮。 旅遊局長文綺華、中聯辦協調部副部長余向軍、教青局代副局長黃健武、中聯辦協調部副處長馮明才、社工局代表蘇玉璇，福建同鄉總會執行會長陳明金、理事長黃天松、監事長關榮豐、副會長吳錫琛、許文曲、施家倫、李杉龍、許慶良、陳明白、王民星、魏榮華、陳言華、李清欣、蘇德進、嚴耀庭，以及閩籍社團負責人和系列活動各承辦單位負責人等出席，並一同觀賞“福總之秋”系列活動中攝影、書法比賽的優秀作品。 陳明金向系列活動承辦單位頒發紀念證書，感謝各單位一個多月來的辛苦付出，各項活動得以順利舉辦。黃天松向與會人員送上雙節祝福。魏榮華代表承辦單位致詞。 “福總之秋”文化系列活動以“弘揚美德 · 尊賢敬老”為主題，自九月份啟動，先後開展“齊抗疫、護家園”攝影比賽、“弘揚孝道 · 書寫童趣”兒童硬筆書法比賽、“傳承書法藝術 · 品味古韻墨香”書法比賽、“迎中秋 · 祝國慶”猜燈謎活動等。頒獎禮上，嘉賓分別為三項比賽各組金、銀、銅獎、優秀獎及最佳人氣獎等頒獎。現場歌聲交融，節目紛呈。 塔石行車隧道亟需維修 有讀者反映，早前駕駛電單車途經塔石行車隧道時突然“降雨”，其後竟發現隧道天花長年滴水，部分位置更被樹根貫穿。該隧道作為本澳主要交通樞紐之一，若不及早維修或正視問題，日積月累或會導致更嚴重的問題發生，促當局盡快檢視堵漏。 塔石行車隧道開通多年，為貫通荷蘭園和高士德馬路的主要交通幹道之一，每天途經的車流量龐大，下方的旅遊巴停車場更是經常都會有旅客出入，維修保養不容忽視。然而，有讀者早前駕駛電單車途經隧道下方時，突然被天花的水流滴中，幸當時能及時抓緊車把未有失控發生意外，其後更發現隧道下方部分天花已被上方的樹木樹根貫穿。質疑該隧道作為本澳主要交通樞紐之一，若有其他駕駛者不清楚狀況未能及時剎掣，或釀成嚴重意外。同時，在自由行開放經濟逐步復甦之際，若相關情況仍未有改善，長年累月會否影響當中的水土問題？上方廣場經常人來人往，萬一突然相關位置“塌下”會否造成更嚴重的意外？ 雖明白該處為繁忙路段一旦開展維修工程將影響交通，惟知道問題存在卻不正視和及早處理，任由問題發酵更奇怪。故期望當局能盡快派員到場檢測，改善情況。 悅 鳴 泌尿外科學會舉行學術年會 【本報消息】受新冠肺炎疫情影響，一年一度的澳門泌尿外科學會年會，今年改以現場和線上同時進行，於上月二十六日上午九時舉行，線上線下逾一千人參與學習。 今年適逢泌尿外科學會成立十五周年，年會主要邀請國內外專家以視像形式做專題講座。國內和澳門的參會者網上參會，一方面避免聚集，另一方面擴大學會的影響，更進一步與大灣區同道溝通合作，成功建立良好的學術交流平台，可算是逆境中的一大突破。 會議由澳門泌尿外科學會主辦，粵港澳大灣區泌尿生殖聯盟協辦“澳門泌尿外科學會第十五屆學術年會暨第三屆粵港澳大灣區泌尿生殖聯盟學術會議”。分別由粵港澳大灣區泌尿生殖聯盟主席蘇澤軒（線上），澳門泌尿外科學會會員大會主席甄立雄、會長李堅致歡迎辭和開幕辭。會議主題是“新冠病毒與男性健康”，透過網絡雲集來自美國、內地、香港、台灣和澳門本地的著名專家學者討論和交流。議題包括從COVID病毒對男性健康的影響，前列腺增生症的治療，尿道結石治療的新技術，前列腺癌治療最新進展，HPV病毒與男性健康、輸尿管狹窄的手術治療等多方面，參與者獲益良多。 通過使用嶄新的科技和會議模式，澳門泌尿外科學會團隊與同行之間的交流不再受地域時空的阻隔限制，為本澳的醫護人員提供最新的泌尿系統疾病的資訊和治療。 澳晉青珠考察收穫豐 【本報消息】澳門晉江青年聯合會主辦的“澳門青年大灣區考察學習團──珠海”活動日前舉行。活動得到澳門基金會贊助，珠海市委統戰部、金灣區委統戰部及寶龍集團支持。全團三十餘位澳門青年參與，由中聯辦協調部處長陳影燕任顧問，二天一夜的行程中包括參觀珠海市航空新城規劃展覽館、金灣區健康港及遊覽東澳島文化特色景點等，以及參訪珠海健康產業的上市公司──湯臣倍健，團員均表示收穫豐富。 團長蔡思偉表示，感謝珠澳兩地部門在疫情防控做了大量工作，取得很好的成效，兩地的交流開始正常化。適逢今年是珠海經濟特區成立四十周年，澳晉青組織交流活動，希望澳門年輕人更熟悉鄰居城市。作為國家首批經濟特區，珠海一直肩負着為現代化建設先行探路的使命，已從昔日邊陲小鎮變成現代化都市。行程中參訪的航空新城規劃展覽館、金灣區健康港及湯臣倍健企業，展示金灣區在航空、生物醫藥等產業的優勢格局。 統籌許結玲補充稱，澳晉青過去三年均有舉辦大灣區城市的考察學習交流活動，了解不同灣區城市的社會文化發展，經濟產業定位等，尋找更多的就業創業機會。在國家政策重點支持下，珠海中醫藥、高新技術、特色金融等領域發展日新月益，很多新技術、平台及營運模式等經驗值得澳門學習借鑒。 團體中秋敬老 【本報消息】國慶、中秋同日，多個團體傳承尊老、愛老、敬老的傳統美德，關懷、慰問長者，向他們送上節日禮物及問候。 澳門增城同鄉聯誼會與澳門廣州社團總會組織慰問團日前前往增城區正果浪撥村、西湖灘村探望老人，得到增城區統戰部長廖平、副部長陳笑弟，以及正果鎮浪撥村、西湖灘村村幹部的支持。慰問團與老人親切交流，送上衷心祝福。 廖平表示，增城區出台僑夢苑“”系列政策後，為港澳台青年到增城發展提供更多的選擇空間和更好的創業環境。增城同鄉聯誼會會長毛彩鳳稱，藉中秋佳節來臨之際，組織旅澳增城青年回鄉，了解當地的風土人情，增加愛國情懷。參與活動的還有該會名譽會長劉建鋒，監事長黃蘭歡，副會長吳潮添、林欣豪、危曉玲、胡寶權、朱容娣、吳穎芝等，澳門廣州社團總會秘書劉詩雅等。 澳門東源同鄉會於上月二十七日晚上八時在黃金酒樓宴會廳舉行“慶祝中華人民共和國成立七十一周年和澳門回歸二十一周年暨賀中秋送溫馨敬老愛幼獎勵優異生的會員聯歡晚會”，與會者眾，筵開三十席。 東源縣委常委統戰部長張曉玲、統戰部常務副部長張淩、工商聯黨組書記朱錦標、歸國華僑聯合會主席呂海標、統戰部主任楊柳芳，該會創會主席曾明、會長曾輝泉、理事長曾東、副會長曾憲廷和曾林才以及青年會長曾浩等出席。曾輝泉、張曉玲分別致詞表示，澳門東源同鄉會始終堅持以“愛國愛澳愛鄉”宗旨，廣泛團結旅澳鄉親和會員，全力支持特區政府依法施政，積極參與東源經濟社會建設。向大、中、小學生頒發獎學金，以及向長者贈送中秋月餅。 澳門菱峯慈善會主辦，“團團圓圓慶中秋”活動於日前在會址舉行，逾一百二十名長者及會員參加。 活動中，慈善會成員及多名會員獻唱懷舊金曲，表演舞蹈及武術節目，場面歡樂熱鬧。 菱峯慈善會代表表示，慈善會以助學扶貧慈善為目標，以愛、奉獻精神為根本，致力開展扶貧、助學、援助、救災、敬老、關懷等各項活動。希望通過活動引起社會更多關注長者的生活，推動社會關懷互助風氣，以“人人用心愛”的宗旨，宣揚仁愛。該會代表及成員向長者致送中秋禮物及祝福。 工聯真菁育苗同學會日前組織數十名義工舉辦“流心奶皇月餅DIY”工作坊活動。讓學生及青年人了解和製作月餅的手藝，並把月餅派送到松栢之家和健頤長者服務中心。 本次活動作為“真菁愛心工作坊”的系列活動。工聯總會副理事長李靜儀、梁孫旭，真菁會長周子康、真菁副會長莫智康前住松柏之家；工聯總會副會長馮家輝、林倫偉、副理事長李振宇，真菁秘書長劉加美、理事吳家樑等到望廈老人中心，與長者猜燈謎、集體遊戲以及大合唱。周子康期望政府不斷優化長者政策，讓他們的晚年生活無後顧之憂。 澳門褔善會會長湯玉嬋率領理監事及義工日前拜訪慰問長者。是次活動分別拜訪“青洲老人中心”及“黑沙環天主教牧民中心──耆康園”，兩個中心分三場共有一百名長者出席。 主辦方活動中除派抗疫褔包麵食禮品、一起唱歌外，還教導他們用消毒液搓擦雙手及戴好口罩等常識，令他們感受到關愛與溫暖，為營造和諧穩定的社會起到積極作用。出席活動還有褔善會理事長黃佩群、秘書長黃佩菁、副會長鄭綺文及何潔儀、副秘書長黃嘉欣及義工等。 隆都同鄉會探訪創會理監事 【本報消息】今年國慶日適逢中秋正日，澳門中山隆都同鄉會日前專程探訪多位創會的資深理監事，同申慶祝佳節。 會長盧世豪表示，隆都同鄉會自一九八二年成立至今，秉承團結鄉親、服務社群、造福桑梓的宗旨，堅持做好團結鄉親、獎學敬老、扶貧助困、慈善公益等多方面活動，會務工作不斷完善，會員規模不斷壯大，得到澳門和家鄉各界的廣泛好評。這些成績的取得，有賴全體理監事同心同德和無私奉獻，特別是一眾創會的資深理監事，為隆都同鄉會發展打下堅實的基礎。 他提到，今年適逢“雙慶”，特意組織專人為資深理監事送上節日的祝賀和問候，希望他們感受到同鄉會大家庭的溫暖。同時，期待現屆理監事不忘初心，讓隆都情誼薪火相傳。 隆都同鄉會委派副總監劉大慶，副會長梁偉權、李子華、薛興華、楊桂珍，副理事長陳若時、楊國傑、李麗玲等，先後探訪蕭紅江、蕭文龍、林淑萍、蕭潮四位資深理監事，為他們送上應節果籃和慰問金以表心意，期間共話桑梓，共敘鄉親，氣氛融洽溫馨。 事隔十二年無資產抵押 非凡航空貸款難追回 【本報消息】行政長官賀一誠昨被問到非凡航空的貸款能否追回時回應稱，非凡事件已經過了十二年，無論是法院判決抑或廉署報告都清楚寫明，因為沒有資產抵押，故難以追回。 廉政公署早前完成“關於工商業發展基金向非凡航空發放借貸援助的調查報告”，廉政專員陳子勁表示，今次報告檢討了以往做法，藉是次經驗有助政府將來做好改革。不管時間過去多少，透過報告反映都有其正面作用。 多年來仍然無法追回兩億貸款，政府還可做什麼？陳子勁稱，報告提到當年政府嘗試多種可行方法積極追討，體現政府積極的態度。但考慮到當時的條件、破產公司的財政狀況等未能追回。事隔多年還能否追討？“相信大家有好大疑問，但是否絕對無希望追回？世事無絕對。但相信比較困難。”強調透過調查非凡事件，仍能彰顯公義，需要修正事件顯露的弊端。 廉署工作要更靈敏 坊間有指廉署在非凡事件中顯得被動，太遲介入。陳子勁表示，該案件二○一八年移交廉署，透過經驗總結認為有自我檢討的必要及空間。將來遇到同樣情況時需要更加靈敏及更快反應，積極回應社會要求。 工會法待社協討論後諮詢 【本報消息】行政長官賀一誠受訪表示，澳門“國安法”已經通過超過十年，目前未詳細研究倘需的補充或修改，若有下一步消息會諮詢。 被問到“工會法”進度？賀一誠稱，勞工局已完成“工會法”公開諮詢文本，但須經社協討論後再向社會公開諮詢。承認公開諮詢的日程會較原先預計遲了一些。 廉署調查拆六國飯店有否違規 【本報消息】社會質疑六國飯店涉違法拆卸。廉政專員陳子勁昨指出，廉署收到團體及居民的投訴並已開立卷宗。由於開立時間尚短，調查需時，將循行政違法、拆建過程有無失當去考慮。被問到六國飯店已拆掉廉署才介入會否太遲？陳子勁稱，“永遠冇話遲，不做就遲。” 傳媒問及七十四宗土地批給失效案件分析進度，陳子勁回應表示，廉署正積極跟進，相信很快會完成分析工作，進展順利。撰寫報告已接近尾聲，因校對、翻譯需時，爭取今年內完成報告。青洲坊防火閘的調查也到尾聲。 前工務局長賈利安捲入官非，陳子勁稱，個別具體案件不便透露。強調廉署會認真、嚴肅處理，不敢怠慢，保證做好工作。案件是繼續調查或已歸檔不予置評。 疫下慳啲使 官方酒會移主場 特區慶祝國慶酒會昨日首度移師中國與葡語國家商貿合作服務平台綜合體舉行，一改以往特區酒會例牌選用的旅遊塔會展中心。 座落於南灣湖畔、立法會旁的中葡平台綜合體去年落成，是中國──葡語國家經貿合作論壇（澳門）固定會議場地，國家主席習近平去年十二月來澳出席慶祝特區成立二十周年系列活動期間，曾親自到場視察。惟直至昨日前，綜合體未曾舉辦過任何活動及會議。 本澳一直銳意發展會展業，以求經濟適度多元發展，但大型會展設施選擇有限，加上集中在離島區，並分佈在博企項目內，屬於政府的場地少之又少。每逢官方的大型活動，只能選擇在較為偏僻、交通又不便的“澳門蛋”舉行，否則就要租用私人場地，也是一筆開銷。多年來特區酒會例牌在旅遊塔會展中心舉行，正是一例。 疫情下公共財政收入大減，政府“勒緊褲頭”施政，若今後的酒會及大型官方活動由中葡平台綜合體作主場，也符合可慳則慳的原則。 本報記者 逾二十雕塑裝置以澳復古玩具蝴蝶為設計元素 國際花燈節揭幕寓明天更好 【本報消息】第五屆國際花燈節昨開幕，超過二十件以“明天更好”及“歡聚在一起”為題的大型發光燈籠雕塑裝置，在壹號廣場及永利澳門對出海濱長廊亮相，為中秋佳節增添歡樂氣氛。展期至本月三十一日。 澳門壹號廣場、永利澳門及澳門國際品牌企業商會主辦國際花燈節。開幕式昨傍晚六時半舉行，中聯辦經濟部處長左祥華、旅遊局長文綺華、市政署市政委員會主席戴祖義、葡萄牙駐澳門及香港總領事館總領事歐冠溢、國際品牌企業商會主席蕭婉儀、永利澳門副主席兼執行董事陳志玲、壹號廣場市場部經理劉桉妮，建築師及藝術家馬若龍擔任嘉賓。 與光影節相輝映 文綺華致詞表示，國慶日適逢中秋節，本世紀只會出現四次，是雙重喜慶的日子，今年花燈以澳門經典復古玩具和蝴蝶為設計元素，與剛啟動的光影節互相輝映。利用繽紛色彩點亮澳門，同時細說澳門文化故事。 文綺華並稱，內地九月廿三日起恢復辦理內地居民來澳門旅遊簽註，當局已重新啟動吸引客源。在特區政府、業界和市民努力下，澳門已做好準備，再次迎接旅客到訪。多項展現澳門獨特中西文化特色的活動盛事陸續推出，旅遊局將繼續與社團、媒體及各平台合作，宣傳澳門安心宜遊的形象，並持續採取防控措施，為市民及旅客提供安全的出遊環境。 採用太陽能裝置 花燈由馬若龍策劃及設計，一系列復古玩具花燈寓意“擁抱昨天的美好，迎接更華麗繁盛的未來”，蝴蝶及熱氣球造型花燈寓意“歡樂滿載、幸運美滿”。馬若龍介紹，今屆永利花燈採用太陽能裝置，結合藝術，希望為環保出一分力。同時邀請了多屆“永利盃全澳小學生國情繪畫大賽”得獎學生參與創作，透過畫筆表達迎接國慶及中秋的喜悅心情。 中華當崛起 日月共乾坤 民族舞劇《醒·獅》獻演祝國慶 【本報消息】文化局、中聯辦宣傳文化部主辦的“慶祝中華人民共和國成立七十一周年及濠江月明夜文藝晚會——大型民族舞劇《醒 · 獅》”昨獻演，由廣州歌舞劇院創作演出，圍繞“醒獅醒國魂，擊鼓振精神，中華當崛起，日月共乾坤”理念，推廣醒獅技藝，場面浩大。 該劇昨日晚上七時半假文化中心綜合劇院上演，以一八四○年西方列強軍艦封鎖廣州珠江口，第一次鴉片戰爭爆發，中國逐步淪為半殖民地半封建社會的背景，並藉由講述三元里抗英鬥爭中華兒女首次自發反抗外國殖民侵略的鬥爭，表現中國人民不畏強暴，敢於同西方列強拼搏的鬥爭勇氣，創作以“醒”為神，“獅”為形，融匯南拳、南獅、木魚說唱等嶺南文化精粹，同時營造極具視覺衝擊的舞台效果，大膽創新。 戰勝疫情海報展敬抗疫人員 【本報消息】為慶祝國慶七十一周年，以及澳門回歸祖國廿一周年，澳門國際文化創意產業協會昨舉辦以“戰勝疫情”為主題的海報展，展出超過一百幅來自不同國家及地區的團體、企業、藝術家、設計師、大專院中小學校代表優秀作品。藉此讓大衆共同欣賞學習，培養個人藝術設計天賦。展期至本月十五日。 開幕式昨日上午十一時半假塔石藝文館舉行，中聯辦宣傳文化部文體處副處長辛建波、教青局處長梁怡安、立法議員黃潔貞、粵華中學校長助理伍助志、珠海市動漫協會會長趙飛、澳門漫畫從業員協會會長黃天俊、廣東省動漫行業協會代表黃坤勝、藝人張宇敏，在國際文化創意產業協會會長陳家寶陪同下主禮儀式。 陳家寶表示，該會由一四年創立，旨在促進文創者與各地區人士合作和聯繫，共同擴大本土文化創意產業，以及培養相關人才為宗旨，為此提供不同相關機構交流與合作機會。同時增進內地與本澳文創者交流，使本澳文化創意產業化，並不斷進步。 今年向全球徵集原創作品，以海報形式創作傳達愛國愛澳精神。因應新冠肺炎疫情，今年海報展主題為“戰勝疫情”，希望向前線抗疫人員致敬和表達謝意，並向社會傳遞正能量。是次海報展共展出一百多幅作品，大部分來自本澳大專院校和中小學學生，以及內地藝術家和廣告企業，亦有來自香港、台灣及馬來西亞等。下一場展覽將於橫琴區作選點，希望展出更多不同作品。 各地參演團隊逾二千人 中華一家親中秋線上會今首播 【本報消息】“中華一家親”海峽兩岸暨港澳地區各民族中秋晚會，自二○一二年起連續第九年在澳門舉辦，今年由於新冠肺炎疫情影響，主辦團體中華民族團結促進會安排以“同胞心連心”為主題的“庚子年 · 海峽兩岸暨港澳地區各民族中秋線上演出會”，於今晚（十月二日）九時澳廣視綜藝頻道首播。 該會成員在籌組活動期間，先後拜訪中央駐澳聯絡辦公室台灣事務部、協調部，海協會駐澳辦事處、市政署以及澳廣視，聽取意見及確定具體事項。得到台務部長徐莽、協調部副部長盛剛、海協會駐澳辦事處主任王剛等指導和勉勵，肯定活動在過去多年愈辦愈有特色，同時寄望該會把“中華一家親”活動繼續辦好、辦下去，維繫好與兩岸各民族單位和人士的長久友誼與合作。 品牌活動 活動組委會召集人何敬麟表示，由國家民委和國台辦發起的兩岸各民族友好交流重要品牌活動，是台灣原住民少數民族同胞與港澳同胞“每年之約”，今年參演和製作的團隊超過二千人，分佈內地、台灣，以及香港、澳門，短時間內完成貴州從江職業技術學校一千六百多名師生合唱侗族大歌，中央民族大學音樂學院一百多名師生表演，以及台灣原住民音樂創作錄影，香港、福建、青海師範大學和玉樹州民族中學、深圳少數民族同胞等配合錄製，還有澳門音樂人和青少年朋友的參演。 該會會長黃永謙表示，感謝澳廣視和澳門基金會長期對活動給予贊助和大力支持，也感謝各參演單位，在抗疫期間，克服困難，把節目拍攝下來，為大家呈現最好的演出效果。 今年還有特備節目《我們都是一家人》兩岸同聲大合唱，希望觀眾在欣賞表演時，能體會到各族同胞對澳門這平台的支持和信任，在中秋佳節，共同把最好的節日祝福藉“中華一家親”活動互相傳遞。 出席相關拜訪的還有該會負責人司徒荻林、林中賢、黃義滿、林卓華、郭棟舉、冼志揚、蔡宗生、梁冠峰、林英培、馬耀良、梁仕友、李勁源、霍敏儀、區世源、陳家文等。 張司促市政署改善工程驗收 檢討白兔燈飾事件冀採購本地設計 【本報消息】早前有居民在使用黑沙水庫的兒童洗手台設施時，被剝落的雲石磚擊中，造成腳部骨折。行政法務司司長張永春昨向受傷居民致歉，指事件反映市政署的驗收工作有不足之處，已要求市政署針對二百五十萬元以下類似工程的驗收及監察制度，在短期內提出改善報告。 向傷者致歉 張永春表示，市政設施應該是方便居民安全使用，承認是次事件反映市政署的工作有不足，市政署已即時全面巡查同類設施，大部分設施沒有問題，個別有問題的就即時跟進。初步資料認為承建商有責任，但不排除承建商會訴訟。 他指出，事件揭示市政署的公共設施或工程的驗收及監督制度有檢討及完善空間，目前市署已開展工作，稍後會向其提交詳盡報告。他又要求市署針對二百五十萬元以下類似工程的驗收及監察制度，在短期內提交具體改善的建議。 另外，早前放置在南灣的白兔中秋節系列燈飾，引起懷疑涉及侵權的爭議，市政署已即時收回燈飾，亦有傳媒報道有關設計公司打算控告市政署侵權。張永春認為，是次事件值得政府檢討，強調不論是甚麼裝飾，一定要有尊重版權的意識。未來希望在精簡費用前提下，盡量多採購本地設計，會與市政署做好這方面的工作。 氹仔徵地賠償案政府上訴終院 【本報消息】中級法院早前裁決，政府和市政署需返還回歸前逾二萬平方米被徵土地並賠償。行政法務司司長張永春表示，政府尊重法院判決，但對判決的結果有不同看法，已向向終審法院提出上訴，暫時不存在是否支付賠償的問題。 他說，政府上訴理據包括，一九一八年已經依法徵用土地並支付相關的費用，而且刊登了政府公報，故視為政府依法擁有；亦對在葡國簽署的公證書的真實性和有效性存有懷疑。 張永春指出，有關的土地在氹仔沙崗墳場對面，有葡籍人士於一九一三年辦理了相關土地的物業登記。當時的澳葡政府於一九一八年徵用了該幅土地作為靶場；該幅土地後來一直作為政府土地由市政廳使用，並在一九九四年修建了連接友誼橋的馬路。 但在一九九七年，有人在葡國簽署了一份公證書，聲稱是一九一三年物業登記上葡籍人士太太的侄子，以繼承為理由辦理了該幅地的物業登記，隨後將土地轉讓給了一家公司。他指出，有關情況在回歸前發生，回歸後特區政府已加強土地管理，盡量避免發生同類事件。 據中院裁決，前澳葡政府及前民署徵用一幅逾二萬平方米的私人農地，部分已建公路，但一直未有作物業登記，故法院裁定政府須歸還餘下未使用的土地，以及賠償一點二億元，政府已向終院提起上訴。 公僕調薪研究報告待分析 【本報消息】政府計劃於今年下半年決定公務員明年會否凍薪。張永春表示，公務員薪酬評議會已提交基本研究報告，但需要少少時間研究及分析，再與特首溝通，有結果就會盡快公佈，相信不會等好長時間。張永春有信心，今年內能落實今年度施政報告提出的部門合併。 張司：基金改善審批建議年內交 【本報消息】廉署公佈非凡航空調查報告後，於日前約見各公共基金的負責人，交流基金資助的審批及監管制度，行政法務司司長張永春列席會議。 張永春表示，希望各基金會負責人最遲於今年底前提交改善基金審批及監管制度的建議，以便完善相關的法律。 張永春表示，廉署報告對公共基金運作及資助的審批後續監督，提出具體的建設性意見，政府會即時處理和嚴謹對待。基金負責人最清楚基金審批及監察法律的不足之處或實務操件中存在的問題，希望各基金會負責人最遲今年尾提交具體的意見。政府將匯總所有意見，並跟進完善相關的法律。 他提醒各基金負責人，基金資助審批及後續監察並非等修法後才做，現時就要行使法律權限，做好嚴格審批及後續監督。 本地遊十四萬四千人報名 【本報消息】“心出發 · 遊澳門”項目九月三十日結束。旅遊局長文綺華昨總結，總共有十四萬四千人報名，正核算參加人數。 冀改變固有模式 她表示，項目整體效果非常不錯，報名人數超過十四萬。透過先後推出廿五條不同路線，發掘了很多新元素，包括休閒博企推出新活動，一些原有項目發掘新參觀方式，海上遊受追捧，直升機遊亦有機會作為觀光項目。她相信直升機公司會思考可否參考“心出發 · 遊澳門”模式，變成旅遊產品。此外，她希望改變遊澳門的固有模式，令業者有更多空間發揮創意，為本澳旅遊業增加更多新元素。 橫琴遊暫未成行 至於橫琴遊因內地未恢復跨境組團而未能成行。文綺華稱，現時通關除了要做核酸檢測，還要適應新通關模式，相比以前多了手續，都在重新適應當中，不能馬上啟動旅遊團項目。但當局會繼續爭取，做好防疫措施，令內地文化和旅遊部釋除憂慮。個人遊較易控制，團體遊有很多細節要考量。未來橫琴會是首個重要合作伙伴，尤其可發展一程多站。 國慶黃金周酒店預訂四成 【本報消息】旅遊局長文綺華表示，十一黃金周酒店預訂率約三成至四成多，相比近幾個月徘徊在個位數至約百分之十一、十二的入住率，業績較好，並將繼續加強向內地推廣澳門。 文綺華稱，黃金周越高星級酒店預訂率越高，五星級酒店預訂率有四成三。雖然與以往對比仍有距離，但已是連月來較好的業績，令人鼓舞，希望情況可逐漸好轉。由於現時只可做內地市場，當局未來的宣傳工作仍會集中在內地，包括宣傳澳門的防疫成績和安全系數，以及吸引到訪的元素。 澳大升旗祝國慶莊嚴肅穆 【本報消息】為慶祝中華人民共和國成立七十一周年，澳門大學國旗儀仗隊昨日於該校蓮花廣場舉行升旗儀式。澳大校長宋永華及衆師生出席。 儀式於早上八時正式開始。隨着嘹亮的口令，澳大國旗儀仗隊齊步穩健豪邁，正步鏗鏘有力，護着三面旗幟走向升旗台。國歌響起，中華人民共和國國旗、澳門特別行政區區旗、澳大校旗隨着旋律迎風展開，在場所有觀禮人員一同抬頭，向着冉冉升起的旗幟致敬。 儀式後，在場觀禮的嘉賓、老師和學生有序前往升旗台前合影留念。應澳門特區政府防疫要求，現場所有觀禮人員均於檢測體溫後才進入會場，同時戴上口罩和保持距離。 科大高管碩士班迎六十新生 【本報消息】澳門科技大學於九月十六日下午在N座N室舉行二○二○級秋季高級管理人員工商管理碩士班EMBA開學典禮暨企業家主題分享會。二○二○級秋季EMBA班迎來六十名該課程首屆新生，新生來自全國各地，包括企業管理者、職業經理人、自主創業者，從事行業涉及金融、教育、法律、建築、醫藥、零售、服務業等。 澳科大EMBA課程配置頂尖師資隊伍，採用中英雙語教學，將世界最前沿的管理知識與中國本土企業管理實踐經驗相融合，致力為學員提供管理教育的新標桿。 澳科大副校長兼研究生院院長龐川致辭表示，EMBA課程將提供商業課程理論框架與研究方法，帶領學員發現問題、分析問題及解決問題，希望來自不同背景的同學們增進交流，互相學習。 在企業家主題分享環節，永利澳門有限公司副主席兼執行董事陳志玲，以及澳門發展銀行執行董事兼總經理兼行長杜淼淼作為主講嘉賓。陳志玲以“展望未來，恢宏高遠”為主旨，坦言當今是一個機遇與挑戰並存的時代，商業環境存在的不確定性因素與日俱增。她與學員們共勉勇於追求夢想並分享了四點管理心得：第一，經濟調整期是企業提升自身質素的最佳時機；第二，要注重發揮團隊成員優勢；第三，要從小事做起，注重細節；第四，要信任並授權給你的團隊。杜淼淼以“數字驅動金融，創新成就夢想”為主題進行分享。她先介紹了澳門經濟和銀行業基本概況，再從數字化經營管理切入，闡述了澳門發展銀行作為一家全牌照的數字銀行法人機構，在互聯網金融產品服務的創新實踐。她提出，數字時代要加強金融服務的連接融合，期望藉澳科大的價值網絡，與EMBA學員有更多深入的交流與業務合作。 出席活動的嘉賓還有澳科大副校長唐嘉樂、副校長兼商學院院長蘇育洲講座教授，中國工商銀行（澳門）股份有限公司業務一部副總經理梁鳳開、澳科大商學院執行副院長盛妮教授、商學院EMBA項目協調陶向南教授及研究生院院務主任馮鈞國等。 滬澳聯新生營領略上海文化 【本報消息】由上海高校澳門學生聯合會主辦，澳門中華新青年協會協辦，高等教育基金、澳門基金會資助的“‘申’生有你，風雨‘滬’航”——二○二○阿拉新生O’CAMP日前假上海舉行。通過是次活動，讓一衆大學新生初步領略上海文化，同時營造舒適的交流氛圍，認識其他在滬澳生，搭建新舊在滬澳生間的溝通橋樑，互相幫助，共同進步。 是次新生營為期兩天，第一天為破冰及集體遊戲環節。大會以分組形式把參加者分成六組。每組組內分別進行一個簡明易玩的破冰遊戲——“試吓打招呼”，讓參加者互相有初步的認識和互動；隨後在別墅區內的大草坪進行“心有千千結”、“同生共死”、“放風箏”等一系列集體遊戲，令參加者在遊戲中培養出彼此間的合作性及逐步形成團結互愛的集體意識。同時，由於是次活動受疫情影響，大會採取了一系列防疫措施，嚴格遵守有關防疫工作；晚上則為自由活動時間，所有參加者在共進晚餐後，各自開展迎新團康活動，進一步認識及交流。 第二天為戶外城市定向，參加者以組為單位，在陸家嘴和外灘等上海繁華地段進行定向活動，各組在前往指定地點完成指定任務的同時，能一睹上海的著名地標及建築。組員間團結互助，每組均順利完成定向比賽，組員間變得更有默契，並留下了一段讓人回味無窮的回憶。是次新生營在歡呼笑聲中圓滿落幕。 新生城市定向營不僅是該會全年活動的開始，也是每年必不可少的大型活動，為在滬澳生提供一個重要的互動交流平台，既能增進同一所高校在滬澳生間的感情，亦促進了不同高校間的聯繫及交流。 暨大文化傳承創新中心獲認可 【本報記者廣州一日電】由暨南大學牽頭，協同澳門大學人文學院等單位，組織申報的“中華文化港澳台及海外傳承傳播協同創新中心”，近日獲教育部認定為省部共建協同創新中心。 該中心協同單位還包括中國新聞社、華僑大學、香港浸會大學中文系等，是繼“鑄牢中華民族共同體意識研究基地”設立後，暨大國家級科研平台的又一突破。 二○一八年習近平總書記視察暨南大學，指示學校“把中華優秀傳統文化傳播到五湖四海”，之後該校牽頭改組成立“中華文化港澳台及海外協同創新中心”。中心理事長和主任由暨南大學黨委書記林如鵬教授擔任。 中心聚焦於中華文化的內涵、傳承傳播的受衆、傳承傳播的途徑三個密切關聯的研究方向，旨在破解中華文化在港澳台及海外地區“有理說不出”“說了傳不開”“傳了不入流”的困境，務求解決中華文化傳承傳播過程中存在的實際問題。 在港澳台僑、海外華人和其他外籍人士中傳承傳播中華文化，並加以深入研究和適時引導，不僅是堅定文化自信和實施文化興國戰略的需要，而且有助於增強港澳台新生代同胞的四個認同。同時，也有助於維繫全球華人共有的精神家園，在海外培育更多知華、友華的青年領袖和社會精英。 協同創新中心是“二○一一計劃”的重要載體。該計劃全稱高等學校創新能力提升計劃，是國家在高等教育系統的又一重大戰略舉措。協同創新中心分為面向科學前沿、面向文化傳承創新、面向行業產業和面向區域發展四種類型。“中華文化港澳台及海外傳承傳播協同創新中心”屬於面向文化傳承創新類型。 疫情常態化反思高科技資源開發利用 何潤生：促灣區產學硏融合 【本報消息】經歷了新冠肺炎疫情，今年國慶節不同尋常；隨着祖國進入新冠疫情常態化防控階段，受到衝擊的經濟正穩步復甦。全國政協委員何潤生表示，面對疫情，祖國經歷了一場艱苦的歷史大考，人民為抗疫作出巨大的犧牲與貢獻，頁頁光輝將永續留存。 何潤生表示，祖國的防疫成果，證明“人民至上、生命至上”的抗疫擔當，回顧抗擊新冠疫情的艱苦之路，我國堅持以科學為先導，廣大醫護為守衛祖國，以白衣為甲、逆行出征；人民緊守自身崗位，積極配合疫情防控，團結一致，對全球公共衛生危機盡責。 支援國際防疫 疫情至今，中國出口防疫物資持續增長，除了向世界衛生組織通報疫情防治工作進度，亦與國際建立定期溝通交流機制，探討新冠肺炎診療技術、各項問題及救治手段，積極向全世界介紹中國的抗疫經驗，各類視像會議覆蓋二百多個國家和地區；中國新冠病毒疫苗早前亦展開三期臨床測試，祖國在做好國內疫情防控的基礎上，盡力為國際社會提供了支持和幫助，樹立榜樣，堅定全球抗疫的信心。 當前，中國無論是經濟、投資、金融、科技創新等階段都進入新階段、新水平，習近平主席特別在今年的新春賀辭中提到，去年，中國航天事業取得巨大成就，今年成績更進一步。包括：長征五號系列火箭先後成功發射、新一代載人飛船成功着陸、北斗三號衛星亦順利進入地球同步軌道，標誌着北斗系統“三步走”規劃圓滿成功；“嫦娥四號”任務團隊優秀代表，榮獲國際宇航聯合會本年度最高獎“世界航天獎”等，充分說明中國科研進入世界先進行列。我國科學家將以智慧和汗水，與世界精英同向廣袤深奧的領域進發，夜幕中熠熠生輝。 審視多元產業 何潤生表示，澳門疫情防控穩定，全國來澳自由行重開，均有賴祖國對澳門防疫的支持和肯定；疫情亦讓特區深刻反思，審視多元產業發展的重要性，冀藉“粵港澳大灣區”的東風，政府加強對灣區高端科技優勢資源的開發利用，促進學術、研發及生產的深度融合，培養科技與綜合性人才，構建創新平台與世界前沿科技並肩，在祖國的帶領下，應對全球挑戰，為人類文明福祉作貢獻。 出行前準備紙質核檢免隔離 民眾建澳籲遵內地防疫措施 【本報消息】隨着本澳及內地疫情逐漸緩和，各省市赴澳自由行簽註及通關措施逐步恢復，適逢國慶及中秋假期，不少居民選擇到內地旅遊或探望家人。 鑑於部分地區防疫政策仍未鬆懈，民眾建澳聯盟副理事長歐陽廣球呼籲居民配合內地防疫政策，準備好充足的文件以備查驗，如遇困難，應即時向本澳政府部門或澳門中聯辦反映求助。 歐陽廣球表示，該會近日接獲個別返回內地的居民求助，指當地防疫政策嚴格，從飛機抵達到入境通關手續，查驗資料花費數小時；且如若提供不到符合當地要求的資料，則可能被要求集中隔離，深感不解與無奈。 歐陽廣球指出，儘管國務院已於八月十二日發出公告，從澳門進入內地人員不再實行集中隔離醫學觀察十四天措施，但入境人員仍需提供符合要求的證明文件，才可免除隔離。 此外，內地省市眾多，未必各處的防疫政策及時根據國家公告變更，他呼籲本澳居民到內地時，如遇到被要求隔離的情況，應耐心與當地工作人員溝通及確認，並提醒民眾在出行前，準備妥當所有能符合要求的證明，特別是紙質核酸報告；倘居民有疑問，可即時致電本澳政府部門或中聯辦求助，切勿發生衝突。 他指出，本澳及鄰近不少省市疫情雖已進入常態化，但仍處於共同防疫時期，切勿掉以輕心，且全國各地防疫措施並非完全統一，部分地區有較為嚴格的防疫規定。 歐陽廣球建議，居民出行前，應先了解目的地防疫措施，在抵達後遵守相關疫情防控要求，並提高自身防疫意識，保障個人及公共安全；特區政府亦需加強與內地各省市聯繫，及時通報最新情況，為本澳居民提供往返內地的防疫訊息，以便有需要的民眾提前做好準備。 電召的士騎士雨中相撞一傷 【本報消息】林茂海邊大馬路昨凌晨發生一宗電召的士與電單車相撞的交通意外，意外中，電單車男司機受輕傷，包紮後拒絕送院，意外起因待調查。 昨日凌晨兩時許，本澳市區滂沱大雨，一輛電召的士駛至林茂海邊大馬路近加德士油站調頭，突與對面線的一輛電單車在雨中相撞，男司機左腳受輕傷。 其後，救護車到場為其包紮，男司機拒絕送院，雙方司機均通過酒精測試。警方指，意外起因疑是電召的士在調頭時，無看到對面線電單車引致，確實起因有待進一步調查。 新聞特搜 睡眠現象咪睇小 根治隱患鼻鼾消 旅區復甦嚴防疫 各界堅守齊得益 △國慶節假期開始，不少家長計劃帶子女往公園“放電”，經過一天玩耍，若孩子晚上睡覺扯鼻鼾，別以為是瞓得香、睡眠質量好，隨時反映出健康問題。消息指，兒童扯鼻鼾有可能不是太累，而是“兒童阻塞性睡眠呼吸暫停”（又稱OSA）。 該症狀是指患者在睡眠期間出現上氣道完全或部分梗阻，引起氣體交換異常，干擾兒童的正常通氣和睡眠結構而引起一系列生理病變。嚴重患者在成年後，易發夜間高收縮壓、高血壓病，且其夜間收縮壓下降幅度減少。兒童患者中高危因素包括腺體樣、扁桃體肥大；另外，肥胖也是OSA危險因素，若家長發現兒童晚上習慣扯鼻鼾，可到醫院檢查及治療。 △本澳在上月廿三日恢復全國自由行簽註，“十一黃金周”將成澳門防疫工作大考，雖然受檢疫措施影響，人流相信與過往有差距，但仍不能掉以輕心，在旅遊區更要打醒十二分精神，做好個人防護。 每年“十一黃金周”期間，旅遊區都會迫滿旅客，今年正值非凡之年，人流難免與過往存落差，但市面人流略有增加，足見內地及澳門的往來已逐步回復。雖然人流未如預期，內地防疫工作亦見成效，不過，人員流動始終增加病毒傳播風險，還望社會各界繼續堅持，做好防疫。 近日有消息指，鄰埠有意就“免隔離”事宜與澳門商討，居民希望政府作好全盤考慮，畢竟對岸仍有零星個案，難免讓人感到憂慮。 的士疑機件故障冒煙 記者拍攝遇保安阻止 【本報消息】路氹連貫公路某酒店門外的士落客區昨日下午發生一輛的士疑冒煙事故，消防員接報到場處理，無人受傷，不排除機件故障引致。 昨日下午約二時，消防員接報指上址有的士疑冒煙，立即派員到場處理。期間，有人曾使用滅火筒向冒煙的車頭灌救。消防員到場後，的士車頭沒有再次冒煙，故毋須開喉灌救。 事故後，本報記者到場採訪拍攝，遭到保安人員阻止。一名保安員與相信是上級人員通電話時，保安員收到對方指示，要求其阻止記者拍攝，但保安員隨即詢問對方“如何阻止”？ 隨後，一名相信是經理的人員要求記者出示工作證，記者指工作證放置在電單車頭盔箱，要求其跟隨到車上拿取，但遭該經理拒絕。 居民疑跨境置業遇騙 【本報消息】有本地居民涉購買中山“樂星城”商舖後，遇上商業糾紛，昨日有數名業主先後到政府總部及澳門中聯辦遞信，希望協助解決本地居民跨境投資置業問題，保障消費權益。 代表霍小姐聲稱，今次跨境投資涉近百名本澳居民，涉及金額逾一千萬人民幣。他們早前向內地公安部門舉報，案件目前仍在內地法院審理，至今未有判決，有感等待訴訟程序漫長；對不少已退休或面臨退休的苦主構成擔憂，恐未來生活沒有保障。期望現屆政府及澳門中聯辦正視及協助解決及追討損失。 她稱，多名業主於二○一六年在中山向當地房地產購買商舖，對方在兩年前仍未按買賣合約如期完成辦理物業證明及交舖，懷疑受騙。 老翁疑跌倒傷頭 【本報消息】提督馬路近中星商場附近，昨有老翁疑跌倒頭破血流，需送院治理，意外起因待查。 昨日上午約十時半，警方接報，羅白沙街近中星商場有人受傷，消防員到場發現一名老翁頭破血流，隨即幫其包紮後送院治理。 經警員了解，懷疑有人在附近排隊買飯期間，疑突然跌倒地上，頭部受傷流血，有人見狀報警處理。 讀者捐款 【本報消息】本報收到熱心讀者捐款，有心人二百元，捐予紅十字會。本報將於日內轉交受惠機構。 穗農局京東簽協議爲生產基地賦能 粵港澳大灣區菜籃子啓動 【本報記者廣州一日電】粵港澳大灣區“菜籃子”暨廣州現代農業嘉年華今日在天河體育中心開幕，現場除展示大灣區特色“菜籃子”產品外，還有醒獅、紅歌演唱、旗鼓舞蹈、武術、剪紙、雕刻等鄉村文化藝術表演，並加入廣州名特優農產品慈善拍賣會，有壹號土豬、鱘龍魚、玫瑰柑、遲菜心等參與，吸引不少市民和遊客前往“尋寶”。 幫助產地農業升級 開幕式上，廣州市農業農村局與京東集團簽署《共同推進粵港澳大灣區“菜籃子”工程合作框架協議》，雙方共同為粵港澳大灣區“菜籃子”生產基地全面賦能，在數字農業基地建設、電商品牌旗艦店、冷鏈物流服務、助農扶貧等領域全面合作，助力優質、安全、惠民的粵港澳大灣區“菜籃子”走進千家萬戶。 市農業農村局表示，將授權符合資質條件的運營團隊使用粵港澳大灣區“菜籃子”標識，並在京東線上平台開設粵港澳大灣區“菜籃子”品牌旗艦店。京東集團表示，將通過一體化服務爲供應鏈、物流、金融、大數據等全產業鏈賦能，包括建設數字農業基地、打造電商物流服務中心、定制供應鏈等，促使生產基地及加工企業投入產出的最大化，幫助產地農業產業升級，助力粵港澳大灣區“菜籃子”構建規模化、品牌化的現代農業產業體系。 展中西部特色農產 嘉年華特設農業校企合作成果展，二百三十二個作物品種、四萬七千五百個單果組成瓜果長廊，包括粵旺集團與廣州市農科院、廣州果樹研究所和華南農業大學深度合作開發的番石榴、木瓜、蛇瓜、肉桂、玉米、茄子、芋頭、生薑、基培蔬菜新品種，具有高產、抗病蟲害的穩定狀態。 我國中西部地區的特色農產品八月瓜、火參果、紅心獼猴桃、黑老虎、黃金貢柚、血橙、冬桃、紅美人、陽關玫瑰、黑手指、紅手指、金手指等經濟作物也在展覽中出現，共計五十二個品種，大多經濟價值高、綠色健康，深受消費者喜愛。展覽還展出來自貴州、湖南、四川、新疆、黑龍江、雲南等十四個省區的一百三十六件扶貧產品。 港澳台青年了解南沙發展 【本報記者廣州一日電】“港澳台青年共聚灣區南沙 月圓時節同迎祖國華誕”中秋團聚活動，日前在廣州南沙舉行。三十多名在南沙實習實踐、就業創業、安居置業的港澳台青年代表參觀南沙發展，並在南沙區政府舉行交流座談會。澳門青年代表分享南沙工作經歷和感受。 堅定扎根南沙信心 活動由廣州南沙海外聯誼會和南沙區青年聯合會合辦，旨在今年疫情防控常態化形勢下加強關懷在南沙創新發展的港澳台青年，進一步加深港澳台青年了解與認識南沙，增強對南沙認同感、歸屬感和獲得感，堅定扎根南沙信心與決心。 三十多名港澳台青年中，既有參與南沙“百企千人”實習計劃的港澳台實習生代表、港澳台青創企業代表、在南沙居家置業的港澳台青年代表，也有在南沙區商務局、產業園管理局、國匠麥家榮（南沙）聯營律師事務所等單位就業的港澳台青年代表。 在南沙明珠灣起步區，港澳台青年代表參觀金控大廈，於廿三樓鳥瞰靈山島尖，了解明珠灣區塊發展及醫療、教育資源配套。在廣東方緯科技有限公司了解最新智能交通核心技術及產品、服務。 南沙就業正確選擇 座談會上，港澳台青年觀看“灣區啟夢港”廣州南沙新區支持港澳青年發展全方位一站式服務平台宣傳視頻。之後，四名代表發言分享在南沙實習實踐、就業發展、創新創業、居家置業等，其他代表也互動交流。 在南沙產業園管理局工作的澳門青年劉延鑫表示，南沙作為港澳台青年在內地及大灣區就業的起點，自己在此就業是非常正確選擇。南沙為致力在內地就業、融入大灣區的港澳台青年打開一扇窗，在這裡可完成零到一的突破。“港澳青創三十條”實現食住行全覆蓋，多項補貼體現南沙政府重視港澳青年。 在南沙能結識到很多志同道合、同樣來自港澳的朋友，消除隔閡。入職後發現南沙存在很多優勢，如交通方便、環境優美、生活成本適中，幸福感也明顯增強。未來將會“幹事實、謀發展”，只爭朝夕、不負韶華，把自己轉變為優秀人才。 今明有陽光 【本報消息】氣象局預測今日多雲，部分時間有陽光，吹三至五級東至東北風及有陣風。氣溫為攝氏二十五至三十度，相對濕度百分之七十至九十。 路邊、一般地區空氣質量普通，高密度住宅區空氣質量良好至普通。沿海地區吹三至五級東至東北風及有陣風，視野平常。 預測明日天晴，部分時間多雲，吹三至四級偏東風。氣溫介乎攝氏二十五至三十一度，相對濕度為百分之六十至九十。 昨日大致多雲，有幾陣驟雨。氣溫為攝氏二十五度至二十七度。昨日錄得最高紫外線指數為四點六，平均為一點九，強度屬於低。 拒絕山寨 鼓勵原創 對於早前設置南灣的白兔中秋節系列燈飾，引起侵權爭議。政府官員昨再度回應，直指不論是甚麼裝飾，一定要有尊重版權的意識。近年政府部門人員設計或外判飾燈裝置也曾爆出“撞樣”事件，反映了部門在審查或處理有關工作上存在意識不足或漏洞。 每逢節慶，小城多處廣場、休憩區等公共地方張燈結綵，加上配合節日主題的燈飾，讓居民和旅客更感節日的歡愉。早前在南灣出現白兔燈飾，被人懷疑竊用意大利設計師在內地發佈的“兔子和月亮”造型燈飾，對比兩處照片，不少人感到高度相似。事發後，市政署即時更換有關燈飾，並向承造商跟進了解。據報有關設計公司擬控告有人侵權。 雖然燈飾安裝工程由市政署外判，但承投文件如何陳述，外人不得而知。作為委託的一方，審查和監督外判工程的出品或質量，責無旁貸。到底是制度漏洞或人為疏忽，值得檢視。 無獨有偶，年前中秋節在議事亭前地搭起一隻“大白兔”，也被設計界質疑與行內的某兔形燈具產品驚人相似。戶外燈飾、部門出品物、海報之類，主要用於宣傳和吸引目光，放置地點多是小城人氣最盛的中區或旅遊景點，居民、旅客“打卡”拍照，網上散播迅速，若涉及抄襲，不僅貽笑大方，更隨時被追究。 近年澳門的中秋燈飾，除了採用傳統的花燈設計，也有另類造型，一反傳統的簡潔明亮的設計，確實新穎吸引，也讓傳統節日融入更多現代化的元素。主管相關工作的部門原意雖好，但政府部門的出品或委託之物疑似侵權或抄襲，在保護知識產權意識高漲的今天，令政府相當尷尬。 網絡資訊無遠弗屆，設計、商標、產品很容易“你中有我，我中有你”，甚至在網上幾經轉折，往往出處不明，故使用設計物須十分小心。對於今次事件，政府部門除了檢討制度或審查程序，明確不可使用侵權物品外，也可考慮更多向本地徵集作品，鼓勵和扶持本地設計和創意，也避免同類情況再發生。 夏 耘'"
            ]
          },
          "execution_count": 11,
          "metadata": {},
          "output_type": "execute_result"
        }
      ],
      "source": [
        "len(lyrics)"
      ]
    },
    {
      "cell_type": "code",
      "execution_count": 12,
      "metadata": {},
      "outputs": [],
      "source": [
        "import tensorflow as tf\n",
        "\n",
        "# Split the text by character and fit a vectorizer on the text in lyrics \n",
        "# Therefore, the create the mapping from words to numbers\n",
        "text_vec_layer = tf.keras.layers.TextVectorization(split='character')\n",
        "\n",
        "# adapt to the text\n",
        "text_vec_layer.adapt([lyrics])\n",
        "\n",
        "encoded = text_vec_layer([lyrics])[0]"
      ]
    },
    {
      "cell_type": "code",
      "execution_count": 13,
      "metadata": {},
      "outputs": [
        {
          "name": "stdout",
          "output_type": "stream",
          "text": [
            "['' '[UNK]' '，' '。' '的' ' ' '、' '澳' '會' '一' '人' '及' '有' '門' '中' '十' '年'\n",
            " '大' '作' '“']\n",
            "['业' '与' '㗎' '〞' '┼' '≥' '∞' 'Ⅶ' 'Ⅵ' '℉' '̓' 'Š' 'ě' 'č' 'ā' 'ò' 'à' 'Í'\n",
            " 'Ç' 'Ã']\n"
          ]
        }
      ],
      "source": [
        "import numpy as np\n",
        "\n",
        "# inspect the vocab\n",
        "vocab = np.array(text_vec_layer.get_vocabulary())\n",
        "print(vocab[:20])\n",
        "print(vocab[-20:])"
      ]
    },
    {
      "cell_type": "code",
      "execution_count": 14,
      "metadata": {},
      "outputs": [
        {
          "data": {
            "text/plain": [
              "<tf.Tensor: shape=(33971086,), dtype=int64, numpy=array([115,  51, 350, ..., 255,  60,   3], dtype=int64)>"
            ]
          },
          "execution_count": 14,
          "metadata": {},
          "output_type": "execute_result"
        }
      ],
      "source": [
        "# have a look at the encoded lyrics text \n",
        "encoded"
      ]
    },
    {
      "cell_type": "code",
      "execution_count": 15,
      "metadata": {},
      "outputs": [],
      "source": [
        "# since we are dealing with text generation, we do not want to have empty string ''\n",
        "# or [UNK] to be generated, so discard these two tokens by shifting the index \n",
        "# 2 units to the left\n",
        "\n",
        "# drop tokens 0 (pad) and 1 (unknown)\n",
        "encoded -= 2  \n",
        "\n",
        "# number of distinct chars \n",
        "n_tokens = text_vec_layer.vocabulary_size() - 2  \n",
        "dataset_size = len(encoded)  "
      ]
    },
    {
      "cell_type": "code",
      "execution_count": 16,
      "metadata": {},
      "outputs": [],
      "source": [
        "def to_dataset(sequence, length, shuffle=False, seed=None, batch_size=32):\n",
        "    ds = tf.data.Dataset.from_tensor_slices(sequence)\n",
        "    ds = ds.window(length + 1, shift=1, drop_remainder=True)\n",
        "    ds = ds.flat_map(lambda window_ds: window_ds.batch(length + 1))\n",
        "    if shuffle:\n",
        "        ds = ds.shuffle(100000, seed=seed)\n",
        "    ds = ds.batch(batch_size)\n",
        "    return ds.map(lambda window: (window[:, :-1], window[:, 1:])).prefetch(1)"
      ]
    },
    {
      "cell_type": "code",
      "execution_count": 17,
      "metadata": {},
      "outputs": [],
      "source": [
        "# Sequence length\n",
        "length = 15"
      ]
    },
    {
      "cell_type": "code",
      "execution_count": 18,
      "metadata": {},
      "outputs": [],
      "source": [
        "train_index = round(dataset_size*0.8)\n",
        "\n",
        "train_set = to_dataset(encoded[:train_index], length=length, shuffle=True)\n",
        "valid_set = to_dataset(encoded[train_index:], length=length)"
      ]
    },
    {
      "cell_type": "code",
      "execution_count": 19,
      "metadata": {},
      "outputs": [
        {
          "name": "stdout",
          "output_type": "stream",
          "text": [
            "tf.Tensor(\n",
            "[[ 192   29   16  371  373  571   20  153  353  152  641 2641 1397    0\n",
            "    73]\n",
            " [  25  489  399  752  338  349  681    0  289  119 1173  522  181   47\n",
            "    17]], shape=(2, 15), dtype=int64)\n",
            "tf.Tensor(\n",
            "[[  29   16  371  373  571   20  153  353  152  641 2641 1397    0   73\n",
            "   269]\n",
            " [ 489  399  752  338  349  681    0  289  119 1173  522  181   47   17\n",
            "    83]], shape=(2, 15), dtype=int64)\n"
          ]
        }
      ],
      "source": [
        "for input, target in train_set.take(1):\n",
        "  print(input[:2])\n",
        "  print(target[:2])"
      ]
    },
    {
      "cell_type": "code",
      "execution_count": 20,
      "metadata": {},
      "outputs": [
        {
          "name": "stdout",
          "output_type": "stream",
          "text": [
            "Model: \"sequential\"\n",
            "_________________________________________________________________\n",
            " Layer (type)                Output Shape              Param #   \n",
            "=================================================================\n",
            " embedding (Embedding)       (None, None, 16)          102192    \n",
            "                                                                 \n",
            " gru (GRU)                   (None, None, 128)         56064     \n",
            "                                                                 \n",
            " gru_1 (GRU)                 (None, None, 128)         99072     \n",
            "                                                                 \n",
            " dense (Dense)               (None, None, 6387)        823923    \n",
            "                                                                 \n",
            "=================================================================\n",
            "Total params: 1,081,251\n",
            "Trainable params: 1,081,251\n",
            "Non-trainable params: 0\n",
            "_________________________________________________________________\n"
          ]
        }
      ],
      "source": [
        "model = tf.keras.Sequential([\n",
        "        tf.keras.layers.Embedding(input_dim=n_tokens, output_dim=16),\n",
        "        tf.keras.layers.GRU(128, return_sequences=True),\n",
        "        tf.keras.layers.GRU(128, return_sequences=True),\n",
        "        tf.keras.layers.Dense(n_tokens, activation='softmax')\n",
        "])\n",
        "\n",
        "model.summary()"
      ]
    },
    {
      "cell_type": "code",
      "execution_count": 21,
      "metadata": {},
      "outputs": [
        {
          "name": "stdout",
          "output_type": "stream",
          "text": [
            "Epoch 1/4\n",
            " 565942/Unknown - 6356s 11ms/step - loss: 3.8147 - accuracy: 0.3209"
          ]
        }
      ],
      "source": [
        "# Compile your model\n",
        "model.compile(loss='sparse_categorical_crossentropy',\n",
        "       optimizer='adam',\n",
        "       metrics=['accuracy'])\n",
        "              \n",
        "\n",
        "history = model.fit(train_set, validation_data=valid_set, epochs=4)"
      ]
    },
    {
      "cell_type": "code",
      "execution_count": 32,
      "metadata": {},
      "outputs": [],
      "source": [
        "song_generator_model = tf.keras.Sequential([\n",
        "    text_vec_layer,\n",
        "    tf.keras.layers.Lambda(lambda X:X-2),\n",
        "    model\n",
        "])"
      ]
    },
    {
      "attachments": {},
      "cell_type": "markdown",
      "metadata": {},
      "source": [
        "### 4.0 - Fun time\n",
        "\n",
        "Now it is the time to examine if your model can learn a thing or two from Jay Chou's song and write a song as good as him."
      ]
    },
    {
      "cell_type": "code",
      "execution_count": null,
      "metadata": {},
      "outputs": [],
      "source": []
    },
    {
      "cell_type": "code",
      "execution_count": 33,
      "metadata": {},
      "outputs": [],
      "source": [
        "def next_char(model, text, temperature=1):\n",
        "    y_proba = model.predict([text], verbose=0)[0, -1:]\n",
        "    rescaled_logits = tf.math.log(y_proba) / temperature\n",
        "    char_id = tf.random.categorical(rescaled_logits, num_samples=1)[0, 0]\n",
        "    return text_vec_layer.get_vocabulary()[char_id + 2]"
      ]
    },
    {
      "cell_type": "code",
      "execution_count": 34,
      "metadata": {},
      "outputs": [],
      "source": [
        "def extend_text(model, text, n_chars=200, temperature=1):\n",
        "    for _ in range(n_chars):\n",
        "        text += next_char(model, text, temperature)\n",
        "    return text"
      ]
    },
    {
      "cell_type": "code",
      "execution_count": 36,
      "metadata": {},
      "outputs": [
        {
          "name": "stdout",
          "output_type": "stream",
          "text": [
            "【本報消息】適逢國慶內、澳門製品樂行社會議等。 打造沿岸廣場北岸的事發生工展發展的工商更獲得獎和獲“一門較正反映減時，當時更合工本來的泊廣場建設方案的爭論元，相信澳門青年會區類費會區更加問、與廣東慧一帶擠需的水客。 燈應，若有影響，但部分發揮發展格局，新合和澳門發業經濟三成協地港澳協討海區轄區海南街路巴士站及足提電統入以電單車流立改私。 澳門發展又第一入懷懷，以及居民南岸的口岸廣場的一旅客有信息“橫琴）位。 \n"
          ]
        }
      ],
      "source": [
        "print(extend_text(song_generator_model, \"【本報消息】\", temperature=1))"
      ]
    },
    {
      "cell_type": "code",
      "execution_count": null,
      "metadata": {},
      "outputs": [],
      "source": [
        "print(extend_text(song_generator_model, \"一路向北\", temperature=0.01))"
      ]
    },
    {
      "cell_type": "code",
      "execution_count": null,
      "metadata": {},
      "outputs": [],
      "source": [
        "print(extend_text(song_generator_model, \"一路向北\", temperature=5))"
      ]
    },
    {
      "cell_type": "code",
      "execution_count": null,
      "metadata": {},
      "outputs": [],
      "source": [
        "song_generator_model.save('./saved_model/song_gen')"
      ]
    },
    {
      "cell_type": "code",
      "execution_count": null,
      "metadata": {},
      "outputs": [],
      "source": [
        "saved_song_gen = tf.keras.models.load_model('./saved_model/song_gen')"
      ]
    },
    {
      "cell_type": "code",
      "execution_count": null,
      "metadata": {},
      "outputs": [],
      "source": [
        "print(extend_text(saved_song_gen, \"一路向北\", temperature=1))"
      ]
    }
  ],
  "metadata": {
    "accelerator": "GPU",
    "colab": {
      "gpuType": "T4",
      "provenance": []
    },
    "gpuClass": "standard",
    "kernelspec": {
      "display_name": "Python 3",
      "name": "python3"
    },
    "language_info": {
      "codemirror_mode": {
        "name": "ipython",
        "version": 3
      },
      "file_extension": ".py",
      "mimetype": "text/x-python",
      "name": "python",
      "nbconvert_exporter": "python",
      "pygments_lexer": "ipython3",
      "version": "3.8.16"
    }
  },
  "nbformat": 4,
  "nbformat_minor": 0
}
